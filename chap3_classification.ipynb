{
  "cells": [
    {
      "cell_type": "markdown",
      "metadata": {
        "id": "view-in-github",
        "colab_type": "text"
      },
      "source": [
        "<a href=\"https://colab.research.google.com/github/ARKA1112/HOML_AurelienG/blob/main/chap3_classification.ipynb\" target=\"_parent\"><img src=\"https://colab.research.google.com/assets/colab-badge.svg\" alt=\"Open In Colab\"/></a>"
      ]
    },
    {
      "cell_type": "markdown",
      "metadata": {
        "id": "d25b3f8e-2638-41f2-9c85-c86e302e1f5e"
      },
      "source": [
        "#### Classification\n"
      ],
      "id": "d25b3f8e-2638-41f2-9c85-c86e302e1f5e"
    },
    {
      "cell_type": "code",
      "execution_count": null,
      "metadata": {
        "id": "52049bd3-b540-4944-8f76-54a4a032cb84"
      },
      "outputs": [],
      "source": [
        "#import the mnist dataset\n",
        "\n",
        "from sklearn.datasets import fetch_openml, load_files\n",
        "mnist = fetch_openml('mnist_784', cache=True)"
      ],
      "id": "52049bd3-b540-4944-8f76-54a4a032cb84"
    },
    {
      "cell_type": "code",
      "execution_count": null,
      "metadata": {
        "id": "9bb20813"
      },
      "outputs": [],
      "source": [
        "#to use the cached data\n",
        "from joblib import Memory\n",
        "\n",
        "memory = Memory('~/scikit_learn_data')\n",
        "fetch_openml_cached = memory.cache(fetch_openml)"
      ],
      "id": "9bb20813"
    },
    {
      "cell_type": "code",
      "execution_count": null,
      "metadata": {
        "colab": {
          "base_uri": "https://localhost:8080/"
        },
        "id": "2092299d",
        "outputId": "08e18203-ccae-446c-bf20-df265e5e7f83"
      },
      "outputs": [
        {
          "name": "stdout",
          "output_type": "stream",
          "text": [
            "________________________________________________________________________________\n",
            "[Memory] Calling sklearn.datasets._openml.fetch_openml...\n",
            "fetch_openml('mnist_784')\n",
            "____________________________________________________fetch_openml - 56.0s, 0.9min\n"
          ]
        }
      ],
      "source": [
        "mnist = fetch_openml_cached('mnist_784')"
      ],
      "id": "2092299d"
    },
    {
      "cell_type": "code",
      "execution_count": null,
      "metadata": {
        "id": "5615ddf8-3c03-438f-8477-e40d7f183971",
        "outputId": "74007131-ce8d-4e8e-dbce-6e63360164a7"
      },
      "outputs": [
        {
          "data": {
            "text/plain": [
              "(70000, 784)"
            ]
          },
          "execution_count": 38,
          "metadata": {},
          "output_type": "execute_result"
        }
      ],
      "source": [
        "mnist.data.shape"
      ],
      "id": "5615ddf8-3c03-438f-8477-e40d7f183971"
    },
    {
      "cell_type": "code",
      "execution_count": null,
      "metadata": {
        "id": "fa1af93d-28b5-4a4a-b592-8378dcce6aa9"
      },
      "outputs": [],
      "source": [
        "#separating the features and the target\n",
        "X_, y_ = mnist['data'], mnist['target']"
      ],
      "id": "fa1af93d-28b5-4a4a-b592-8378dcce6aa9"
    },
    {
      "cell_type": "code",
      "execution_count": null,
      "metadata": {
        "id": "6676ac7e-53fb-4414-a934-db4c88fe08f5"
      },
      "outputs": [],
      "source": [
        "X = X_.to_numpy()"
      ],
      "id": "6676ac7e-53fb-4414-a934-db4c88fe08f5"
    },
    {
      "cell_type": "code",
      "execution_count": null,
      "metadata": {
        "colab": {
          "base_uri": "https://localhost:8080/"
        },
        "id": "7f166f1d-e6f6-4fda-8d7f-82ad604c9070",
        "outputId": "c1326cb6-9535-430e-fec6-4f17670a49aa"
      },
      "outputs": [
        {
          "data": {
            "text/plain": [
              "array([[0., 0., 0., ..., 0., 0., 0.],\n",
              "       [0., 0., 0., ..., 0., 0., 0.],\n",
              "       [0., 0., 0., ..., 0., 0., 0.],\n",
              "       ...,\n",
              "       [0., 0., 0., ..., 0., 0., 0.],\n",
              "       [0., 0., 0., ..., 0., 0., 0.],\n",
              "       [0., 0., 0., ..., 0., 0., 0.]])"
            ]
          },
          "execution_count": 6,
          "metadata": {},
          "output_type": "execute_result"
        }
      ],
      "source": [
        "X"
      ],
      "id": "7f166f1d-e6f6-4fda-8d7f-82ad604c9070"
    },
    {
      "cell_type": "code",
      "execution_count": null,
      "metadata": {
        "colab": {
          "base_uri": "https://localhost:8080/"
        },
        "id": "b54867a6-4a82-4d65-a2a4-9dc4cda58f77",
        "outputId": "859bdf4e-c107-4e2d-e1ec-58316badc695"
      },
      "outputs": [
        {
          "data": {
            "text/plain": [
              "array([[  0.,   0.,   0.,   0.,   0.,   0.,   0.,   0.,   0.,   0.,   0.,\n",
              "          0.,   0.,   0.,   0.,   0.,   0.,   0.,   0.,   0.,   0.,   0.,\n",
              "          0.,   0.,   0.,   0.,   0.,   0.],\n",
              "       [  0.,   0.,   0.,   0.,   0.,   0.,   0.,   0.,   0.,   0.,   0.,\n",
              "          0.,   0.,   0.,   0.,   0.,   0.,   0.,   0.,   0.,   0.,   0.,\n",
              "          0.,   0.,   0.,   0.,   0.,   0.],\n",
              "       [  0.,   0.,   0.,   0.,   0.,   0.,   0.,   0.,   0.,   0.,   0.,\n",
              "          0.,   0.,   0.,   0.,   0.,   0.,   0.,   0.,   0.,   0.,   0.,\n",
              "          0.,   0.,   0.,   0.,   0.,   0.],\n",
              "       [  0.,   0.,   0.,   0.,   0.,   0.,   0.,   0.,   0.,   0.,   0.,\n",
              "          0.,   0.,   0.,   0.,   0.,   0.,   0.,   0.,   0.,   0.,   0.,\n",
              "          0.,   0.,   0.,   0.,   0.,   0.],\n",
              "       [  0.,   0.,   0.,   0.,   0.,   0.,   0.,   0.,   0.,   0.,   0.,\n",
              "          0.,   0.,   0.,   0.,   0.,   0.,   0.,   0.,   0.,   0.,   0.,\n",
              "          0.,   0.,   0.,   0.,   0.,   0.],\n",
              "       [  0.,   0.,   0.,   0.,   0.,   0.,   0.,   0.,   0.,   0.,   0.,\n",
              "          0.,   3.,  18.,  18.,  18., 126., 136., 175.,  26., 166., 255.,\n",
              "        247., 127.,   0.,   0.,   0.,   0.],\n",
              "       [  0.,   0.,   0.,   0.,   0.,   0.,   0.,   0.,  30.,  36.,  94.,\n",
              "        154., 170., 253., 253., 253., 253., 253., 225., 172., 253., 242.,\n",
              "        195.,  64.,   0.,   0.,   0.,   0.],\n",
              "       [  0.,   0.,   0.,   0.,   0.,   0.,   0.,  49., 238., 253., 253.,\n",
              "        253., 253., 253., 253., 253., 253., 251.,  93.,  82.,  82.,  56.,\n",
              "         39.,   0.,   0.,   0.,   0.,   0.],\n",
              "       [  0.,   0.,   0.,   0.,   0.,   0.,   0.,  18., 219., 253., 253.,\n",
              "        253., 253., 253., 198., 182., 247., 241.,   0.,   0.,   0.,   0.,\n",
              "          0.,   0.,   0.,   0.,   0.,   0.],\n",
              "       [  0.,   0.,   0.,   0.,   0.,   0.,   0.,   0.,  80., 156., 107.,\n",
              "        253., 253., 205.,  11.,   0.,  43., 154.,   0.,   0.,   0.,   0.,\n",
              "          0.,   0.,   0.,   0.,   0.,   0.],\n",
              "       [  0.,   0.,   0.,   0.,   0.,   0.,   0.,   0.,   0.,  14.,   1.,\n",
              "        154., 253.,  90.,   0.,   0.,   0.,   0.,   0.,   0.,   0.,   0.,\n",
              "          0.,   0.,   0.,   0.,   0.,   0.],\n",
              "       [  0.,   0.,   0.,   0.,   0.,   0.,   0.,   0.,   0.,   0.,   0.,\n",
              "        139., 253., 190.,   2.,   0.,   0.,   0.,   0.,   0.,   0.,   0.,\n",
              "          0.,   0.,   0.,   0.,   0.,   0.],\n",
              "       [  0.,   0.,   0.,   0.,   0.,   0.,   0.,   0.,   0.,   0.,   0.,\n",
              "         11., 190., 253.,  70.,   0.,   0.,   0.,   0.,   0.,   0.,   0.,\n",
              "          0.,   0.,   0.,   0.,   0.,   0.],\n",
              "       [  0.,   0.,   0.,   0.,   0.,   0.,   0.,   0.,   0.,   0.,   0.,\n",
              "          0.,  35., 241., 225., 160., 108.,   1.,   0.,   0.,   0.,   0.,\n",
              "          0.,   0.,   0.,   0.,   0.,   0.],\n",
              "       [  0.,   0.,   0.,   0.,   0.,   0.,   0.,   0.,   0.,   0.,   0.,\n",
              "          0.,   0.,  81., 240., 253., 253., 119.,  25.,   0.,   0.,   0.,\n",
              "          0.,   0.,   0.,   0.,   0.,   0.],\n",
              "       [  0.,   0.,   0.,   0.,   0.,   0.,   0.,   0.,   0.,   0.,   0.,\n",
              "          0.,   0.,   0.,  45., 186., 253., 253., 150.,  27.,   0.,   0.,\n",
              "          0.,   0.,   0.,   0.,   0.,   0.],\n",
              "       [  0.,   0.,   0.,   0.,   0.,   0.,   0.,   0.,   0.,   0.,   0.,\n",
              "          0.,   0.,   0.,   0.,  16.,  93., 252., 253., 187.,   0.,   0.,\n",
              "          0.,   0.,   0.,   0.,   0.,   0.],\n",
              "       [  0.,   0.,   0.,   0.,   0.,   0.,   0.,   0.,   0.,   0.,   0.,\n",
              "          0.,   0.,   0.,   0.,   0.,   0., 249., 253., 249.,  64.,   0.,\n",
              "          0.,   0.,   0.,   0.,   0.,   0.],\n",
              "       [  0.,   0.,   0.,   0.,   0.,   0.,   0.,   0.,   0.,   0.,   0.,\n",
              "          0.,   0.,   0.,  46., 130., 183., 253., 253., 207.,   2.,   0.,\n",
              "          0.,   0.,   0.,   0.,   0.,   0.],\n",
              "       [  0.,   0.,   0.,   0.,   0.,   0.,   0.,   0.,   0.,   0.,   0.,\n",
              "          0.,  39., 148., 229., 253., 253., 253., 250., 182.,   0.,   0.,\n",
              "          0.,   0.,   0.,   0.,   0.,   0.],\n",
              "       [  0.,   0.,   0.,   0.,   0.,   0.,   0.,   0.,   0.,   0.,  24.,\n",
              "        114., 221., 253., 253., 253., 253., 201.,  78.,   0.,   0.,   0.,\n",
              "          0.,   0.,   0.,   0.,   0.,   0.],\n",
              "       [  0.,   0.,   0.,   0.,   0.,   0.,   0.,   0.,  23.,  66., 213.,\n",
              "        253., 253., 253., 253., 198.,  81.,   2.,   0.,   0.,   0.,   0.,\n",
              "          0.,   0.,   0.,   0.,   0.,   0.],\n",
              "       [  0.,   0.,   0.,   0.,   0.,   0.,  18., 171., 219., 253., 253.,\n",
              "        253., 253., 195.,  80.,   9.,   0.,   0.,   0.,   0.,   0.,   0.,\n",
              "          0.,   0.,   0.,   0.,   0.,   0.],\n",
              "       [  0.,   0.,   0.,   0.,  55., 172., 226., 253., 253., 253., 253.,\n",
              "        244., 133.,  11.,   0.,   0.,   0.,   0.,   0.,   0.,   0.,   0.,\n",
              "          0.,   0.,   0.,   0.,   0.,   0.],\n",
              "       [  0.,   0.,   0.,   0., 136., 253., 253., 253., 212., 135., 132.,\n",
              "         16.,   0.,   0.,   0.,   0.,   0.,   0.,   0.,   0.,   0.,   0.,\n",
              "          0.,   0.,   0.,   0.,   0.,   0.],\n",
              "       [  0.,   0.,   0.,   0.,   0.,   0.,   0.,   0.,   0.,   0.,   0.,\n",
              "          0.,   0.,   0.,   0.,   0.,   0.,   0.,   0.,   0.,   0.,   0.,\n",
              "          0.,   0.,   0.,   0.,   0.,   0.],\n",
              "       [  0.,   0.,   0.,   0.,   0.,   0.,   0.,   0.,   0.,   0.,   0.,\n",
              "          0.,   0.,   0.,   0.,   0.,   0.,   0.,   0.,   0.,   0.,   0.,\n",
              "          0.,   0.,   0.,   0.,   0.,   0.],\n",
              "       [  0.,   0.,   0.,   0.,   0.,   0.,   0.,   0.,   0.,   0.,   0.,\n",
              "          0.,   0.,   0.,   0.,   0.,   0.,   0.,   0.,   0.,   0.,   0.,\n",
              "          0.,   0.,   0.,   0.,   0.,   0.]])"
            ]
          },
          "execution_count": 7,
          "metadata": {},
          "output_type": "execute_result"
        }
      ],
      "source": [
        "X[0].reshape(28,28)"
      ],
      "id": "b54867a6-4a82-4d65-a2a4-9dc4cda58f77"
    },
    {
      "cell_type": "code",
      "execution_count": null,
      "metadata": {
        "colab": {
          "base_uri": "https://localhost:8080/",
          "height": 248
        },
        "id": "11d480be-07aa-4615-815f-36d1ee8fafb3",
        "outputId": "83d3c249-8fdb-4e92-97d4-90a8fffea2e0"
      },
      "outputs": [
        {
          "data": {
            "image/png": "[encoded data removed]",
            "text/plain": [
              "<Figure size 432x288 with 1 Axes>"
            ]
          },
          "metadata": {},
          "output_type": "display_data"
        }
      ],
      "source": [
        "#Each row is has 284 features ie pixels\n",
        "#Hence we need to reshape the data to make it useful\n",
        "\n",
        "import matplotlib as mpl\n",
        "import matplotlib.pyplot as plt\n",
        "\n",
        "\n",
        "some_digit = X[0]\n",
        "some_digit_image = some_digit.reshape(28, 28)\n",
        "\n",
        "plt.imshow(some_digit_image, cmap='binary')\n",
        "plt.axis(\"off\")\n",
        "plt.show()"
      ],
      "id": "11d480be-07aa-4615-815f-36d1ee8fafb3"
    },
    {
      "cell_type": "code",
      "execution_count": null,
      "metadata": {
        "colab": {
          "base_uri": "https://localhost:8080/",
          "height": 35
        },
        "id": "8060a677-cf5d-4710-a609-211d175ac9b1",
        "outputId": "aff25705-6516-41fb-f489-186d090b4c05"
      },
      "outputs": [
        {
          "data": {
            "application/vnd.google.colaboratory.intrinsic+json": {
              "type": "string"
            },
            "text/plain": [
              "'5'"
            ]
          },
          "execution_count": 9,
          "metadata": {},
          "output_type": "execute_result"
        }
      ],
      "source": [
        "y_[0]   #The data label says us so"
      ],
      "id": "8060a677-cf5d-4710-a609-211d175ac9b1"
    },
    {
      "cell_type": "code",
      "execution_count": null,
      "metadata": {
        "id": "759fa645-e246-4cd7-b47a-e679b49272d8"
      },
      "outputs": [],
      "source": [
        "#since the label is a number but a string \n",
        "#we will convert it to a number\n",
        "import numpy as np\n",
        "y = y_.astype(np.uint8)"
      ],
      "id": "759fa645-e246-4cd7-b47a-e679b49272d8"
    },
    {
      "cell_type": "code",
      "execution_count": null,
      "metadata": {
        "id": "17285d98-5c69-4b04-a149-fcd8a33b94f9"
      },
      "outputs": [],
      "source": [
        "#Create a training and the test dataset \n",
        "#Data is already split into 60000,10000"
      ],
      "id": "17285d98-5c69-4b04-a149-fcd8a33b94f9"
    },
    {
      "cell_type": "code",
      "execution_count": null,
      "metadata": {
        "id": "27ba10e2-1fdf-4204-bb6a-6d5672cbcd89"
      },
      "outputs": [],
      "source": [
        "X_train, X_test, y_train, y_test = X[:60000], X[60000:], y[:60000],y[60000:]"
      ],
      "id": "27ba10e2-1fdf-4204-bb6a-6d5672cbcd89"
    },
    {
      "cell_type": "markdown",
      "metadata": {
        "id": "1340642f-6386-4107-8575-851b2b5624fb"
      },
      "source": [
        "#### Training a binary classifier"
      ],
      "id": "1340642f-6386-4107-8575-851b2b5624fb"
    },
    {
      "cell_type": "code",
      "execution_count": null,
      "metadata": {
        "id": "45951196-02d0-4010-9e32-d958d5817508"
      },
      "outputs": [],
      "source": [
        "#at first we will identify only 5\n",
        "\n",
        "y_train_5 = (y_train == 5)\n",
        "y_test_5 = (y_test == 5)"
      ],
      "id": "45951196-02d0-4010-9e32-d958d5817508"
    },
    {
      "cell_type": "code",
      "execution_count": null,
      "metadata": {
        "colab": {
          "base_uri": "https://localhost:8080/"
        },
        "id": "df5d5066-bc45-4b01-994c-74496dacf163",
        "outputId": "06becc6f-6d53-4240-cb7e-6f0512b4d455"
      },
      "outputs": [
        {
          "data": {
            "text/plain": [
              "60000    False\n",
              "60001    False\n",
              "60002    False\n",
              "60003    False\n",
              "60004    False\n",
              "         ...  \n",
              "69995    False\n",
              "69996    False\n",
              "69997    False\n",
              "69998     True\n",
              "69999    False\n",
              "Name: class, Length: 10000, dtype: bool"
            ]
          },
          "execution_count": 13,
          "metadata": {},
          "output_type": "execute_result"
        }
      ],
      "source": [
        "y_test_5"
      ],
      "id": "df5d5066-bc45-4b01-994c-74496dacf163"
    },
    {
      "cell_type": "markdown",
      "metadata": {
        "id": "36a5309d-5f86-4afe-a87f-5c2d890d5ebc"
      },
      "source": [
        "#### Implementing SGD"
      ],
      "id": "36a5309d-5f86-4afe-a87f-5c2d890d5ebc"
    },
    {
      "cell_type": "code",
      "execution_count": null,
      "metadata": {
        "colab": {
          "base_uri": "https://localhost:8080/"
        },
        "id": "c54e9b13-b852-47df-81a8-2efb42a77466",
        "outputId": "57f87e31-ad60-4422-e2e4-b90df486e521"
      },
      "outputs": [
        {
          "data": {
            "text/plain": [
              "SGDClassifier(random_state=42)"
            ]
          },
          "execution_count": 14,
          "metadata": {},
          "output_type": "execute_result"
        }
      ],
      "source": [
        "from sklearn.linear_model import SGDClassifier\n",
        "\n",
        "sgd_clf = SGDClassifier(random_state = 42)\n",
        "sgd_clf.fit(X_train, y_train_5)"
      ],
      "id": "c54e9b13-b852-47df-81a8-2efb42a77466"
    },
    {
      "cell_type": "code",
      "execution_count": null,
      "metadata": {
        "colab": {
          "base_uri": "https://localhost:8080/"
        },
        "id": "685a51ce-9d85-46a0-8790-28a41c08b7c4",
        "outputId": "6fb19c11-d048-4b00-af27-061a72ceb0f9"
      },
      "outputs": [
        {
          "data": {
            "text/plain": [
              "array([ True])"
            ]
          },
          "execution_count": 15,
          "metadata": {},
          "output_type": "execute_result"
        }
      ],
      "source": [
        "#now comes the prediction\n",
        "\n",
        "sgd_clf.predict([some_digit])"
      ],
      "id": "685a51ce-9d85-46a0-8790-28a41c08b7c4"
    },
    {
      "cell_type": "markdown",
      "metadata": {
        "id": "ba798252-c2ae-4331-841b-75aae4b95150"
      },
      "source": [
        "#### Performance Measures"
      ],
      "id": "ba798252-c2ae-4331-841b-75aae4b95150"
    },
    {
      "cell_type": "code",
      "execution_count": null,
      "metadata": {
        "id": "3ee29e4c-e83f-4397-8c0a-9001ae825476"
      },
      "outputs": [],
      "source": [
        "##Measuring Accuracy Using Cross-Validation"
      ],
      "id": "3ee29e4c-e83f-4397-8c0a-9001ae825476"
    },
    {
      "cell_type": "code",
      "execution_count": null,
      "metadata": {
        "colab": {
          "base_uri": "https://localhost:8080/"
        },
        "id": "cc0d5c9e-aa9f-4184-a3d2-1d691b31362f",
        "outputId": "8465f24d-0046-4ce4-ade0-dafe3e8bc2b9"
      },
      "outputs": [
        {
          "name": "stdout",
          "output_type": "stream",
          "text": [
            "0.9669\n",
            "0.91625\n",
            "0.96785\n"
          ]
        }
      ],
      "source": [
        "### Implementing Cross Validation\n",
        "\n",
        "\n",
        "#same as using cross_val_score\n",
        "\n",
        "from sklearn.model_selection import StratifiedKFold\n",
        "from sklearn.base import clone\n",
        "\n",
        "skfolds = StratifiedKFold(n_splits = 3, random_state = 42, shuffle=True)\n",
        "\n",
        "for train_index, test_index in skfolds.split(X_train, y_train_5):\n",
        "    clone_clf = clone(sgd_clf)\n",
        "    X_train_folds = X_train[train_index]\n",
        "    y_train_folds = y_train_5[train_index]\n",
        "    X_test_fold = X_train[test_index]\n",
        "    y_test_fold = y_train_5[test_index]\n",
        "    \n",
        "    clone_clf.fit(X_train_folds, y_train_folds)\n",
        "    y_pred = clone_clf.predict(X_test_fold)\n",
        "    n_correct = sum(y_pred == y_test_fold)\n",
        "    print(n_correct / len(y_pred))\n",
        "    "
      ],
      "id": "cc0d5c9e-aa9f-4184-a3d2-1d691b31362f"
    },
    {
      "cell_type": "code",
      "execution_count": null,
      "metadata": {
        "colab": {
          "base_uri": "https://localhost:8080/"
        },
        "id": "1e6f6e3b-6c34-45a6-8d73-1460bf24fa62",
        "outputId": "460f98e7-8936-4f13-f12e-1bc21a9e15eb"
      },
      "outputs": [
        {
          "data": {
            "text/plain": [
              "array([0.95035, 0.96035, 0.9604 ])"
            ]
          },
          "execution_count": 18,
          "metadata": {},
          "output_type": "execute_result"
        }
      ],
      "source": [
        "### Now using cross val score\n",
        "\n",
        "from sklearn.model_selection import cross_val_score\n",
        "\n",
        "cross_val_score(sgd_clf, X_train, y_train_5, cv = 3, scoring='accuracy')"
      ],
      "id": "1e6f6e3b-6c34-45a6-8d73-1460bf24fa62"
    },
    {
      "cell_type": "code",
      "execution_count": null,
      "metadata": {
        "id": "81da805a-8b16-416e-86a6-16201d99af9d"
      },
      "outputs": [],
      "source": [
        "#Since the accuracy is well above 93% accuracy (ratio of correct predictions)"
      ],
      "id": "81da805a-8b16-416e-86a6-16201d99af9d"
    },
    {
      "cell_type": "code",
      "execution_count": null,
      "metadata": {
        "id": "8569b598-435f-4276-b158-a8658a25d26a"
      },
      "outputs": [],
      "source": [
        "#So lets model a dumb classifier that predicts the elements which are not 5"
      ],
      "id": "8569b598-435f-4276-b158-a8658a25d26a"
    },
    {
      "cell_type": "code",
      "execution_count": null,
      "metadata": {
        "id": "4b18f055-96d6-4034-8b31-3f9f864f2643"
      },
      "outputs": [],
      "source": [
        "from sklearn.base import BaseEstimator\n",
        "\n",
        "class Never5Classifier(BaseEstimator):\n",
        "    def fit(self, X, y=None):\n",
        "        pass\n",
        "    def predict(self, X):\n",
        "        return np.zeros((len(X), 1), dtype=bool)"
      ],
      "id": "4b18f055-96d6-4034-8b31-3f9f864f2643"
    },
    {
      "cell_type": "code",
      "execution_count": null,
      "metadata": {
        "colab": {
          "base_uri": "https://localhost:8080/"
        },
        "id": "0ea52bd1",
        "outputId": "12ebfa6a-bdd6-4ab0-d37f-5d7f38cc09ce"
      },
      "outputs": [
        {
          "data": {
            "text/plain": [
              "0         True\n",
              "1        False\n",
              "2        False\n",
              "3        False\n",
              "4        False\n",
              "         ...  \n",
              "59995    False\n",
              "59996    False\n",
              "59997     True\n",
              "59998    False\n",
              "59999    False\n",
              "Name: class, Length: 60000, dtype: bool"
            ]
          },
          "execution_count": 22,
          "metadata": {},
          "output_type": "execute_result"
        }
      ],
      "source": [
        "np.zeros((len(range(12)),1),dtype='bool')\n",
        "y_train_5"
      ],
      "id": "0ea52bd1"
    },
    {
      "cell_type": "code",
      "execution_count": null,
      "metadata": {
        "colab": {
          "base_uri": "https://localhost:8080/"
        },
        "id": "b4bfd149",
        "outputId": "23d9f7ed-b90d-444d-9355-cdc32c6c80bc"
      },
      "outputs": [
        {
          "data": {
            "text/plain": [
              "array([0., 0., 0., ..., 0., 0., 0.])"
            ]
          },
          "execution_count": 23,
          "metadata": {},
          "output_type": "execute_result"
        }
      ],
      "source": [
        "X_test_fold.flatten()"
      ],
      "id": "b4bfd149"
    },
    {
      "cell_type": "code",
      "execution_count": null,
      "metadata": {
        "colab": {
          "base_uri": "https://localhost:8080/"
        },
        "id": "141e3801",
        "outputId": "2a3f8d21-a311-49ae-9f6f-dea144b1b33c"
      },
      "outputs": [
        {
          "data": {
            "text/plain": [
              "array([0])"
            ]
          },
          "execution_count": 24,
          "metadata": {},
          "output_type": "execute_result"
        }
      ],
      "source": [
        "n5c = Never5Classifier()\n",
        "n5c.fit(X_train,y_train_5)\n",
        "sum(n5c.predict(X_test_fold.flatten()))\n"
      ],
      "id": "141e3801"
    },
    {
      "cell_type": "code",
      "execution_count": null,
      "metadata": {
        "id": "bd6cf741-6d41-4f9a-b954-bc5be70d7c70"
      },
      "outputs": [],
      "source": [
        "never_5_clf = Never5Classifier()"
      ],
      "id": "bd6cf741-6d41-4f9a-b954-bc5be70d7c70"
    },
    {
      "cell_type": "code",
      "execution_count": null,
      "metadata": {
        "colab": {
          "base_uri": "https://localhost:8080/"
        },
        "id": "645a6407-9144-4594-8ea6-693e2d48de51",
        "outputId": "0ca18ab8-b420-4be2-eaf6-a3e46581bc4e"
      },
      "outputs": [
        {
          "data": {
            "text/plain": [
              "array([0.91125, 0.90855, 0.90915])"
            ]
          },
          "execution_count": 26,
          "metadata": {},
          "output_type": "execute_result"
        }
      ],
      "source": [
        "cross_val_score(never_5_clf, X_train, y_train_5, cv=3, scoring='accuracy')"
      ],
      "id": "645a6407-9144-4594-8ea6-693e2d48de51"
    },
    {
      "cell_type": "code",
      "execution_count": null,
      "metadata": {
        "id": "b125cf1a-b5f7-4253-ae37-6aa403c3c006"
      },
      "outputs": [],
      "source": [
        "#Because only 10% of the images contains images of 5"
      ],
      "id": "b125cf1a-b5f7-4253-ae37-6aa403c3c006"
    },
    {
      "cell_type": "code",
      "execution_count": null,
      "metadata": {
        "id": "bbb84ad9-52dd-4a0c-80ce-36633b9c496c"
      },
      "outputs": [],
      "source": [
        "#This is why accuracy metrics are not preferred in classification methods\n",
        "#instead confusion matrix is used"
      ],
      "id": "bbb84ad9-52dd-4a0c-80ce-36633b9c496c"
    },
    {
      "cell_type": "markdown",
      "metadata": {
        "id": "a49e2158-44e8-4ccd-bcf3-6e85ab753c6f"
      },
      "source": [
        "#### Confusion Matrix"
      ],
      "id": "a49e2158-44e8-4ccd-bcf3-6e85ab753c6f"
    },
    {
      "cell_type": "code",
      "execution_count": null,
      "metadata": {
        "id": "a0e865ac-e41a-495a-b021-e4f76a91eabc"
      },
      "outputs": [],
      "source": [
        "#To compute the confusion matrix you need to have a set of predictions so that they cane\n",
        "#be compared to the actual targets. You could make predictions so that they can be compared to the actual targets. You could make predictions on the test set, but lets keep it untouched for now."
      ],
      "id": "a0e865ac-e41a-495a-b021-e4f76a91eabc"
    },
    {
      "cell_type": "code",
      "execution_count": null,
      "metadata": {
        "id": "1bafc43f-a5ca-495c-92e8-474238f9b8be"
      },
      "outputs": [],
      "source": [
        "from sklearn.model_selection import cross_val_predict"
      ],
      "id": "1bafc43f-a5ca-495c-92e8-474238f9b8be"
    },
    {
      "cell_type": "code",
      "execution_count": null,
      "metadata": {
        "id": "855d3d88-207b-4594-9652-0249b2a59900"
      },
      "outputs": [],
      "source": [
        "y_train_pred = cross_val_predict(sgd_clf, X_train, y_train_5, cv=3)"
      ],
      "id": "855d3d88-207b-4594-9652-0249b2a59900"
    },
    {
      "cell_type": "code",
      "execution_count": null,
      "metadata": {
        "colab": {
          "base_uri": "https://localhost:8080/"
        },
        "id": "5bac178d-9356-4001-9dce-82ab685bbe59",
        "outputId": "550d79e1-1222-426f-82a5-19fbea74d50d"
      },
      "outputs": [
        {
          "data": {
            "text/plain": [
              "array([ True, False, False, ...,  True, False, False])"
            ]
          },
          "execution_count": 32,
          "metadata": {},
          "output_type": "execute_result"
        }
      ],
      "source": [
        "y_train_pred"
      ],
      "id": "5bac178d-9356-4001-9dce-82ab685bbe59"
    },
    {
      "cell_type": "code",
      "execution_count": null,
      "metadata": {
        "id": "84d3d7e2-5cf9-432b-91ed-f6c75df5b9cb"
      },
      "outputs": [],
      "source": [
        "from sklearn.metrics import confusion_matrix"
      ],
      "id": "84d3d7e2-5cf9-432b-91ed-f6c75df5b9cb"
    },
    {
      "cell_type": "code",
      "execution_count": null,
      "metadata": {
        "colab": {
          "base_uri": "https://localhost:8080/"
        },
        "id": "472548be-2e2f-41d2-b581-2173f9e8eaeb",
        "outputId": "c52b0620-5521-43c4-b257-9d624ff86c8a"
      },
      "outputs": [
        {
          "data": {
            "text/plain": [
              "array([[53892,   687],\n",
              "       [ 1891,  3530]])"
            ]
          },
          "execution_count": 34,
          "metadata": {},
          "output_type": "execute_result"
        }
      ],
      "source": [
        "confusion_matrix(y_train_5, y_train_pred)"
      ],
      "id": "472548be-2e2f-41d2-b581-2173f9e8eaeb"
    },
    {
      "cell_type": "code",
      "execution_count": null,
      "metadata": {
        "id": "af974082-3dbb-44b1-90f6-adb444e47ff4"
      },
      "outputs": [],
      "source": [
        "#in the above case TN/non-5 identified as non5\n",
        "#in the above case FN/non-5 identified as 5\n",
        "#in the above case FP/5 identified as non 5\n",
        "#in the above case TP/5 identified as 5\n",
        "\n",
        "\n",
        "#One would ideally want the FN and the FP to be zero\n",
        "#TN/(TN + FP) is specificity\n",
        "\n",
        "#precision = TP/(TP + FP)\n",
        "\n",
        "#and recall/sensitivity or true positive rate  is the ratio of\n",
        "\n",
        "#recall = TP/(TP + FN)"
      ],
      "id": "af974082-3dbb-44b1-90f6-adb444e47ff4"
    },
    {
      "cell_type": "markdown",
      "metadata": {
        "id": "85238a78-4da6-4591-8938-6d2d4230ff50"
      },
      "source": [
        "![Screenshot from 2022-10-21 18-11-47.png](attachment:cc07a378-bc3b-42af-8fa8-e20e17607557.png)"
      ],
      "id": "85238a78-4da6-4591-8938-6d2d4230ff50"
    },
    {
      "cell_type": "code",
      "execution_count": null,
      "metadata": {
        "colab": {
          "base_uri": "https://localhost:8080/"
        },
        "id": "827c23cc-4bf8-4a1a-b45f-72a41665c7da",
        "outputId": "b0ec7750-cabe-4ff8-a1b0-987cfb86d1a4"
      },
      "outputs": [
        {
          "name": "stdout",
          "output_type": "stream",
          "text": [
            "0.8370879772350012\n",
            "0.6511713705958311\n",
            "specificity 0.9661007833927899\n"
          ]
        }
      ],
      "source": [
        "#calculating precision and recall\n",
        "\n",
        "from sklearn.metrics import precision_score, recall_score\n",
        "\n",
        "print(precision_score(y_train_5, y_train_pred))\n",
        "print(recall_score(y_train_5, y_train_pred))\n",
        "print(f'specificity {53892/(53892+1891)}')"
      ],
      "id": "827c23cc-4bf8-4a1a-b45f-72a41665c7da"
    },
    {
      "cell_type": "code",
      "execution_count": null,
      "metadata": {
        "id": "14207f40-6240-4f72-ba91-66df2f7bd698"
      },
      "outputs": [],
      "source": [
        "#It is often convenient to combine precision and recall into a single metric \n",
        "#called F1_score in particular if you need a simple way to compare two classifiers\n",
        "\n",
        "#f1score is the harmonic mean of the precision and recall and gives much more weight\n",
        "#to the lower values hence f1 score isw only high when precision and recall both \n",
        "#are high"
      ],
      "id": "14207f40-6240-4f72-ba91-66df2f7bd698"
    },
    {
      "cell_type": "code",
      "execution_count": null,
      "metadata": {
        "colab": {
          "base_uri": "https://localhost:8080/"
        },
        "id": "a770a8b9-e722-4d16-95e5-3ad5e1f5c5a3",
        "outputId": "5223851a-c444-4bf6-dc66-f93bedeee296"
      },
      "outputs": [
        {
          "data": {
            "text/plain": [
              "0.7325171197343846"
            ]
          },
          "execution_count": 38,
          "metadata": {},
          "output_type": "execute_result"
        }
      ],
      "source": [
        "from sklearn.metrics import f1_score\n",
        "f1_score(y_train_5, y_train_pred)"
      ],
      "id": "a770a8b9-e722-4d16-95e5-3ad5e1f5c5a3"
    },
    {
      "cell_type": "markdown",
      "metadata": {
        "id": "c33c8a4b-7e3a-460c-8212-e6783b5fd200"
      },
      "source": [
        "![Screenshot from 2022-10-21 19-13-51.png](attachment:0871fcfa-f2d2-46a5-b59c-b3a45025d271.png)"
      ],
      "id": "c33c8a4b-7e3a-460c-8212-e6783b5fd200"
    },
    {
      "cell_type": "markdown",
      "metadata": {
        "id": "490083e0-9f22-4416-b1bb-a7a4bc8cc164"
      },
      "source": [
        "#### Precision/Recall Trade=off"
      ],
      "id": "490083e0-9f22-4416-b1bb-a7a4bc8cc164"
    },
    {
      "cell_type": "code",
      "execution_count": null,
      "metadata": {
        "colab": {
          "base_uri": "https://localhost:8080/"
        },
        "id": "14479680-dc3d-4376-acd6-499004d958e4",
        "outputId": "4577f33a-95e3-48b9-b326-f007c3ff2cc3"
      },
      "outputs": [
        {
          "data": {
            "text/plain": [
              "array([2164.22030239])"
            ]
          },
          "execution_count": 39,
          "metadata": {},
          "output_type": "execute_result"
        }
      ],
      "source": [
        "#SGD classifier assigns a score based on a decision function for each instance\n",
        "#if that score is above a threshold\n",
        "#SGD assigns the instance in a positive class or negative if otherwies\n",
        "\n",
        "\n",
        "\n",
        "#to compute that one can call the decision function \n",
        "\n",
        "y_scores = sgd_clf.decision_function([some_digit])\n",
        "y_scores"
      ],
      "id": "14479680-dc3d-4376-acd6-499004d958e4"
    },
    {
      "cell_type": "code",
      "execution_count": null,
      "metadata": {
        "colab": {
          "base_uri": "https://localhost:8080/"
        },
        "id": "e94178a7-0be3-4305-8e72-2647f9c13b96",
        "outputId": "26028ef0-3f4e-4b57-ad11-a4c897d95ecd"
      },
      "outputs": [
        {
          "data": {
            "text/plain": [
              "array([ True])"
            ]
          },
          "execution_count": 40,
          "metadata": {},
          "output_type": "execute_result"
        }
      ],
      "source": [
        "threshold = 0\n",
        "y_some_digit_pred = (y_scores > threshold)\n",
        "y_some_digit_pred"
      ],
      "id": "e94178a7-0be3-4305-8e72-2647f9c13b96"
    },
    {
      "cell_type": "code",
      "execution_count": null,
      "metadata": {
        "colab": {
          "base_uri": "https://localhost:8080/"
        },
        "id": "c2466eab-ea7c-4fdb-895f-ef009f312413",
        "outputId": "cfb090ad-52c0-4606-afce-8eed63836af9"
      },
      "outputs": [
        {
          "data": {
            "text/plain": [
              "array([False])"
            ]
          },
          "execution_count": 41,
          "metadata": {},
          "output_type": "execute_result"
        }
      ],
      "source": [
        "#assigning a threshold as 0\n",
        "threshold  = 5000\n",
        "y_some_digit_pred = (y_scores > threshold)\n",
        "y_some_digit_pred   #assigns false for the threshold is above the score"
      ],
      "id": "c2466eab-ea7c-4fdb-895f-ef009f312413"
    },
    {
      "cell_type": "code",
      "execution_count": null,
      "metadata": {
        "id": "12f17e8f-ee7f-4474-8063-54309ebc05d8"
      },
      "outputs": [],
      "source": [
        "#How do you decide which threshold to use\n",
        "#lets return the decision scores instead of the predictions\n",
        "\n",
        "y_scores = cross_val_predict(sgd_clf, X_train, y_train_5, cv=3,method='decision_function')"
      ],
      "id": "12f17e8f-ee7f-4474-8063-54309ebc05d8"
    },
    {
      "cell_type": "code",
      "execution_count": null,
      "metadata": {
        "colab": {
          "base_uri": "https://localhost:8080/"
        },
        "id": "5484d27f-8fde-4dd5-869c-edab9ee18c53",
        "outputId": "31d64c6a-cb56-487a-ecab-fcb77783e210"
      },
      "outputs": [
        {
          "data": {
            "text/plain": [
              "array([  1200.93051237, -26883.79202424, -33072.03475406, ...,\n",
              "        13272.12718981,  -7258.47203373, -16877.50840447])"
            ]
          },
          "execution_count": 43,
          "metadata": {},
          "output_type": "execute_result"
        }
      ],
      "source": [
        "y_scores"
      ],
      "id": "5484d27f-8fde-4dd5-869c-edab9ee18c53"
    },
    {
      "cell_type": "code",
      "execution_count": null,
      "metadata": {
        "colab": {
          "base_uri": "https://localhost:8080/"
        },
        "id": "aec08a12-e1f1-4103-96c0-83c52d39b4d5",
        "outputId": "8d419c78-1d11-4c9e-e190-cf869212ca13"
      },
      "outputs": [
        {
          "data": {
            "text/plain": [
              "60000"
            ]
          },
          "execution_count": 44,
          "metadata": {},
          "output_type": "execute_result"
        }
      ],
      "source": [
        "len(y_scores)"
      ],
      "id": "aec08a12-e1f1-4103-96c0-83c52d39b4d5"
    },
    {
      "cell_type": "code",
      "execution_count": null,
      "metadata": {
        "id": "76c73e46-4a52-4b7b-a7fa-018378d0863e"
      },
      "outputs": [],
      "source": [
        "#with these scores use the precision_recall_curve() function to compute precision and recall for all\n",
        "#possible thresholds\n",
        "\n",
        "from sklearn.metrics import precision_recall_curve\n",
        "\n",
        "precisions, recalls, thresholds = precision_recall_curve(y_train_5, y_scores)"
      ],
      "id": "76c73e46-4a52-4b7b-a7fa-018378d0863e"
    },
    {
      "cell_type": "code",
      "execution_count": null,
      "metadata": {
        "id": "b58a3d4a-6b41-4e98-9f8f-5d4ee8e5b97d"
      },
      "outputs": [],
      "source": [
        "def plot_precision_recall_vs_threshold(precisions, recalls, thresholds):\n",
        "    a = plt.plot(thresholds, precisions[:-1],'b--',label='Precision')\n",
        "    b = plt.plot(thresholds, recalls[:-1], 'g-', label='Recall')\n",
        "    plt.legend()\n",
        "    plt.xlim([-50000,50000])\n",
        "    plt.grid(linestyle='--')\n",
        "    plt.axvline(5000,ymax=0.88, color='red', linestyle=':')\n",
        "    plt.axhline(0.915,xmax=0.56, color='red', linestyle=':')\n",
        "    plt.axhline(0.4,xmax=0.55, color='red', linestyle=':')\n",
        "    plt.scatter(5000,0.917,color='red')\n",
        "    plt.scatter(5000,0.4,color='red')\n",
        "    plt.show()"
      ],
      "id": "b58a3d4a-6b41-4e98-9f8f-5d4ee8e5b97d"
    },
    {
      "cell_type": "code",
      "execution_count": null,
      "metadata": {
        "colab": {
          "base_uri": "https://localhost:8080/",
          "height": 265
        },
        "id": "d53016c3-03e9-4497-9ae8-e7b0f8b6e73c",
        "outputId": "7fc9b885-a32f-4c58-d03f-1a524ebbba3c"
      },
      "outputs": [
        {
          "data": {
            "image/png": "[encoded data removed]",
            "text/plain": [
              "<Figure size 432x288 with 1 Axes>"
            ]
          },
          "metadata": {},
          "output_type": "display_data"
        }
      ],
      "source": [
        "plot_precision_recall_vs_threshold(precisions, recalls, thresholds)"
      ],
      "id": "d53016c3-03e9-4497-9ae8-e7b0f8b6e73c"
    },
    {
      "cell_type": "code",
      "execution_count": null,
      "metadata": {
        "colab": {
          "base_uri": "https://localhost:8080/"
        },
        "id": "b48791d8-b537-483d-bf19-3b0991795dbd",
        "outputId": "c2d3c443-a888-4d9c-c86c-4bb41b974efd"
      },
      "outputs": [
        {
          "data": {
            "text/plain": [
              "((59967,), (59967,), (59966,))"
            ]
          },
          "execution_count": 48,
          "metadata": {},
          "output_type": "execute_result"
        }
      ],
      "source": [
        "recalls.shape, precisions.shape, thresholds.shape"
      ],
      "id": "b48791d8-b537-483d-bf19-3b0991795dbd"
    },
    {
      "cell_type": "code",
      "execution_count": null,
      "metadata": {
        "id": "fd4e2c68-dd6c-4d31-b5e3-c11dbde20d25"
      },
      "outputs": [],
      "source": [
        "#another way to assess is to plot precision directly against recall"
      ],
      "id": "fd4e2c68-dd6c-4d31-b5e3-c11dbde20d25"
    },
    {
      "cell_type": "code",
      "execution_count": null,
      "metadata": {
        "colab": {
          "base_uri": "https://localhost:8080/",
          "height": 505
        },
        "id": "f008a031-c7a2-41c3-a9d8-d4e5e719e80c",
        "outputId": "33b9350a-49bf-44dd-b5fc-c0d24d8e0dad"
      },
      "outputs": [
        {
          "ename": "TypeError",
          "evalue": "ignored",
          "output_type": "error",
          "traceback": [
            "\u001b[0;31m---------------------------------------------------------------------------\u001b[0m",
            "\u001b[0;31mTypeError\u001b[0m                                 Traceback (most recent call last)",
            "\u001b[0;32m<ipython-input-50-f48f6654037a>\u001b[0m in \u001b[0;36m<module>\u001b[0;34m\u001b[0m\n\u001b[1;32m     11\u001b[0m \u001b[0mplt\u001b[0m\u001b[0;34m.\u001b[0m\u001b[0mscatter\u001b[0m\u001b[0;34m(\u001b[0m\u001b[0;36m0.71\u001b[0m\u001b[0;34m,\u001b[0m\u001b[0;36m0.81\u001b[0m\u001b[0;34m,\u001b[0m \u001b[0mcolor\u001b[0m\u001b[0;34m=\u001b[0m\u001b[0;34m'red'\u001b[0m\u001b[0;34m)\u001b[0m\u001b[0;34m\u001b[0m\u001b[0;34m\u001b[0m\u001b[0m\n\u001b[1;32m     12\u001b[0m \u001b[0mplt\u001b[0m\u001b[0;34m.\u001b[0m\u001b[0mscatter\u001b[0m\u001b[0;34m(\u001b[0m\u001b[0;36m0.51\u001b[0m\u001b[0;34m,\u001b[0m\u001b[0;36m0.91\u001b[0m\u001b[0;34m,\u001b[0m \u001b[0mcolor\u001b[0m\u001b[0;34m=\u001b[0m\u001b[0;34m'red'\u001b[0m\u001b[0;34m)\u001b[0m\u001b[0;34m\u001b[0m\u001b[0;34m\u001b[0m\u001b[0m\n\u001b[0;32m---> 13\u001b[0;31m \u001b[0mplt\u001b[0m\u001b[0;34m.\u001b[0m\u001b[0mannotate\u001b[0m\u001b[0;34m(\u001b[0m\u001b[0mtext\u001b[0m\u001b[0;34m=\u001b[0m\u001b[0;34m'90% Precision'\u001b[0m\u001b[0;34m,\u001b[0m\u001b[0mxy\u001b[0m\u001b[0;34m=\u001b[0m\u001b[0;34m(\u001b[0m\u001b[0;36m0.51\u001b[0m\u001b[0;34m,\u001b[0m\u001b[0;36m0.91\u001b[0m\u001b[0;34m)\u001b[0m\u001b[0;34m,\u001b[0m\u001b[0mxytext\u001b[0m\u001b[0;34m=\u001b[0m\u001b[0;34m(\u001b[0m\u001b[0;36m0.52\u001b[0m\u001b[0;34m,\u001b[0m\u001b[0;36m0.95\u001b[0m\u001b[0;34m)\u001b[0m\u001b[0;34m)\u001b[0m\u001b[0;34m\u001b[0m\u001b[0;34m\u001b[0m\u001b[0m\n\u001b[0m\u001b[1;32m     14\u001b[0m \u001b[0mplt\u001b[0m\u001b[0;34m.\u001b[0m\u001b[0mannotate\u001b[0m\u001b[0;34m(\u001b[0m\u001b[0mtext\u001b[0m\u001b[0;34m=\u001b[0m\u001b[0;34m'80% Precision'\u001b[0m\u001b[0;34m,\u001b[0m\u001b[0mxy\u001b[0m\u001b[0;34m=\u001b[0m\u001b[0;34m(\u001b[0m\u001b[0;36m0.71\u001b[0m\u001b[0;34m,\u001b[0m\u001b[0;36m0.81\u001b[0m\u001b[0;34m)\u001b[0m\u001b[0;34m,\u001b[0m \u001b[0mxytext\u001b[0m\u001b[0;34m=\u001b[0m\u001b[0;34m(\u001b[0m\u001b[0;36m0.72\u001b[0m\u001b[0;34m,\u001b[0m \u001b[0;36m0.85\u001b[0m\u001b[0;34m)\u001b[0m\u001b[0;34m)\u001b[0m\u001b[0;34m\u001b[0m\u001b[0;34m\u001b[0m\u001b[0m\n\u001b[1;32m     15\u001b[0m \u001b[0;34m\u001b[0m\u001b[0m\n",
            "\u001b[0;31mTypeError\u001b[0m: annotate() missing 1 required positional argument: 's'"
          ]
        },
        {
          "data": {
            "image/png": "[encoded data removed]",
            "text/plain": [
              "<Figure size 432x288 with 1 Axes>"
            ]
          },
          "metadata": {},
          "output_type": "display_data"
        }
      ],
      "source": [
        "plt.plot(precisions[:-1], recalls[:-1])\n",
        "plt.xlim((0.1,1.0))\n",
        "plt.xlabel('Recall')\n",
        "plt.ylabel('Precision')\n",
        "plt.grid()\n",
        "plt.axvline(0.71,ymax=0.77, color='red',linestyle='--')\n",
        "plt.axhline(0.81,xmax=0.67, color='red',linestyle='--')\n",
        "plt.axvline(0.51,ymax=0.88, color='magenta',linestyle=':')\n",
        "plt.axhline(0.91,xmax=0.45, color='magenta',linestyle=':')\n",
        "plt.scatter(0.71,0.81, color='red')\n",
        "plt.scatter(0.71,0.81, color='red')\n",
        "plt.scatter(0.51,0.91, color='red')\n",
        "plt.annotate(text='90% Precision',xy=(0.51,0.91),xytext=(0.52,0.95))\n",
        "plt.annotate(text='80% Precision',xy=(0.71,0.81), xytext=(0.72, 0.85))\n",
        "\n",
        "plt.show()"
      ],
      "id": "f008a031-c7a2-41c3-a9d8-d4e5e719e80c"
    },
    {
      "cell_type": "code",
      "execution_count": null,
      "metadata": {
        "colab": {
          "base_uri": "https://localhost:8080/"
        },
        "id": "e4856794-ebb7-48bf-936e-6e70f6685f19",
        "outputId": "7eb0807d-fbb9-44fd-bfe1-618ffec08f92"
      },
      "outputs": [
        {
          "data": {
            "text/plain": [
              "3370.0194991439557"
            ]
          },
          "execution_count": 51,
          "metadata": {},
          "output_type": "execute_result"
        }
      ],
      "source": [
        "#However to find the max value of threshold at 90 percent precision we can use a function called np.argmax which gives the first index of the max value it encounters\n",
        "thresholds_90_percent = thresholds[np.argmax(precisions[:-1] >= 0.9)]\n",
        "thresholds_90_percent"
      ],
      "id": "e4856794-ebb7-48bf-936e-6e70f6685f19"
    },
    {
      "cell_type": "code",
      "execution_count": null,
      "metadata": {
        "colab": {
          "base_uri": "https://localhost:8080/"
        },
        "id": "ec19404b-74ba-46f1-93d2-b5d0592590be",
        "outputId": "f6eab1cf-e9a9-4665-b395-38b1c282711d"
      },
      "outputs": [
        {
          "data": {
            "text/plain": [
              "array([False, False, False, ...,  True, False, False])"
            ]
          },
          "execution_count": 52,
          "metadata": {},
          "output_type": "execute_result"
        }
      ],
      "source": [
        "y_train_pred_90 = (y_scores >= thresholds_90_percent)\n",
        "\n",
        "y_train_pred_90\n"
      ],
      "id": "ec19404b-74ba-46f1-93d2-b5d0592590be"
    },
    {
      "cell_type": "code",
      "execution_count": null,
      "metadata": {
        "colab": {
          "base_uri": "https://localhost:8080/"
        },
        "id": "65f563cc",
        "outputId": "ff43b9b3-fe4b-40c1-ea95-746f503c957e"
      },
      "outputs": [
        {
          "name": "stdout",
          "output_type": "stream",
          "text": [
            "0.4799852425751706\n"
          ]
        },
        {
          "data": {
            "text/plain": [
              "0.626082771896054"
            ]
          },
          "execution_count": 53,
          "metadata": {},
          "output_type": "execute_result"
        }
      ],
      "source": [
        "precision_score(y_train_5, y_train_pred_90)\n",
        "print(recall_score(y_train_5, y_train_pred_90))\n",
        "f1_score(y_train_5, y_train_pred_90)"
      ],
      "id": "65f563cc"
    },
    {
      "cell_type": "markdown",
      "metadata": {
        "id": "a2c96fe5"
      },
      "source": [
        "#### The ROC Curve (Receiver Operating Characteristics)"
      ],
      "id": "a2c96fe5"
    },
    {
      "cell_type": "code",
      "execution_count": null,
      "metadata": {
        "id": "a22503d2"
      },
      "outputs": [],
      "source": [
        "#simillar to Precision vs Recall but plots TPR vs FPR\n",
        "#FPR is the negatives that are falsely classified as positives\n",
        "#FPR = FP/(FP + TN)\n",
        "#TNR = TN/(TN + FP) (specificity)\n",
        "#TPR = TP/(TP + FN) (sensitivity)/(recall)\n",
        "#precision = TP/(TP + TN)"
      ],
      "id": "a22503d2"
    },
    {
      "cell_type": "code",
      "execution_count": null,
      "metadata": {
        "id": "47ede105"
      },
      "outputs": [],
      "source": [
        "from sklearn.metrics import roc_curve\n",
        "fpr, tpr, thresholds = roc_curve(y_train_5, y_scores)"
      ],
      "id": "47ede105"
    },
    {
      "cell_type": "code",
      "execution_count": null,
      "metadata": {
        "colab": {
          "base_uri": "https://localhost:8080/",
          "height": 295
        },
        "id": "f1c9d61d",
        "outputId": "71e1e57d-a73d-4d00-f367-6cdfb02fce2f"
      },
      "outputs": [
        {
          "data": {
            "image/png": "[encoded data removed]",
            "text/plain": [
              "<Figure size 432x288 with 1 Axes>"
            ]
          },
          "metadata": {},
          "output_type": "display_data"
        }
      ],
      "source": [
        "def roc_plot(fpr, tpr, label=None):\n",
        "    plt.plot(fpr, tpr, linewidth=2, label=label)\n",
        "    plt.plot([0,1],[0,1],'k--')  #Dashed diagonal\n",
        "    plt.xlabel('False Positive Rate')\n",
        "    plt.ylabel(\"Recall/ True Positive Rate\")\n",
        "    plt.title(\"ROC Curve Plot\")\n",
        "    plt.grid(linestyle='--')\n",
        "\n",
        "\n",
        "roc_plot(fpr, tpr)\n",
        "plt.show()"
      ],
      "id": "f1c9d61d"
    },
    {
      "cell_type": "code",
      "execution_count": null,
      "metadata": {
        "id": "5fb8a516"
      },
      "outputs": [],
      "source": [
        "#The dotted line shows Roc curve of a purely random classifier\n",
        "#A good classifier stays away from that line"
      ],
      "id": "5fb8a516"
    },
    {
      "cell_type": "code",
      "execution_count": null,
      "metadata": {
        "colab": {
          "base_uri": "https://localhost:8080/"
        },
        "id": "f279598e",
        "outputId": "85331f6c-7b88-4589-aca2-82d6a39ed669"
      },
      "outputs": [
        {
          "data": {
            "text/plain": [
              "0.9604938554008616"
            ]
          },
          "execution_count": 58,
          "metadata": {},
          "output_type": "execute_result"
        }
      ],
      "source": [
        "#One way to compare classifiers is to measure the area under the curve (AUC) a perfect one will have AUC of 1 whereas a purely random one will have 0.5. sklearn provides a function to compute the roc auc\n",
        "\n",
        "from sklearn.metrics import roc_auc_score\n",
        "\n",
        "roc_auc_score(y_train_5, y_scores)"
      ],
      "id": "f279598e"
    },
    {
      "cell_type": "code",
      "execution_count": null,
      "metadata": {
        "id": "19d18a76"
      },
      "outputs": [],
      "source": [
        "#Choose ROC when you care about the true positives\n",
        "#precision/recall curve when you care about the false positives more"
      ],
      "id": "19d18a76"
    },
    {
      "cell_type": "markdown",
      "metadata": {
        "id": "1959375f"
      },
      "source": [
        "#### Train a RandomForestClassifier"
      ],
      "id": "1959375f"
    },
    {
      "cell_type": "markdown",
      "metadata": {
        "id": "a0d85747"
      },
      "source": [
        "###### Train a RandomForestClassifier to and compare its ROC cure and ROC AUC"
      ],
      "id": "a0d85747"
    },
    {
      "cell_type": "code",
      "execution_count": null,
      "metadata": {
        "id": "4bffe6fc"
      },
      "outputs": [],
      "source": [
        "##Also the random forest classifier doesnt have decision_function() instead it has a predict_proba() method\n",
        "\n",
        "from sklearn.ensemble import RandomForestClassifier\n",
        "from sklearn.model_selection import cross_val_predict\n",
        "\n",
        "forest_clf = RandomForestClassifier(random_state=42)\n",
        "\n",
        "y_probas_forest = cross_val_predict(forest_clf, X_train, y_train_5, cv=3,method='predict_proba')"
      ],
      "id": "4bffe6fc"
    },
    {
      "cell_type": "code",
      "execution_count": null,
      "metadata": {
        "id": "241d97be"
      },
      "outputs": [],
      "source": [
        "#The roc_curve() function expects labels and scores, but instead one can also provide class's probability\n",
        "\n",
        "y_scores_forest = y_probas_forest[:,1]\n",
        "\n",
        "fpr_forest, tpr_forest, thresholds_forest = roc_curve(y_train_5, y_scores_forest)"
      ],
      "id": "241d97be"
    },
    {
      "cell_type": "code",
      "execution_count": null,
      "metadata": {
        "colab": {
          "base_uri": "https://localhost:8080/",
          "height": 295
        },
        "id": "a64ae80e",
        "outputId": "ef005974-aa49-4958-fc34-3f01673fb8a0"
      },
      "outputs": [
        {
          "data": {
            "image/png": "[encoded data removed]",
            "text/plain": [
              "<Figure size 432x288 with 1 Axes>"
            ]
          },
          "metadata": {},
          "output_type": "display_data"
        }
      ],
      "source": [
        "plt.grid()\n",
        "plt.plot(fpr_forest, tpr_forest, label='Random Forest')\n",
        "plt.plot(fpr,tpr,label='SGD',linestyle='--')\n",
        "plt.legend(loc='lower right')\n",
        "plt.xlabel('False Positive Rate')\n",
        "plt.ylabel('True Positive Rate')\n",
        "plt.title(\"Random Forest and SGD plot\")\n",
        "plt.plot([0,1],[0,1],color='k',alpha=0.1)\n",
        "plt.show()"
      ],
      "id": "a64ae80e"
    },
    {
      "cell_type": "code",
      "execution_count": null,
      "metadata": {
        "id": "2d076858"
      },
      "outputs": [],
      "source": [
        "y_scores_forest_bool = y_scores_forest > 0.5"
      ],
      "id": "2d076858"
    },
    {
      "cell_type": "code",
      "execution_count": null,
      "metadata": {
        "colab": {
          "base_uri": "https://localhost:8080/"
        },
        "id": "c585a25f",
        "outputId": "f1ee79d6-d20d-4669-e258-d17771919f40"
      },
      "outputs": [
        {
          "data": {
            "text/plain": [
              "array([ True, False, False, ...,  True, False, False])"
            ]
          },
          "execution_count": 64,
          "metadata": {},
          "output_type": "execute_result"
        }
      ],
      "source": [
        "y_scores_forest_bool"
      ],
      "id": "c585a25f"
    },
    {
      "cell_type": "code",
      "execution_count": null,
      "metadata": {
        "colab": {
          "base_uri": "https://localhost:8080/"
        },
        "id": "6960e2ce",
        "outputId": "42112958-8aac-415f-9dd8-7eb41f002a9f"
      },
      "outputs": [
        {
          "data": {
            "text/plain": [
              "0.9983436731328145"
            ]
          },
          "execution_count": 65,
          "metadata": {},
          "output_type": "execute_result"
        }
      ],
      "source": [
        "from sklearn.metrics import roc_auc_score, precision_score, recall_score,confusion_matrix\n",
        "roc_auc_score(y_train_5, y_scores_forest)"
      ],
      "id": "6960e2ce"
    },
    {
      "cell_type": "code",
      "execution_count": null,
      "metadata": {
        "colab": {
          "base_uri": "https://localhost:8080/"
        },
        "id": "9005fb52",
        "outputId": "6436d92a-dc1d-42d2-a4ef-1be6335225b2"
      },
      "outputs": [
        {
          "data": {
            "text/plain": [
              "array([ True, False, False, ...,  True, False, False])"
            ]
          },
          "execution_count": 66,
          "metadata": {},
          "output_type": "execute_result"
        }
      ],
      "source": [
        "y_scores_forest_bool"
      ],
      "id": "9005fb52"
    },
    {
      "cell_type": "code",
      "execution_count": null,
      "metadata": {
        "colab": {
          "base_uri": "https://localhost:8080/"
        },
        "id": "075e99f6",
        "outputId": "f29e8897-e2b5-4123-e022-4450415513c2"
      },
      "outputs": [
        {
          "data": {
            "text/plain": [
              "array([[54534,    45],\n",
              "       [  725,  4696]])"
            ]
          },
          "execution_count": 67,
          "metadata": {},
          "output_type": "execute_result"
        }
      ],
      "source": [
        "confusion_matrix(y_train_5,y_scores_forest_bool)"
      ],
      "id": "075e99f6"
    },
    {
      "cell_type": "code",
      "execution_count": null,
      "metadata": {
        "colab": {
          "base_uri": "https://localhost:8080/"
        },
        "id": "b6a3c1c9",
        "outputId": "15567c7e-31eb-453a-e45d-6e83fa30e221"
      },
      "outputs": [
        {
          "name": "stdout",
          "output_type": "stream",
          "text": [
            "0.9905083315756169\n",
            "0.8662608374838591\n"
          ]
        }
      ],
      "source": [
        "print(precision_score(y_train_5, y_scores_forest_bool))\n",
        "print(recall_score(y_train_5, y_scores_forest_bool))"
      ],
      "id": "b6a3c1c9"
    },
    {
      "cell_type": "markdown",
      "metadata": {
        "id": "649fd897"
      },
      "source": [
        "#### Multiclass Classification"
      ],
      "id": "649fd897"
    },
    {
      "cell_type": "code",
      "execution_count": null,
      "metadata": {
        "id": "0c736911"
      },
      "outputs": [],
      "source": [
        "#Some algorithms (such as Support Vector classifiers) scale poorly with the size of the training set. For these algorithms OvO is preferred because it is faster to train many classifiers on small training sets than to train few  classifiers on large training sets. For most binary classification algorithms, however, OvR is preferred.\n",
        "\n",
        "#SVC performs poorly on large datasets"
      ],
      "id": "0c736911"
    },
    {
      "cell_type": "markdown",
      "metadata": {
        "id": "b601017e"
      },
      "source": [
        "#### Trying with SVC"
      ],
      "id": "b601017e"
    },
    {
      "cell_type": "code",
      "execution_count": null,
      "metadata": {
        "colab": {
          "base_uri": "https://localhost:8080/"
        },
        "id": "f8ab49a3",
        "outputId": "f30a9eae-bf76-4f42-daca-ac6a3bdc7676"
      },
      "outputs": [
        {
          "data": {
            "text/plain": [
              "array([5], dtype=uint8)"
            ]
          },
          "execution_count": 70,
          "metadata": {},
          "output_type": "execute_result"
        }
      ],
      "source": [
        "from sklearn.svm import SVC\n",
        "\n",
        "svm_clf = SVC()\n",
        "svm_clf.fit(X_train, y_train)  #y_train, not y_train_5\n",
        "svm_clf.predict([some_digit])\n"
      ],
      "id": "f8ab49a3"
    },
    {
      "cell_type": "code",
      "execution_count": null,
      "metadata": {
        "id": "186542af"
      },
      "outputs": [],
      "source": [
        "some_digit_score = svm_clf.decision_function([some_digit])   #shows 10 scores for 0 to 9\n",
        "#And the score with the highest value ie 9.313 is for the number five hence it predicts five"
      ],
      "id": "186542af"
    },
    {
      "cell_type": "code",
      "execution_count": null,
      "metadata": {
        "colab": {
          "base_uri": "https://localhost:8080/"
        },
        "id": "0bb0bc95",
        "outputId": "9156a8c2-7aa4-40e4-93c5-6ff493c79d74"
      },
      "outputs": [
        {
          "name": "stdout",
          "output_type": "stream",
          "text": [
            "5\n"
          ]
        },
        {
          "data": {
            "text/plain": [
              "array([0, 1, 2, 3, 4, 5, 6, 7, 8, 9], dtype=uint8)"
            ]
          },
          "execution_count": 72,
          "metadata": {},
          "output_type": "execute_result"
        }
      ],
      "source": [
        "#To check which number it is\n",
        "\n",
        "print(np.argmax(some_digit_score))\n",
        "svm_clf.classes_"
      ],
      "id": "0bb0bc95"
    },
    {
      "cell_type": "markdown",
      "metadata": {
        "id": "7804cd12"
      },
      "source": [
        "#### If you want to force OneVsRestClassifier to SVC"
      ],
      "id": "7804cd12"
    },
    {
      "cell_type": "code",
      "execution_count": null,
      "metadata": {
        "colab": {
          "base_uri": "https://localhost:8080/"
        },
        "id": "37822d0e",
        "outputId": "68e30e91-6aec-49f0-eb53-7f85796b406e"
      },
      "outputs": [
        {
          "data": {
            "text/plain": [
              "array([5], dtype=uint8)"
            ]
          },
          "execution_count": 73,
          "metadata": {},
          "output_type": "execute_result"
        }
      ],
      "source": [
        "from sklearn.multiclass import OneVsRestClassifier\n",
        "ovr_clf = OneVsRestClassifier(SVC())\n",
        "ovr_clf.fit(X_train, y_train)\n",
        "ovr_clf.predict([some_digit])"
      ],
      "id": "37822d0e"
    },
    {
      "cell_type": "code",
      "execution_count": null,
      "metadata": {
        "colab": {
          "base_uri": "https://localhost:8080/"
        },
        "id": "1d0833d9",
        "outputId": "e1d5686e-ec2d-406f-a10a-953cdb07de9f"
      },
      "outputs": [
        {
          "data": {
            "text/plain": [
              "10"
            ]
          },
          "execution_count": 75,
          "metadata": {},
          "output_type": "execute_result"
        }
      ],
      "source": [
        "len(ovr_clf.estimators_)   #There are 10 estimators"
      ],
      "id": "1d0833d9"
    },
    {
      "cell_type": "markdown",
      "metadata": {
        "id": "l0cQu-9RWEpx"
      },
      "source": [
        "#### Now using SGD classifier"
      ],
      "id": "l0cQu-9RWEpx"
    },
    {
      "cell_type": "markdown",
      "source": [
        "# New Section"
      ],
      "metadata": {
        "id": "ZHgiOUC-tRiR"
      },
      "id": "ZHgiOUC-tRiR"
    },
    {
      "cell_type": "code",
      "execution_count": null,
      "metadata": {
        "colab": {
          "base_uri": "https://localhost:8080/"
        },
        "id": "Y2f3vm3VV1Fr",
        "outputId": "eae54c5f-4e6f-4488-e19a-5a52b42cafa0"
      },
      "outputs": [
        {
          "data": {
            "text/plain": [
              "SGDClassifier(random_state=42)"
            ]
          },
          "execution_count": 77,
          "metadata": {},
          "output_type": "execute_result"
        }
      ],
      "source": [
        "sgd_clf.fit(X_train, y_train)"
      ],
      "id": "Y2f3vm3VV1Fr"
    },
    {
      "cell_type": "code",
      "execution_count": null,
      "metadata": {
        "colab": {
          "base_uri": "https://localhost:8080/"
        },
        "id": "l5XFqHXEWXnr",
        "outputId": "f0e54541-0f15-4787-b481-31cc7d61734d"
      },
      "outputs": [
        {
          "data": {
            "text/plain": [
              "array([3], dtype=uint8)"
            ]
          },
          "execution_count": 78,
          "metadata": {},
          "output_type": "execute_result"
        }
      ],
      "source": [
        "sgd_clf.predict([some_digit])"
      ],
      "id": "l5XFqHXEWXnr"
    },
    {
      "cell_type": "code",
      "execution_count": null,
      "metadata": {
        "colab": {
          "base_uri": "https://localhost:8080/"
        },
        "id": "MaliRrIyXvjM",
        "outputId": "0c296ff8-4bf4-4a58-aa3a-af408e813274"
      },
      "outputs": [
        {
          "data": {
            "text/plain": [
              "array([[-31893.03095419, -34419.69069632,  -9530.63950739,\n",
              "          1823.73154031, -22320.14822878,  -1385.80478895,\n",
              "        -26188.91070951, -16147.51323997,  -4604.35491274,\n",
              "        -12050.767298  ]])"
            ]
          },
          "execution_count": 80,
          "metadata": {},
          "output_type": "execute_result"
        }
      ],
      "source": [
        "sgd_clf.decision_function([some_digit])"
      ],
      "id": "MaliRrIyXvjM"
    },
    {
      "cell_type": "code",
      "execution_count": null,
      "metadata": {
        "colab": {
          "base_uri": "https://localhost:8080/",
          "height": 266
        },
        "id": "6_TyFfM_YF7i",
        "outputId": "d4b6a901-a035-46e9-e305-ecec7076c528"
      },
      "outputs": [
        {
          "data": {
            "text/plain": [
              "(-0.5, 27.5, 27.5, -0.5)"
            ]
          },
          "execution_count": 88,
          "metadata": {},
          "output_type": "execute_result"
        },
        {
          "data": {
            "image/png": "[encoded data removed]",
            "text/plain": [
              "<Figure size 432x288 with 1 Axes>"
            ]
          },
          "metadata": {},
          "output_type": "display_data"
        }
      ],
      "source": [
        "image = some_digit.reshape(28,28)\n",
        "plt.imshow(image, cmap='BuGn')\n",
        "plt.axis('off')"
      ],
      "id": "6_TyFfM_YF7i"
    },
    {
      "cell_type": "code",
      "execution_count": null,
      "metadata": {
        "colab": {
          "background_save": true
        },
        "id": "CynctUUhYWNR",
        "outputId": "8c2754ee-20ec-4b96-e305-020a0d8c4809"
      },
      "outputs": [
        {
          "data": {
            "text/plain": [
              "array([0.87365, 0.85835, 0.8689 ])"
            ]
          },
          "execution_count": 89,
          "metadata": {},
          "output_type": "execute_result"
        }
      ],
      "source": [
        "#Now testing its accuracy\n",
        "\n",
        "cross_val_score(sgd_clf, X_train, y_train, cv=3, scoring='accuracy')"
      ],
      "id": "CynctUUhYWNR"
    },
    {
      "cell_type": "code",
      "execution_count": null,
      "metadata": {
        "id": "wqbWWcbQZUL6",
        "colab": {
          "base_uri": "https://localhost:8080/"
        },
        "outputId": "b3f22450-39a1-49af-8034-793859119410"
      },
      "outputs": [
        {
          "output_type": "execute_result",
          "data": {
            "text/plain": [
              "array([[0., 0., 0., ..., 0., 0., 0.],\n",
              "       [0., 0., 0., ..., 0., 0., 0.],\n",
              "       [0., 0., 0., ..., 0., 0., 0.],\n",
              "       ...,\n",
              "       [0., 0., 0., ..., 0., 0., 0.],\n",
              "       [0., 0., 0., ..., 0., 0., 0.],\n",
              "       [0., 0., 0., ..., 0., 0., 0.]])"
            ]
          },
          "metadata": {},
          "execution_count": 91
        }
      ],
      "source": [
        "#Also by scaling the training data the accuracy can be improved\n",
        "\n",
        "from sklearn.preprocessing import StandardScaler\n",
        "\n",
        "scaler  = StandardScaler()\n",
        "X_train_scaled = scaler.fit_transform(X_train.astype(np.float64))\n"
      ],
      "id": "wqbWWcbQZUL6"
    },
    {
      "cell_type": "code",
      "source": [
        "y_train_pred = cross_val_score(sgd_clf, X_train_scaled, y_train, cv = 3, scoring='accuracy')"
      ],
      "metadata": {
        "id": "Q2OP7-Ekc_Jm"
      },
      "id": "Q2OP7-Ekc_Jm",
      "execution_count": null,
      "outputs": []
    },
    {
      "cell_type": "code",
      "source": [
        "y_train_pred  #89% accuracy achieved"
      ],
      "metadata": {
        "colab": {
          "base_uri": "https://localhost:8080/"
        },
        "id": "aoSmlo45eF4Z",
        "outputId": "faf6cf70-85b6-4cf6-e0aa-107c7a0a9bc8"
      },
      "id": "aoSmlo45eF4Z",
      "execution_count": null,
      "outputs": [
        {
          "output_type": "execute_result",
          "data": {
            "text/plain": [
              "array([0.8983, 0.891 , 0.9018])"
            ]
          },
          "metadata": {},
          "execution_count": 94
        }
      ]
    },
    {
      "cell_type": "code",
      "source": [
        "\n",
        "y_train_pred = cross_val_predict(sgd_clf, X_train_scaled, y_train, cv = 3)"
      ],
      "metadata": {
        "id": "waFY2huZhpVE"
      },
      "id": "waFY2huZhpVE",
      "execution_count": null,
      "outputs": []
    },
    {
      "cell_type": "code",
      "source": [
        "import numpy as np\n",
        "np.savez_compressed('/content/y_train_pred_fille.npz', y_train_pred)"
      ],
      "metadata": {
        "id": "YbFMloWZiBap"
      },
      "id": "YbFMloWZiBap",
      "execution_count": null,
      "outputs": []
    },
    {
      "cell_type": "code",
      "source": [
        "f = np.load('/content/y_train_pred_fille.npz',allow_pickle=True)"
      ],
      "metadata": {
        "id": "xOqJ6Heyo57s"
      },
      "id": "xOqJ6Heyo57s",
      "execution_count": null,
      "outputs": []
    },
    {
      "cell_type": "code",
      "source": [
        "lst = f.files"
      ],
      "metadata": {
        "id": "Yu7kCub-vVmj"
      },
      "id": "Yu7kCub-vVmj",
      "execution_count": null,
      "outputs": []
    },
    {
      "cell_type": "code",
      "source": [
        "for item in lst:\n",
        "  print(item)\n",
        "  f[item]"
      ],
      "metadata": {
        "colab": {
          "base_uri": "https://localhost:8080/"
        },
        "id": "j4qIYzAkvWEA",
        "outputId": "b084b1f2-518a-4a6a-9ec1-cfca34520743"
      },
      "id": "j4qIYzAkvWEA",
      "execution_count": null,
      "outputs": [
        {
          "output_type": "stream",
          "name": "stdout",
          "text": [
            "arr_0\n"
          ]
        }
      ]
    },
    {
      "cell_type": "code",
      "source": [
        "A = f[item]"
      ],
      "metadata": {
        "id": "MxWP6W6iwrKs"
      },
      "id": "MxWP6W6iwrKs",
      "execution_count": null,
      "outputs": []
    },
    {
      "cell_type": "code",
      "source": [
        "conf_mx = confusion_matrix(y_train, y_train_pred)"
      ],
      "metadata": {
        "id": "J2P_2bIYxf7g"
      },
      "id": "J2P_2bIYxf7g",
      "execution_count": 145,
      "outputs": []
    },
    {
      "cell_type": "code",
      "source": [
        "conf_mx"
      ],
      "metadata": {
        "id": "xMys-U61xhjw",
        "colab": {
          "base_uri": "https://localhost:8080/"
        },
        "outputId": "6c84f59b-c040-44f6-d9df-deab4c879dca"
      },
      "id": "xMys-U61xhjw",
      "execution_count": 147,
      "outputs": [
        {
          "output_type": "execute_result",
          "data": {
            "text/plain": [
              "array([[5577,    0,   22,    5,    8,   43,   36,    6,  225,    1],\n",
              "       [   0, 6400,   37,   24,    4,   44,    4,    7,  212,   10],\n",
              "       [  27,   27, 5220,   92,   73,   27,   67,   36,  378,   11],\n",
              "       [  22,   17,  117, 5227,    2,  203,   27,   40,  403,   73],\n",
              "       [  12,   14,   41,    9, 5182,   12,   34,   27,  347,  164],\n",
              "       [  27,   15,   30,  168,   53, 4444,   75,   14,  535,   60],\n",
              "       [  30,   15,   42,    3,   44,   97, 5552,    3,  131,    1],\n",
              "       [  21,   10,   51,   30,   49,   12,    3, 5684,  195,  210],\n",
              "       [  17,   63,   48,   86,    3,  126,   25,   10, 5429,   44],\n",
              "       [  25,   18,   30,   64,  118,   36,    1,  179,  371, 5107]])"
            ]
          },
          "metadata": {},
          "execution_count": 147
        }
      ]
    },
    {
      "cell_type": "code",
      "source": [
        "#To make it more meaningful we will use the matplotlibs matshow function\n",
        "plt.figure(figsize=(17,17))\n",
        "plt.matshow(conf_mx, cmap=plt.cm.gray)\n",
        "plt.show()"
      ],
      "metadata": {
        "colab": {
          "base_uri": "https://localhost:8080/",
          "height": 293
        },
        "id": "3SzhTFNQ2zRy",
        "outputId": "9de51c51-0f55-42d3-a73f-5bea55ff303a"
      },
      "id": "3SzhTFNQ2zRy",
      "execution_count": 152,
      "outputs": [
        {
          "output_type": "display_data",
          "data": {
            "text/plain": [
              "<Figure size 1224x1224 with 0 Axes>"
            ]
          },
          "metadata": {}
        },
        {
          "output_type": "display_data",
          "data": {
            "text/plain": [
              "<Figure size 288x288 with 1 Axes>"
            ],
            "image/png": "[encoded data removed]"
          },
          "metadata": {
            "needs_background": "light"
          }
        }
      ]
    },
    {
      "cell_type": "code",
      "source": [
        "row_sums = conf_mx.sum(axis=1, keepdims=True)"
      ],
      "metadata": {
        "id": "imfxLqQS2_XX"
      },
      "id": "imfxLqQS2_XX",
      "execution_count": 153,
      "outputs": []
    },
    {
      "cell_type": "code",
      "source": [
        "norm_conf_mx = conf_mx / row_sums\n",
        "norm_conf_mx"
      ],
      "metadata": {
        "id": "N2RKFqaL3tjE"
      },
      "id": "N2RKFqaL3tjE",
      "execution_count": null,
      "outputs": []
    },
    {
      "cell_type": "markdown",
      "source": [
        "#### Now fill the diagonal with zeroes to keep only the errors"
      ],
      "metadata": {
        "id": "n774fuTCOIqX"
      },
      "id": "n774fuTCOIqX"
    },
    {
      "cell_type": "code",
      "source": [
        "np.fill_diagonal(norm_conf_mx, 0)"
      ],
      "metadata": {
        "id": "fNL4RVOC3u9u"
      },
      "id": "fNL4RVOC3u9u",
      "execution_count": 158,
      "outputs": []
    },
    {
      "cell_type": "code",
      "source": [
        "plt.matshow(norm_conf_mx, cmap=plt.cm.gray)"
      ],
      "metadata": {
        "colab": {
          "base_uri": "https://localhost:8080/",
          "height": 293
        },
        "id": "QfCOELXZORvZ",
        "outputId": "d9515c5c-6ba3-4a2d-aa24-1c422e694185"
      },
      "id": "QfCOELXZORvZ",
      "execution_count": 159,
      "outputs": [
        {
          "output_type": "execute_result",
          "data": {
            "text/plain": [
              "<matplotlib.image.AxesImage at 0x7f1b4182f510>"
            ]
          },
          "metadata": {},
          "execution_count": 159
        },
        {
          "output_type": "display_data",
          "data": {
            "text/plain": [
              "<Figure size 288x288 with 1 Axes>"
            ],
            "image/png": "[encoded data removed]"
          },
          "metadata": {
            "needs_background": "light"
          }
        }
      ]
    },
    {
      "cell_type": "code",
      "source": [
        "#The column 8 has many brighter rows which means that the many of the 8s have been misclassified "
      ],
      "metadata": {
        "id": "sTqHUzpwPF8s"
      },
      "id": "sTqHUzpwPF8s",
      "execution_count": 160,
      "outputs": []
    },
    {
      "cell_type": "code",
      "source": [
        "from sklearn.metrics import ConfusionMatrixDisplay\n",
        "conf_matrix_disp = ConfusionMatrixDisplay.from_predictions(y_train_pred, y_train)"
      ],
      "metadata": {
        "colab": {
          "base_uri": "https://localhost:8080/",
          "height": 279
        },
        "id": "vGyX47MOQLUI",
        "outputId": "a7174a5c-4c43-4ca0-b50f-82aa6e969953"
      },
      "id": "vGyX47MOQLUI",
      "execution_count": 162,
      "outputs": [
        {
          "output_type": "display_data",
          "data": {
            "text/plain": [
              "<Figure size 432x288 with 2 Axes>"
            ],
            "image/png": "[encoded data removed]"
          },
          "metadata": {
            "needs_background": "light"
          }
        }
      ]
    },
    {
      "cell_type": "code",
      "source": [
        "#As in the above image we can clearly see that the number of 8 s that have been missclassified is pretty large"
      ],
      "metadata": {
        "id": "yj1TPOHcVgtZ"
      },
      "id": "yj1TPOHcVgtZ",
      "execution_count": 163,
      "outputs": []
    },
    {
      "cell_type": "code",
      "source": [
        "#Now we will show it in percentage\n",
        "\n",
        "plt.rc('font', size=10)  #sets the fontsize for all\n",
        "ConfusionMatrixDisplay.from_predictions(y_train,  y_train_pred, normalize='true', values_format=\".0%\")\n",
        "plt.show()"
      ],
      "metadata": {
        "colab": {
          "base_uri": "https://localhost:8080/",
          "height": 279
        },
        "id": "PJX8Oy5MV1MI",
        "outputId": "1e513170-1d72-4e6f-eb9a-221a20529121"
      },
      "id": "PJX8Oy5MV1MI",
      "execution_count": 169,
      "outputs": [
        {
          "output_type": "display_data",
          "data": {
            "text/plain": [
              "<Figure size 432x288 with 2 Axes>"
            ],
            "image/png": "[encoded data removed]"
          },
          "metadata": {
            "needs_background": "light"
          }
        }
      ]
    },
    {
      "cell_type": "code",
      "source": [
        "#Now lets plot for which the predictions were erroneous\n",
        "\n",
        "sample_weight = (y_train_pred != y_train)\n",
        "\n",
        "ConfusionMatrixDisplay.from_predictions(y_train, y_train_pred, sample_weight=sample_weight,normalize='true',values_format=\".0%\")\n",
        "plt.show()\n",
        "\n",
        "\n",
        "#This makes clear many numbers were misclassified as 8s"
      ],
      "metadata": {
        "colab": {
          "base_uri": "https://localhost:8080/",
          "height": 279
        },
        "id": "PD-lWR5EWFBZ",
        "outputId": "b6ba3e73-e366-4094-9496-6bad638e6775"
      },
      "id": "PD-lWR5EWFBZ",
      "execution_count": 171,
      "outputs": [
        {
          "output_type": "display_data",
          "data": {
            "text/plain": [
              "<Figure size 432x288 with 2 Axes>"
            ],
            "image/png": "[encoded data removed]"
          },
          "metadata": {
            "needs_background": "light"
          }
        }
      ]
    },
    {
      "cell_type": "code",
      "source": [],
      "metadata": {
        "id": "PTjdqMgXZRiZ"
      },
      "id": "PTjdqMgXZRiZ",
      "execution_count": null,
      "outputs": []
    }
  ],
  "metadata": {
    "colab": {
      "provenance": [],
      "include_colab_link": true
    },
    "kernelspec": {
      "display_name": "arka",
      "language": "python",
      "name": "python3"
    },
    "language_info": {
      "codemirror_mode": {
        "name": "ipython",
        "version": 3
      },
      "file_extension": ".py",
      "mimetype": "text/x-python",
      "name": "python",
      "nbconvert_exporter": "python",
      "pygments_lexer": "ipython3",
      "version": "3.10.6"
    },
    "vscode": {
      "interpreter": {
        "hash": "fa46da6b9307ef350aad613908c1591a068b15a96db2be16e9d9e053b74e28ee"
      }
    }
  },
  "nbformat": 4,
  "nbformat_minor": 5
}