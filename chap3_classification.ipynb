{
  "cells": [
    {
      "cell_type": "markdown",
      "metadata": {
        "colab_type": "text",
        "id": "view-in-github"
      },
      "source": [
        "<a href=\"https://colab.research.google.com/github/ARKA1112/HOML_AurelienG/blob/main/chap3_classification.ipynb\" target=\"_parent\"><img src=\"https://colab.research.google.com/assets/colab-badge.svg\" alt=\"Open In Colab\"/></a>"
      ]
    },
    {
      "cell_type": "markdown",
      "id": "d25b3f8e-2638-41f2-9c85-c86e302e1f5e",
      "metadata": {
        "id": "d25b3f8e-2638-41f2-9c85-c86e302e1f5e"
      },
      "source": [
        "#### Classification\n"
      ]
    },
    {
      "cell_type": "code",
      "execution_count": 1,
      "id": "52049bd3-b540-4944-8f76-54a4a032cb84",
      "metadata": {
        "id": "52049bd3-b540-4944-8f76-54a4a032cb84"
      },
      "outputs": [],
      "source": [
        "#import the mnist dataset\n",
        "\n",
        "from sklearn.datasets import fetch_openml, load_files\n",
        "#mnist = fetch_openml('mnist_784', cache=True)"
      ]
    },
    {
      "cell_type": "code",
      "execution_count": 2,
      "id": "9bb20813",
      "metadata": {
        "id": "9bb20813"
      },
      "outputs": [],
      "source": [
        "#to use the cached data\n",
        "from joblib import Memory\n",
        "\n",
        "memory = Memory('~/scikit_learn_data')\n",
        "fetch_openml_cached = memory.cache(fetch_openml)"
      ]
    },
    {
      "cell_type": "code",
      "execution_count": 3,
      "id": "2092299d",
      "metadata": {
        "colab": {
          "base_uri": "https://localhost:8080/"
        },
        "id": "2092299d",
        "outputId": "20d38c7e-690d-4ef4-b5dc-1ed800c1045a"
      },
      "outputs": [
        {
          "name": "stderr",
          "output_type": "stream",
          "text": [
            "WARNING:root:[MemorizedFunc(func=<function fetch_openml at 0x7f157d957ba0>, location=/home/susearc/scikit_learn_data/joblib)]: Clearing function cache identified by sklearn/datasets/_openml/fetch_openml\n"
          ]
        },
        {
          "name": "stdout",
          "output_type": "stream",
          "text": [
            "________________________________________________________________________________\n",
            "[Memory] Calling sklearn.datasets._openml.fetch_openml...\n",
            "fetch_openml('mnist_784')\n",
            "___________________________________________________fetch_openml - 175.1s, 2.9min\n"
          ]
        }
      ],
      "source": [
        "mnist = fetch_openml_cached('mnist_784')"
      ]
    },
    {
      "cell_type": "code",
      "execution_count": 4,
      "id": "5615ddf8-3c03-438f-8477-e40d7f183971",
      "metadata": {
        "id": "5615ddf8-3c03-438f-8477-e40d7f183971",
        "outputId": "74007131-ce8d-4e8e-dbce-6e63360164a7"
      },
      "outputs": [
        {
          "data": {
            "text/plain": [
              "(70000, 784)"
            ]
          },
          "execution_count": 4,
          "metadata": {},
          "output_type": "execute_result"
        }
      ],
      "source": [
        "mnist.data.shape"
      ]
    },
    {
      "cell_type": "code",
      "execution_count": 5,
      "id": "fa1af93d-28b5-4a4a-b592-8378dcce6aa9",
      "metadata": {
        "id": "fa1af93d-28b5-4a4a-b592-8378dcce6aa9"
      },
      "outputs": [],
      "source": [
        "#separating the features and the target\n",
        "X_, y_ = mnist['data'], mnist['target']"
      ]
    },
    {
      "cell_type": "code",
      "execution_count": 6,
      "id": "6676ac7e-53fb-4414-a934-db4c88fe08f5",
      "metadata": {
        "id": "6676ac7e-53fb-4414-a934-db4c88fe08f5"
      },
      "outputs": [],
      "source": [
        "X = X_.to_numpy()"
      ]
    },
    {
      "cell_type": "code",
      "execution_count": 7,
      "id": "7f166f1d-e6f6-4fda-8d7f-82ad604c9070",
      "metadata": {
        "colab": {
          "base_uri": "https://localhost:8080/"
        },
        "id": "7f166f1d-e6f6-4fda-8d7f-82ad604c9070",
        "outputId": "e8e28744-1016-4481-8fa6-3bcf38d7a03e"
      },
      "outputs": [
        {
          "data": {
            "text/plain": [
              "array([[0., 0., 0., ..., 0., 0., 0.],\n",
              "       [0., 0., 0., ..., 0., 0., 0.],\n",
              "       [0., 0., 0., ..., 0., 0., 0.],\n",
              "       ...,\n",
              "       [0., 0., 0., ..., 0., 0., 0.],\n",
              "       [0., 0., 0., ..., 0., 0., 0.],\n",
              "       [0., 0., 0., ..., 0., 0., 0.]])"
            ]
          },
          "execution_count": 7,
          "metadata": {},
          "output_type": "execute_result"
        }
      ],
      "source": [
        "X"
      ]
    },
    {
      "cell_type": "code",
      "execution_count": 8,
      "id": "b54867a6-4a82-4d65-a2a4-9dc4cda58f77",
      "metadata": {
        "colab": {
          "base_uri": "https://localhost:8080/"
        },
        "id": "b54867a6-4a82-4d65-a2a4-9dc4cda58f77",
        "outputId": "a54936e8-cca8-4201-9567-2ce3f90136d9"
      },
      "outputs": [
        {
          "data": {
            "text/plain": [
              "array([[  0.,   0.,   0.,   0.,   0.,   0.,   0.,   0.,   0.,   0.,   0.,\n",
              "          0.,   0.,   0.,   0.,   0.,   0.,   0.,   0.,   0.,   0.,   0.,\n",
              "          0.,   0.,   0.,   0.,   0.,   0.],\n",
              "       [  0.,   0.,   0.,   0.,   0.,   0.,   0.,   0.,   0.,   0.,   0.,\n",
              "          0.,   0.,   0.,   0.,   0.,   0.,   0.,   0.,   0.,   0.,   0.,\n",
              "          0.,   0.,   0.,   0.,   0.,   0.],\n",
              "       [  0.,   0.,   0.,   0.,   0.,   0.,   0.,   0.,   0.,   0.,   0.,\n",
              "          0.,   0.,   0.,   0.,   0.,   0.,   0.,   0.,   0.,   0.,   0.,\n",
              "          0.,   0.,   0.,   0.,   0.,   0.],\n",
              "       [  0.,   0.,   0.,   0.,   0.,   0.,   0.,   0.,   0.,   0.,   0.,\n",
              "          0.,   0.,   0.,   0.,   0.,   0.,   0.,   0.,   0.,   0.,   0.,\n",
              "          0.,   0.,   0.,   0.,   0.,   0.],\n",
              "       [  0.,   0.,   0.,   0.,   0.,   0.,   0.,   0.,   0.,   0.,   0.,\n",
              "          0.,   0.,   0.,   0.,   0.,   0.,   0.,   0.,   0.,   0.,   0.,\n",
              "          0.,   0.,   0.,   0.,   0.,   0.],\n",
              "       [  0.,   0.,   0.,   0.,   0.,   0.,   0.,   0.,   0.,   0.,   0.,\n",
              "          0.,   3.,  18.,  18.,  18., 126., 136., 175.,  26., 166., 255.,\n",
              "        247., 127.,   0.,   0.,   0.,   0.],\n",
              "       [  0.,   0.,   0.,   0.,   0.,   0.,   0.,   0.,  30.,  36.,  94.,\n",
              "        154., 170., 253., 253., 253., 253., 253., 225., 172., 253., 242.,\n",
              "        195.,  64.,   0.,   0.,   0.,   0.],\n",
              "       [  0.,   0.,   0.,   0.,   0.,   0.,   0.,  49., 238., 253., 253.,\n",
              "        253., 253., 253., 253., 253., 253., 251.,  93.,  82.,  82.,  56.,\n",
              "         39.,   0.,   0.,   0.,   0.,   0.],\n",
              "       [  0.,   0.,   0.,   0.,   0.,   0.,   0.,  18., 219., 253., 253.,\n",
              "        253., 253., 253., 198., 182., 247., 241.,   0.,   0.,   0.,   0.,\n",
              "          0.,   0.,   0.,   0.,   0.,   0.],\n",
              "       [  0.,   0.,   0.,   0.,   0.,   0.,   0.,   0.,  80., 156., 107.,\n",
              "        253., 253., 205.,  11.,   0.,  43., 154.,   0.,   0.,   0.,   0.,\n",
              "          0.,   0.,   0.,   0.,   0.,   0.],\n",
              "       [  0.,   0.,   0.,   0.,   0.,   0.,   0.,   0.,   0.,  14.,   1.,\n",
              "        154., 253.,  90.,   0.,   0.,   0.,   0.,   0.,   0.,   0.,   0.,\n",
              "          0.,   0.,   0.,   0.,   0.,   0.],\n",
              "       [  0.,   0.,   0.,   0.,   0.,   0.,   0.,   0.,   0.,   0.,   0.,\n",
              "        139., 253., 190.,   2.,   0.,   0.,   0.,   0.,   0.,   0.,   0.,\n",
              "          0.,   0.,   0.,   0.,   0.,   0.],\n",
              "       [  0.,   0.,   0.,   0.,   0.,   0.,   0.,   0.,   0.,   0.,   0.,\n",
              "         11., 190., 253.,  70.,   0.,   0.,   0.,   0.,   0.,   0.,   0.,\n",
              "          0.,   0.,   0.,   0.,   0.,   0.],\n",
              "       [  0.,   0.,   0.,   0.,   0.,   0.,   0.,   0.,   0.,   0.,   0.,\n",
              "          0.,  35., 241., 225., 160., 108.,   1.,   0.,   0.,   0.,   0.,\n",
              "          0.,   0.,   0.,   0.,   0.,   0.],\n",
              "       [  0.,   0.,   0.,   0.,   0.,   0.,   0.,   0.,   0.,   0.,   0.,\n",
              "          0.,   0.,  81., 240., 253., 253., 119.,  25.,   0.,   0.,   0.,\n",
              "          0.,   0.,   0.,   0.,   0.,   0.],\n",
              "       [  0.,   0.,   0.,   0.,   0.,   0.,   0.,   0.,   0.,   0.,   0.,\n",
              "          0.,   0.,   0.,  45., 186., 253., 253., 150.,  27.,   0.,   0.,\n",
              "          0.,   0.,   0.,   0.,   0.,   0.],\n",
              "       [  0.,   0.,   0.,   0.,   0.,   0.,   0.,   0.,   0.,   0.,   0.,\n",
              "          0.,   0.,   0.,   0.,  16.,  93., 252., 253., 187.,   0.,   0.,\n",
              "          0.,   0.,   0.,   0.,   0.,   0.],\n",
              "       [  0.,   0.,   0.,   0.,   0.,   0.,   0.,   0.,   0.,   0.,   0.,\n",
              "          0.,   0.,   0.,   0.,   0.,   0., 249., 253., 249.,  64.,   0.,\n",
              "          0.,   0.,   0.,   0.,   0.,   0.],\n",
              "       [  0.,   0.,   0.,   0.,   0.,   0.,   0.,   0.,   0.,   0.,   0.,\n",
              "          0.,   0.,   0.,  46., 130., 183., 253., 253., 207.,   2.,   0.,\n",
              "          0.,   0.,   0.,   0.,   0.,   0.],\n",
              "       [  0.,   0.,   0.,   0.,   0.,   0.,   0.,   0.,   0.,   0.,   0.,\n",
              "          0.,  39., 148., 229., 253., 253., 253., 250., 182.,   0.,   0.,\n",
              "          0.,   0.,   0.,   0.,   0.,   0.],\n",
              "       [  0.,   0.,   0.,   0.,   0.,   0.,   0.,   0.,   0.,   0.,  24.,\n",
              "        114., 221., 253., 253., 253., 253., 201.,  78.,   0.,   0.,   0.,\n",
              "          0.,   0.,   0.,   0.,   0.,   0.],\n",
              "       [  0.,   0.,   0.,   0.,   0.,   0.,   0.,   0.,  23.,  66., 213.,\n",
              "        253., 253., 253., 253., 198.,  81.,   2.,   0.,   0.,   0.,   0.,\n",
              "          0.,   0.,   0.,   0.,   0.,   0.],\n",
              "       [  0.,   0.,   0.,   0.,   0.,   0.,  18., 171., 219., 253., 253.,\n",
              "        253., 253., 195.,  80.,   9.,   0.,   0.,   0.,   0.,   0.,   0.,\n",
              "          0.,   0.,   0.,   0.,   0.,   0.],\n",
              "       [  0.,   0.,   0.,   0.,  55., 172., 226., 253., 253., 253., 253.,\n",
              "        244., 133.,  11.,   0.,   0.,   0.,   0.,   0.,   0.,   0.,   0.,\n",
              "          0.,   0.,   0.,   0.,   0.,   0.],\n",
              "       [  0.,   0.,   0.,   0., 136., 253., 253., 253., 212., 135., 132.,\n",
              "         16.,   0.,   0.,   0.,   0.,   0.,   0.,   0.,   0.,   0.,   0.,\n",
              "          0.,   0.,   0.,   0.,   0.,   0.],\n",
              "       [  0.,   0.,   0.,   0.,   0.,   0.,   0.,   0.,   0.,   0.,   0.,\n",
              "          0.,   0.,   0.,   0.,   0.,   0.,   0.,   0.,   0.,   0.,   0.,\n",
              "          0.,   0.,   0.,   0.,   0.,   0.],\n",
              "       [  0.,   0.,   0.,   0.,   0.,   0.,   0.,   0.,   0.,   0.,   0.,\n",
              "          0.,   0.,   0.,   0.,   0.,   0.,   0.,   0.,   0.,   0.,   0.,\n",
              "          0.,   0.,   0.,   0.,   0.,   0.],\n",
              "       [  0.,   0.,   0.,   0.,   0.,   0.,   0.,   0.,   0.,   0.,   0.,\n",
              "          0.,   0.,   0.,   0.,   0.,   0.,   0.,   0.,   0.,   0.,   0.,\n",
              "          0.,   0.,   0.,   0.,   0.,   0.]])"
            ]
          },
          "execution_count": 8,
          "metadata": {},
          "output_type": "execute_result"
        }
      ],
      "source": [
        "X[0].reshape(28,28)"
      ]
    },
    {
      "cell_type": "code",
      "execution_count": 9,
      "id": "11d480be-07aa-4615-815f-36d1ee8fafb3",
      "metadata": {
        "colab": {
          "base_uri": "https://localhost:8080/",
          "height": 248
        },
        "id": "11d480be-07aa-4615-815f-36d1ee8fafb3",
        "outputId": "68b0cb0d-6969-4a4e-d1c4-3f1bc933918e"
      },
      "outputs": [
        {
          "data": {
            "image/png": "[encoded data removed]",
            "text/plain": [
              "<Figure size 640x480 with 1 Axes>"
            ]
          },
          "metadata": {},
          "output_type": "display_data"
        }
      ],
      "source": [
        "#Each row is has 284 features ie pixels\n",
        "#Hence we need to reshape the data to make it useful\n",
        "\n",
        "import matplotlib as mpl\n",
        "import matplotlib.pyplot as plt\n",
        "\n",
        "%matplotlib inline\n",
        "some_digit = X[0]\n",
        "some_digit_image = some_digit.reshape(28, 28)\n",
        "\n",
        "plt.imshow(some_digit_image, cmap='binary')\n",
        "plt.axis(\"off\")\n",
        "plt.show()"
      ]
    },
    {
      "cell_type": "code",
      "execution_count": 10,
      "id": "8060a677-cf5d-4710-a609-211d175ac9b1",
      "metadata": {
        "colab": {
          "base_uri": "https://localhost:8080/",
          "height": 35
        },
        "id": "8060a677-cf5d-4710-a609-211d175ac9b1",
        "outputId": "7a97f082-4837-46fc-d065-977b48596f8a"
      },
      "outputs": [
        {
          "data": {
            "text/plain": [
              "'5'"
            ]
          },
          "execution_count": 10,
          "metadata": {},
          "output_type": "execute_result"
        }
      ],
      "source": [
        "y_[0]   #The data label says us so"
      ]
    },
    {
      "cell_type": "code",
      "execution_count": 11,
      "id": "759fa645-e246-4cd7-b47a-e679b49272d8",
      "metadata": {
        "id": "759fa645-e246-4cd7-b47a-e679b49272d8"
      },
      "outputs": [],
      "source": [
        "#since the label is a number but a string \n",
        "#we will convert it to a number\n",
        "import numpy as np\n",
        "y = y_.astype(np.uint8)"
      ]
    },
    {
      "cell_type": "code",
      "execution_count": 12,
      "id": "17285d98-5c69-4b04-a149-fcd8a33b94f9",
      "metadata": {
        "id": "17285d98-5c69-4b04-a149-fcd8a33b94f9"
      },
      "outputs": [],
      "source": [
        "#Create a training and the test dataset \n",
        "#Data is already split into 60000,10000"
      ]
    },
    {
      "cell_type": "code",
      "execution_count": 13,
      "id": "27ba10e2-1fdf-4204-bb6a-6d5672cbcd89",
      "metadata": {
        "id": "27ba10e2-1fdf-4204-bb6a-6d5672cbcd89"
      },
      "outputs": [],
      "source": [
        "X_train, X_test, y_train, y_test = X[:60000], X[60000:], y[:60000],y[60000:]"
      ]
    },
    {
      "cell_type": "markdown",
      "id": "1340642f-6386-4107-8575-851b2b5624fb",
      "metadata": {
        "id": "1340642f-6386-4107-8575-851b2b5624fb"
      },
      "source": [
        "#### Training a binary classifier"
      ]
    },
    {
      "cell_type": "code",
      "execution_count": 14,
      "id": "45951196-02d0-4010-9e32-d958d5817508",
      "metadata": {
        "id": "45951196-02d0-4010-9e32-d958d5817508"
      },
      "outputs": [],
      "source": [
        "#at first we will identify only 5\n",
        "\n",
        "y_train_5 = (y_train == 5)\n",
        "y_test_5 = (y_test == 5)"
      ]
    },
    {
      "cell_type": "code",
      "execution_count": 14,
      "id": "df5d5066-bc45-4b01-994c-74496dacf163",
      "metadata": {
        "colab": {
          "base_uri": "https://localhost:8080/"
        },
        "id": "df5d5066-bc45-4b01-994c-74496dacf163",
        "outputId": "749e909e-5234-4793-c120-48ee1f55d546"
      },
      "outputs": [
        {
          "data": {
            "text/plain": [
              "60000    False\n",
              "60001    False\n",
              "60002    False\n",
              "60003    False\n",
              "60004    False\n",
              "         ...  \n",
              "69995    False\n",
              "69996    False\n",
              "69997    False\n",
              "69998     True\n",
              "69999    False\n",
              "Name: class, Length: 10000, dtype: bool"
            ]
          },
          "execution_count": 14,
          "metadata": {},
          "output_type": "execute_result"
        }
      ],
      "source": [
        "y_test_5"
      ]
    },
    {
      "cell_type": "markdown",
      "id": "36a5309d-5f86-4afe-a87f-5c2d890d5ebc",
      "metadata": {
        "id": "36a5309d-5f86-4afe-a87f-5c2d890d5ebc"
      },
      "source": [
        "#### Implementing SGD"
      ]
    },
    {
      "cell_type": "code",
      "execution_count": null,
      "id": "c54e9b13-b852-47df-81a8-2efb42a77466",
      "metadata": {
        "colab": {
          "base_uri": "https://localhost:8080/"
        },
        "id": "c54e9b13-b852-47df-81a8-2efb42a77466",
        "outputId": "57f87e31-ad60-4422-e2e4-b90df486e521"
      },
      "outputs": [
        {
          "data": {
            "text/plain": [
              "SGDClassifier(random_state=42)"
            ]
          },
          "execution_count": 14,
          "metadata": {},
          "output_type": "execute_result"
        }
      ],
      "source": [
        "from sklearn.linear_model import SGDClassifier\n",
        "\n",
        "sgd_clf = SGDClassifier(random_state = 42)\n",
        "sgd_clf.fit(X_train, y_train_5)"
      ]
    },
    {
      "cell_type": "code",
      "execution_count": null,
      "id": "685a51ce-9d85-46a0-8790-28a41c08b7c4",
      "metadata": {
        "colab": {
          "base_uri": "https://localhost:8080/"
        },
        "id": "685a51ce-9d85-46a0-8790-28a41c08b7c4",
        "outputId": "6fb19c11-d048-4b00-af27-061a72ceb0f9"
      },
      "outputs": [
        {
          "data": {
            "text/plain": [
              "array([ True])"
            ]
          },
          "execution_count": 15,
          "metadata": {},
          "output_type": "execute_result"
        }
      ],
      "source": [
        "#now comes the prediction\n",
        "\n",
        "sgd_clf.predict([some_digit])"
      ]
    },
    {
      "cell_type": "markdown",
      "id": "ba798252-c2ae-4331-841b-75aae4b95150",
      "metadata": {
        "id": "ba798252-c2ae-4331-841b-75aae4b95150"
      },
      "source": [
        "#### Performance Measures"
      ]
    },
    {
      "cell_type": "code",
      "execution_count": null,
      "id": "3ee29e4c-e83f-4397-8c0a-9001ae825476",
      "metadata": {
        "id": "3ee29e4c-e83f-4397-8c0a-9001ae825476"
      },
      "outputs": [],
      "source": [
        "##Measuring Accuracy Using Cross-Validation"
      ]
    },
    {
      "cell_type": "code",
      "execution_count": null,
      "id": "cc0d5c9e-aa9f-4184-a3d2-1d691b31362f",
      "metadata": {
        "colab": {
          "base_uri": "https://localhost:8080/"
        },
        "id": "cc0d5c9e-aa9f-4184-a3d2-1d691b31362f",
        "outputId": "8465f24d-0046-4ce4-ade0-dafe3e8bc2b9"
      },
      "outputs": [
        {
          "name": "stdout",
          "output_type": "stream",
          "text": [
            "0.9669\n",
            "0.91625\n",
            "0.96785\n"
          ]
        }
      ],
      "source": [
        "### Implementing Cross Validation\n",
        "\n",
        "\n",
        "#same as using cross_val_score\n",
        "\n",
        "from sklearn.model_selection import StratifiedKFold\n",
        "from sklearn.base import clone\n",
        "\n",
        "skfolds = StratifiedKFold(n_splits = 3, random_state = 42, shuffle=True)\n",
        "\n",
        "for train_index, test_index in skfolds.split(X_train, y_train_5):\n",
        "    clone_clf = clone(sgd_clf)\n",
        "    X_train_folds = X_train[train_index]\n",
        "    y_train_folds = y_train_5[train_index]\n",
        "    X_test_fold = X_train[test_index]\n",
        "    y_test_fold = y_train_5[test_index]\n",
        "    \n",
        "    clone_clf.fit(X_train_folds, y_train_folds)\n",
        "    y_pred = clone_clf.predict(X_test_fold)\n",
        "    n_correct = sum(y_pred == y_test_fold)\n",
        "    print(n_correct / len(y_pred))\n",
        "    "
      ]
    },
    {
      "cell_type": "code",
      "execution_count": null,
      "id": "1e6f6e3b-6c34-45a6-8d73-1460bf24fa62",
      "metadata": {
        "colab": {
          "base_uri": "https://localhost:8080/"
        },
        "id": "1e6f6e3b-6c34-45a6-8d73-1460bf24fa62",
        "outputId": "460f98e7-8936-4f13-f12e-1bc21a9e15eb"
      },
      "outputs": [
        {
          "data": {
            "text/plain": [
              "array([0.95035, 0.96035, 0.9604 ])"
            ]
          },
          "execution_count": 18,
          "metadata": {},
          "output_type": "execute_result"
        }
      ],
      "source": [
        "### Now using cross val score\n",
        "\n",
        "from sklearn.model_selection import cross_val_score\n",
        "\n",
        "cross_val_score(sgd_clf, X_train, y_train_5, cv = 3, scoring='accuracy')"
      ]
    },
    {
      "cell_type": "code",
      "execution_count": null,
      "id": "81da805a-8b16-416e-86a6-16201d99af9d",
      "metadata": {
        "id": "81da805a-8b16-416e-86a6-16201d99af9d"
      },
      "outputs": [],
      "source": [
        "#Since the accuracy is well above 93% accuracy (ratio of correct predictions)"
      ]
    },
    {
      "cell_type": "code",
      "execution_count": null,
      "id": "8569b598-435f-4276-b158-a8658a25d26a",
      "metadata": {
        "id": "8569b598-435f-4276-b158-a8658a25d26a"
      },
      "outputs": [],
      "source": [
        "#So lets model a dumb classifier that predicts the elements which are not 5"
      ]
    },
    {
      "cell_type": "code",
      "execution_count": null,
      "id": "4b18f055-96d6-4034-8b31-3f9f864f2643",
      "metadata": {
        "id": "4b18f055-96d6-4034-8b31-3f9f864f2643"
      },
      "outputs": [],
      "source": [
        "from sklearn.base import BaseEstimator\n",
        "\n",
        "class Never5Classifier(BaseEstimator):\n",
        "    def fit(self, X, y=None):\n",
        "        pass\n",
        "    def predict(self, X):\n",
        "        return np.zeros((len(X), 1), dtype=bool)"
      ]
    },
    {
      "cell_type": "code",
      "execution_count": null,
      "id": "0ea52bd1",
      "metadata": {
        "colab": {
          "base_uri": "https://localhost:8080/"
        },
        "id": "0ea52bd1",
        "outputId": "12ebfa6a-bdd6-4ab0-d37f-5d7f38cc09ce"
      },
      "outputs": [
        {
          "data": {
            "text/plain": [
              "0         True\n",
              "1        False\n",
              "2        False\n",
              "3        False\n",
              "4        False\n",
              "         ...  \n",
              "59995    False\n",
              "59996    False\n",
              "59997     True\n",
              "59998    False\n",
              "59999    False\n",
              "Name: class, Length: 60000, dtype: bool"
            ]
          },
          "execution_count": 22,
          "metadata": {},
          "output_type": "execute_result"
        }
      ],
      "source": [
        "np.zeros((len(range(12)),1),dtype='bool')\n",
        "y_train_5"
      ]
    },
    {
      "cell_type": "code",
      "execution_count": null,
      "id": "b4bfd149",
      "metadata": {
        "colab": {
          "base_uri": "https://localhost:8080/"
        },
        "id": "b4bfd149",
        "outputId": "23d9f7ed-b90d-444d-9355-cdc32c6c80bc"
      },
      "outputs": [
        {
          "data": {
            "text/plain": [
              "array([0., 0., 0., ..., 0., 0., 0.])"
            ]
          },
          "execution_count": 23,
          "metadata": {},
          "output_type": "execute_result"
        }
      ],
      "source": [
        "X_test_fold.flatten()"
      ]
    },
    {
      "cell_type": "code",
      "execution_count": null,
      "id": "141e3801",
      "metadata": {
        "colab": {
          "base_uri": "https://localhost:8080/"
        },
        "id": "141e3801",
        "outputId": "2a3f8d21-a311-49ae-9f6f-dea144b1b33c"
      },
      "outputs": [
        {
          "data": {
            "text/plain": [
              "array([0])"
            ]
          },
          "execution_count": 24,
          "metadata": {},
          "output_type": "execute_result"
        }
      ],
      "source": [
        "n5c = Never5Classifier()\n",
        "n5c.fit(X_train,y_train_5)\n",
        "sum(n5c.predict(X_test_fold.flatten()))\n"
      ]
    },
    {
      "cell_type": "code",
      "execution_count": null,
      "id": "bd6cf741-6d41-4f9a-b954-bc5be70d7c70",
      "metadata": {
        "id": "bd6cf741-6d41-4f9a-b954-bc5be70d7c70"
      },
      "outputs": [],
      "source": [
        "never_5_clf = Never5Classifier()"
      ]
    },
    {
      "cell_type": "code",
      "execution_count": null,
      "id": "645a6407-9144-4594-8ea6-693e2d48de51",
      "metadata": {
        "colab": {
          "base_uri": "https://localhost:8080/"
        },
        "id": "645a6407-9144-4594-8ea6-693e2d48de51",
        "outputId": "0ca18ab8-b420-4be2-eaf6-a3e46581bc4e"
      },
      "outputs": [
        {
          "data": {
            "text/plain": [
              "array([0.91125, 0.90855, 0.90915])"
            ]
          },
          "execution_count": 26,
          "metadata": {},
          "output_type": "execute_result"
        }
      ],
      "source": [
        "cross_val_score(never_5_clf, X_train, y_train_5, cv=3, scoring='accuracy')"
      ]
    },
    {
      "cell_type": "code",
      "execution_count": null,
      "id": "b125cf1a-b5f7-4253-ae37-6aa403c3c006",
      "metadata": {
        "id": "b125cf1a-b5f7-4253-ae37-6aa403c3c006"
      },
      "outputs": [],
      "source": [
        "#Because only 10% of the images contains images of 5"
      ]
    },
    {
      "cell_type": "code",
      "execution_count": null,
      "id": "bbb84ad9-52dd-4a0c-80ce-36633b9c496c",
      "metadata": {
        "id": "bbb84ad9-52dd-4a0c-80ce-36633b9c496c"
      },
      "outputs": [],
      "source": [
        "#This is why accuracy metrics are not preferred in classification methods\n",
        "#instead confusion matrix is used"
      ]
    },
    {
      "cell_type": "markdown",
      "id": "a49e2158-44e8-4ccd-bcf3-6e85ab753c6f",
      "metadata": {
        "id": "a49e2158-44e8-4ccd-bcf3-6e85ab753c6f"
      },
      "source": [
        "#### Confusion Matrix"
      ]
    },
    {
      "cell_type": "code",
      "execution_count": null,
      "id": "a0e865ac-e41a-495a-b021-e4f76a91eabc",
      "metadata": {
        "id": "a0e865ac-e41a-495a-b021-e4f76a91eabc"
      },
      "outputs": [],
      "source": [
        "#To compute the confusion matrix you need to have a set of predictions so that they cane\n",
        "#be compared to the actual targets. You could make predictions so that they can be compared to the actual targets. You could make predictions on the test set, but lets keep it untouched for now."
      ]
    },
    {
      "cell_type": "code",
      "execution_count": null,
      "id": "1bafc43f-a5ca-495c-92e8-474238f9b8be",
      "metadata": {
        "id": "1bafc43f-a5ca-495c-92e8-474238f9b8be"
      },
      "outputs": [],
      "source": [
        "from sklearn.model_selection import cross_val_predict"
      ]
    },
    {
      "cell_type": "code",
      "execution_count": null,
      "id": "855d3d88-207b-4594-9652-0249b2a59900",
      "metadata": {
        "id": "855d3d88-207b-4594-9652-0249b2a59900"
      },
      "outputs": [],
      "source": [
        "y_train_pred = cross_val_predict(sgd_clf, X_train, y_train_5, cv=3)"
      ]
    },
    {
      "cell_type": "code",
      "execution_count": null,
      "id": "5bac178d-9356-4001-9dce-82ab685bbe59",
      "metadata": {
        "colab": {
          "base_uri": "https://localhost:8080/"
        },
        "id": "5bac178d-9356-4001-9dce-82ab685bbe59",
        "outputId": "550d79e1-1222-426f-82a5-19fbea74d50d"
      },
      "outputs": [
        {
          "data": {
            "text/plain": [
              "array([ True, False, False, ...,  True, False, False])"
            ]
          },
          "execution_count": 32,
          "metadata": {},
          "output_type": "execute_result"
        }
      ],
      "source": [
        "y_train_pred"
      ]
    },
    {
      "cell_type": "code",
      "execution_count": null,
      "id": "84d3d7e2-5cf9-432b-91ed-f6c75df5b9cb",
      "metadata": {
        "id": "84d3d7e2-5cf9-432b-91ed-f6c75df5b9cb"
      },
      "outputs": [],
      "source": [
        "from sklearn.metrics import confusion_matrix"
      ]
    },
    {
      "cell_type": "code",
      "execution_count": null,
      "id": "472548be-2e2f-41d2-b581-2173f9e8eaeb",
      "metadata": {
        "colab": {
          "base_uri": "https://localhost:8080/"
        },
        "id": "472548be-2e2f-41d2-b581-2173f9e8eaeb",
        "outputId": "c52b0620-5521-43c4-b257-9d624ff86c8a"
      },
      "outputs": [
        {
          "data": {
            "text/plain": [
              "array([[53892,   687],\n",
              "       [ 1891,  3530]])"
            ]
          },
          "execution_count": 34,
          "metadata": {},
          "output_type": "execute_result"
        }
      ],
      "source": [
        "confusion_matrix(y_train_5, y_train_pred)"
      ]
    },
    {
      "cell_type": "code",
      "execution_count": null,
      "id": "af974082-3dbb-44b1-90f6-adb444e47ff4",
      "metadata": {
        "id": "af974082-3dbb-44b1-90f6-adb444e47ff4"
      },
      "outputs": [],
      "source": [
        "#in the above case TN/non-5 identified as non5\n",
        "#in the above case FN/non-5 identified as 5\n",
        "#in the above case FP/5 identified as non 5\n",
        "#in the above case TP/5 identified as 5\n",
        "\n",
        "\n",
        "#One would ideally want the FN and the FP to be zero\n",
        "#TN/(TN + FP) is specificity\n",
        "\n",
        "#precision = TP/(TP + FP)\n",
        "\n",
        "#and recall/sensitivity or true positive rate  is the ratio of\n",
        "\n",
        "#recall = TP/(TP + FN)"
      ]
    },
    {
      "cell_type": "markdown",
      "id": "6db97773",
      "metadata": {},
      "source": [
        "![Alt text](Screenshot%20from%202022-10-21%2018-11-47.png)"
      ]
    },
    {
      "cell_type": "code",
      "execution_count": null,
      "id": "827c23cc-4bf8-4a1a-b45f-72a41665c7da",
      "metadata": {
        "colab": {
          "base_uri": "https://localhost:8080/"
        },
        "id": "827c23cc-4bf8-4a1a-b45f-72a41665c7da",
        "outputId": "b0ec7750-cabe-4ff8-a1b0-987cfb86d1a4"
      },
      "outputs": [
        {
          "name": "stdout",
          "output_type": "stream",
          "text": [
            "0.8370879772350012\n",
            "0.6511713705958311\n",
            "specificity 0.9661007833927899\n"
          ]
        }
      ],
      "source": [
        "#calculating precision and recall\n",
        "\n",
        "from sklearn.metrics import precision_score, recall_score\n",
        "\n",
        "print(precision_score(y_train_5, y_train_pred))\n",
        "print(recall_score(y_train_5, y_train_pred))\n",
        "print(f'specificity {53892/(53892+1891)}')"
      ]
    },
    {
      "cell_type": "code",
      "execution_count": null,
      "id": "14207f40-6240-4f72-ba91-66df2f7bd698",
      "metadata": {
        "id": "14207f40-6240-4f72-ba91-66df2f7bd698"
      },
      "outputs": [],
      "source": [
        "#It is often convenient to combine precision and recall into a single metric \n",
        "#called F1_score in particular if you need a simple way to compare two classifiers\n",
        "\n",
        "#f1score is the harmonic mean of the precision and recall and gives much more weight\n",
        "#to the lower values hence f1 score isw only high when precision and recall both \n",
        "#are high"
      ]
    },
    {
      "cell_type": "code",
      "execution_count": null,
      "id": "a770a8b9-e722-4d16-95e5-3ad5e1f5c5a3",
      "metadata": {
        "colab": {
          "base_uri": "https://localhost:8080/"
        },
        "id": "a770a8b9-e722-4d16-95e5-3ad5e1f5c5a3",
        "outputId": "5223851a-c444-4bf6-dc66-f93bedeee296"
      },
      "outputs": [
        {
          "data": {
            "text/plain": [
              "0.7325171197343846"
            ]
          },
          "execution_count": 38,
          "metadata": {},
          "output_type": "execute_result"
        }
      ],
      "source": [
        "from sklearn.metrics import f1_score\n",
        "f1_score(y_train_5, y_train_pred)"
      ]
    },
    {
      "cell_type": "markdown",
      "id": "c33c8a4b-7e3a-460c-8212-e6783b5fd200",
      "metadata": {
        "id": "c33c8a4b-7e3a-460c-8212-e6783b5fd200"
      },
      "source": [
        "![Alt text](Screenshot%20from%202022-10-21%2019-13-51.png)"
      ]
    },
    {
      "cell_type": "markdown",
      "id": "490083e0-9f22-4416-b1bb-a7a4bc8cc164",
      "metadata": {
        "id": "490083e0-9f22-4416-b1bb-a7a4bc8cc164"
      },
      "source": [
        "#### Precision/Recall Trade=off"
      ]
    },
    {
      "cell_type": "code",
      "execution_count": null,
      "id": "14479680-dc3d-4376-acd6-499004d958e4",
      "metadata": {
        "colab": {
          "base_uri": "https://localhost:8080/"
        },
        "id": "14479680-dc3d-4376-acd6-499004d958e4",
        "outputId": "4577f33a-95e3-48b9-b326-f007c3ff2cc3"
      },
      "outputs": [
        {
          "data": {
            "text/plain": [
              "array([2164.22030239])"
            ]
          },
          "execution_count": 39,
          "metadata": {},
          "output_type": "execute_result"
        }
      ],
      "source": [
        "#SGD classifier assigns a score based on a decision function for each instance\n",
        "#if that score is above a threshold\n",
        "#SGD assigns the instance in a positive class or negative if otherwies\n",
        "\n",
        "\n",
        "\n",
        "#to compute that one can call the decision function \n",
        "\n",
        "y_scores = sgd_clf.decision_function([some_digit])\n",
        "y_scores"
      ]
    },
    {
      "cell_type": "code",
      "execution_count": null,
      "id": "e94178a7-0be3-4305-8e72-2647f9c13b96",
      "metadata": {
        "colab": {
          "base_uri": "https://localhost:8080/"
        },
        "id": "e94178a7-0be3-4305-8e72-2647f9c13b96",
        "outputId": "26028ef0-3f4e-4b57-ad11-a4c897d95ecd"
      },
      "outputs": [
        {
          "data": {
            "text/plain": [
              "array([ True])"
            ]
          },
          "execution_count": 40,
          "metadata": {},
          "output_type": "execute_result"
        }
      ],
      "source": [
        "threshold = 0\n",
        "y_some_digit_pred = (y_scores > threshold)\n",
        "y_some_digit_pred"
      ]
    },
    {
      "cell_type": "code",
      "execution_count": null,
      "id": "c2466eab-ea7c-4fdb-895f-ef009f312413",
      "metadata": {
        "colab": {
          "base_uri": "https://localhost:8080/"
        },
        "id": "c2466eab-ea7c-4fdb-895f-ef009f312413",
        "outputId": "cfb090ad-52c0-4606-afce-8eed63836af9"
      },
      "outputs": [
        {
          "data": {
            "text/plain": [
              "array([False])"
            ]
          },
          "execution_count": 41,
          "metadata": {},
          "output_type": "execute_result"
        }
      ],
      "source": [
        "#assigning a threshold as 0\n",
        "threshold  = 5000\n",
        "y_some_digit_pred = (y_scores > threshold)\n",
        "y_some_digit_pred   #assigns false for the threshold is above the score"
      ]
    },
    {
      "cell_type": "code",
      "execution_count": null,
      "id": "12f17e8f-ee7f-4474-8063-54309ebc05d8",
      "metadata": {
        "id": "12f17e8f-ee7f-4474-8063-54309ebc05d8"
      },
      "outputs": [],
      "source": [
        "#How do you decide which threshold to use\n",
        "#lets return the decision scores instead of the predictions\n",
        "\n",
        "y_scores = cross_val_predict(sgd_clf, X_train, y_train_5, cv=3,method='decision_function')"
      ]
    },
    {
      "cell_type": "code",
      "execution_count": null,
      "id": "5484d27f-8fde-4dd5-869c-edab9ee18c53",
      "metadata": {
        "colab": {
          "base_uri": "https://localhost:8080/"
        },
        "id": "5484d27f-8fde-4dd5-869c-edab9ee18c53",
        "outputId": "31d64c6a-cb56-487a-ecab-fcb77783e210"
      },
      "outputs": [
        {
          "data": {
            "text/plain": [
              "array([  1200.93051237, -26883.79202424, -33072.03475406, ...,\n",
              "        13272.12718981,  -7258.47203373, -16877.50840447])"
            ]
          },
          "execution_count": 43,
          "metadata": {},
          "output_type": "execute_result"
        }
      ],
      "source": [
        "y_scores"
      ]
    },
    {
      "cell_type": "code",
      "execution_count": null,
      "id": "aec08a12-e1f1-4103-96c0-83c52d39b4d5",
      "metadata": {
        "colab": {
          "base_uri": "https://localhost:8080/"
        },
        "id": "aec08a12-e1f1-4103-96c0-83c52d39b4d5",
        "outputId": "8d419c78-1d11-4c9e-e190-cf869212ca13"
      },
      "outputs": [
        {
          "data": {
            "text/plain": [
              "60000"
            ]
          },
          "execution_count": 44,
          "metadata": {},
          "output_type": "execute_result"
        }
      ],
      "source": [
        "len(y_scores)"
      ]
    },
    {
      "cell_type": "code",
      "execution_count": null,
      "id": "76c73e46-4a52-4b7b-a7fa-018378d0863e",
      "metadata": {
        "id": "76c73e46-4a52-4b7b-a7fa-018378d0863e"
      },
      "outputs": [],
      "source": [
        "#with these scores use the precision_recall_curve() function to compute precision and recall for all\n",
        "#possible thresholds\n",
        "\n",
        "from sklearn.metrics import precision_recall_curve\n",
        "\n",
        "precisions, recalls, thresholds = precision_recall_curve(y_train_5, y_scores)"
      ]
    },
    {
      "cell_type": "code",
      "execution_count": null,
      "id": "b58a3d4a-6b41-4e98-9f8f-5d4ee8e5b97d",
      "metadata": {
        "id": "b58a3d4a-6b41-4e98-9f8f-5d4ee8e5b97d"
      },
      "outputs": [],
      "source": [
        "def plot_precision_recall_vs_threshold(precisions, recalls, thresholds):\n",
        "    a = plt.plot(thresholds, precisions[:-1],'b--',label='Precision')\n",
        "    b = plt.plot(thresholds, recalls[:-1], 'g-', label='Recall')\n",
        "    plt.legend()\n",
        "    plt.xlim([-50000,50000])\n",
        "    plt.grid(linestyle='--')\n",
        "    plt.axvline(5000,ymax=0.88, color='red', linestyle=':')\n",
        "    plt.axhline(0.915,xmax=0.56, color='red', linestyle=':')\n",
        "    plt.axhline(0.4,xmax=0.55, color='red', linestyle=':')\n",
        "    plt.scatter(5000,0.917,color='red')\n",
        "    plt.scatter(5000,0.4,color='red')\n",
        "    plt.show()"
      ]
    },
    {
      "cell_type": "code",
      "execution_count": null,
      "id": "d53016c3-03e9-4497-9ae8-e7b0f8b6e73c",
      "metadata": {
        "colab": {
          "base_uri": "https://localhost:8080/",
          "height": 265
        },
        "id": "d53016c3-03e9-4497-9ae8-e7b0f8b6e73c",
        "outputId": "7fc9b885-a32f-4c58-d03f-1a524ebbba3c"
      },
      "outputs": [
        {
          "data": {
            "image/png": "[encoded data removed]",
            "text/plain": [
              "<Figure size 432x288 with 1 Axes>"
            ]
          },
          "metadata": {},
          "output_type": "display_data"
        }
      ],
      "source": [
        "plot_precision_recall_vs_threshold(precisions, recalls, thresholds)"
      ]
    },
    {
      "cell_type": "code",
      "execution_count": null,
      "id": "b48791d8-b537-483d-bf19-3b0991795dbd",
      "metadata": {
        "colab": {
          "base_uri": "https://localhost:8080/"
        },
        "id": "b48791d8-b537-483d-bf19-3b0991795dbd",
        "outputId": "c2d3c443-a888-4d9c-c86c-4bb41b974efd"
      },
      "outputs": [
        {
          "data": {
            "text/plain": [
              "((59967,), (59967,), (59966,))"
            ]
          },
          "execution_count": 48,
          "metadata": {},
          "output_type": "execute_result"
        }
      ],
      "source": [
        "recalls.shape, precisions.shape, thresholds.shape"
      ]
    },
    {
      "cell_type": "code",
      "execution_count": null,
      "id": "fd4e2c68-dd6c-4d31-b5e3-c11dbde20d25",
      "metadata": {
        "id": "fd4e2c68-dd6c-4d31-b5e3-c11dbde20d25"
      },
      "outputs": [],
      "source": [
        "#another way to assess is to plot precision directly against recall"
      ]
    },
    {
      "cell_type": "code",
      "execution_count": null,
      "id": "f008a031-c7a2-41c3-a9d8-d4e5e719e80c",
      "metadata": {
        "colab": {
          "base_uri": "https://localhost:8080/",
          "height": 505
        },
        "id": "f008a031-c7a2-41c3-a9d8-d4e5e719e80c",
        "outputId": "33b9350a-49bf-44dd-b5fc-c0d24d8e0dad"
      },
      "outputs": [
        {
          "ename": "TypeError",
          "evalue": "ignored",
          "output_type": "error",
          "traceback": [
            "\u001b[0;31m---------------------------------------------------------------------------\u001b[0m",
            "\u001b[0;31mTypeError\u001b[0m                                 Traceback (most recent call last)",
            "\u001b[0;32m<ipython-input-50-f48f6654037a>\u001b[0m in \u001b[0;36m<module>\u001b[0;34m\u001b[0m\n\u001b[1;32m     11\u001b[0m \u001b[0mplt\u001b[0m\u001b[0;34m.\u001b[0m\u001b[0mscatter\u001b[0m\u001b[0;34m(\u001b[0m\u001b[0;36m0.71\u001b[0m\u001b[0;34m,\u001b[0m\u001b[0;36m0.81\u001b[0m\u001b[0;34m,\u001b[0m \u001b[0mcolor\u001b[0m\u001b[0;34m=\u001b[0m\u001b[0;34m'red'\u001b[0m\u001b[0;34m)\u001b[0m\u001b[0;34m\u001b[0m\u001b[0;34m\u001b[0m\u001b[0m\n\u001b[1;32m     12\u001b[0m \u001b[0mplt\u001b[0m\u001b[0;34m.\u001b[0m\u001b[0mscatter\u001b[0m\u001b[0;34m(\u001b[0m\u001b[0;36m0.51\u001b[0m\u001b[0;34m,\u001b[0m\u001b[0;36m0.91\u001b[0m\u001b[0;34m,\u001b[0m \u001b[0mcolor\u001b[0m\u001b[0;34m=\u001b[0m\u001b[0;34m'red'\u001b[0m\u001b[0;34m)\u001b[0m\u001b[0;34m\u001b[0m\u001b[0;34m\u001b[0m\u001b[0m\n\u001b[0;32m---> 13\u001b[0;31m \u001b[0mplt\u001b[0m\u001b[0;34m.\u001b[0m\u001b[0mannotate\u001b[0m\u001b[0;34m(\u001b[0m\u001b[0mtext\u001b[0m\u001b[0;34m=\u001b[0m\u001b[0;34m'90% Precision'\u001b[0m\u001b[0;34m,\u001b[0m\u001b[0mxy\u001b[0m\u001b[0;34m=\u001b[0m\u001b[0;34m(\u001b[0m\u001b[0;36m0.51\u001b[0m\u001b[0;34m,\u001b[0m\u001b[0;36m0.91\u001b[0m\u001b[0;34m)\u001b[0m\u001b[0;34m,\u001b[0m\u001b[0mxytext\u001b[0m\u001b[0;34m=\u001b[0m\u001b[0;34m(\u001b[0m\u001b[0;36m0.52\u001b[0m\u001b[0;34m,\u001b[0m\u001b[0;36m0.95\u001b[0m\u001b[0;34m)\u001b[0m\u001b[0;34m)\u001b[0m\u001b[0;34m\u001b[0m\u001b[0;34m\u001b[0m\u001b[0m\n\u001b[0m\u001b[1;32m     14\u001b[0m \u001b[0mplt\u001b[0m\u001b[0;34m.\u001b[0m\u001b[0mannotate\u001b[0m\u001b[0;34m(\u001b[0m\u001b[0mtext\u001b[0m\u001b[0;34m=\u001b[0m\u001b[0;34m'80% Precision'\u001b[0m\u001b[0;34m,\u001b[0m\u001b[0mxy\u001b[0m\u001b[0;34m=\u001b[0m\u001b[0;34m(\u001b[0m\u001b[0;36m0.71\u001b[0m\u001b[0;34m,\u001b[0m\u001b[0;36m0.81\u001b[0m\u001b[0;34m)\u001b[0m\u001b[0;34m,\u001b[0m \u001b[0mxytext\u001b[0m\u001b[0;34m=\u001b[0m\u001b[0;34m(\u001b[0m\u001b[0;36m0.72\u001b[0m\u001b[0;34m,\u001b[0m \u001b[0;36m0.85\u001b[0m\u001b[0;34m)\u001b[0m\u001b[0;34m)\u001b[0m\u001b[0;34m\u001b[0m\u001b[0;34m\u001b[0m\u001b[0m\n\u001b[1;32m     15\u001b[0m \u001b[0;34m\u001b[0m\u001b[0m\n",
            "\u001b[0;31mTypeError\u001b[0m: annotate() missing 1 required positional argument: 's'"
          ]
        },
        {
          "data": {
            "image/png": "[encoded data removed]",
            "text/plain": [
              "<Figure size 432x288 with 1 Axes>"
            ]
          },
          "metadata": {},
          "output_type": "display_data"
        }
      ],
      "source": [
        "plt.plot(precisions[:-1], recalls[:-1])\n",
        "plt.xlim((0.1,1.0))\n",
        "plt.xlabel('Recall')\n",
        "plt.ylabel('Precision')\n",
        "plt.grid()\n",
        "plt.axvline(0.71,ymax=0.77, color='red',linestyle='--')\n",
        "plt.axhline(0.81,xmax=0.67, color='red',linestyle='--')\n",
        "plt.axvline(0.51,ymax=0.88, color='magenta',linestyle=':')\n",
        "plt.axhline(0.91,xmax=0.45, color='magenta',linestyle=':')\n",
        "plt.scatter(0.71,0.81, color='red')\n",
        "plt.scatter(0.71,0.81, color='red')\n",
        "plt.scatter(0.51,0.91, color='red')\n",
        "plt.annotate(text='90% Precision',xy=(0.51,0.91),xytext=(0.52,0.95))\n",
        "plt.annotate(text='80% Precision',xy=(0.71,0.81), xytext=(0.72, 0.85))\n",
        "\n",
        "plt.show()"
      ]
    },
    {
      "cell_type": "code",
      "execution_count": null,
      "id": "e4856794-ebb7-48bf-936e-6e70f6685f19",
      "metadata": {
        "colab": {
          "base_uri": "https://localhost:8080/"
        },
        "id": "e4856794-ebb7-48bf-936e-6e70f6685f19",
        "outputId": "7eb0807d-fbb9-44fd-bfe1-618ffec08f92"
      },
      "outputs": [
        {
          "data": {
            "text/plain": [
              "3370.0194991439557"
            ]
          },
          "execution_count": 51,
          "metadata": {},
          "output_type": "execute_result"
        }
      ],
      "source": [
        "#However to find the max value of threshold at 90 percent precision we can use a function called np.argmax which gives the first index of the max value it encounters\n",
        "thresholds_90_percent = thresholds[np.argmax(precisions[:-1] >= 0.9)]\n",
        "thresholds_90_percent"
      ]
    },
    {
      "cell_type": "code",
      "execution_count": null,
      "id": "ec19404b-74ba-46f1-93d2-b5d0592590be",
      "metadata": {
        "colab": {
          "base_uri": "https://localhost:8080/"
        },
        "id": "ec19404b-74ba-46f1-93d2-b5d0592590be",
        "outputId": "f6eab1cf-e9a9-4665-b395-38b1c282711d"
      },
      "outputs": [
        {
          "data": {
            "text/plain": [
              "array([False, False, False, ...,  True, False, False])"
            ]
          },
          "execution_count": 52,
          "metadata": {},
          "output_type": "execute_result"
        }
      ],
      "source": [
        "y_train_pred_90 = (y_scores >= thresholds_90_percent)\n",
        "\n",
        "y_train_pred_90\n"
      ]
    },
    {
      "cell_type": "code",
      "execution_count": null,
      "id": "65f563cc",
      "metadata": {
        "colab": {
          "base_uri": "https://localhost:8080/"
        },
        "id": "65f563cc",
        "outputId": "ff43b9b3-fe4b-40c1-ea95-746f503c957e"
      },
      "outputs": [
        {
          "name": "stdout",
          "output_type": "stream",
          "text": [
            "0.4799852425751706\n"
          ]
        },
        {
          "data": {
            "text/plain": [
              "0.626082771896054"
            ]
          },
          "execution_count": 53,
          "metadata": {},
          "output_type": "execute_result"
        }
      ],
      "source": [
        "precision_score(y_train_5, y_train_pred_90)\n",
        "print(recall_score(y_train_5, y_train_pred_90))\n",
        "f1_score(y_train_5, y_train_pred_90)"
      ]
    },
    {
      "cell_type": "markdown",
      "id": "a2c96fe5",
      "metadata": {
        "id": "a2c96fe5"
      },
      "source": [
        "#### The ROC Curve (Receiver Operating Characteristics)"
      ]
    },
    {
      "cell_type": "code",
      "execution_count": null,
      "id": "a22503d2",
      "metadata": {
        "id": "a22503d2"
      },
      "outputs": [],
      "source": [
        "#simillar to Precision vs Recall but plots TPR vs FPR\n",
        "#FPR is the negatives that are falsely classified as positives\n",
        "#FPR = FP/(FP + TN)\n",
        "#TNR = TN/(TN + FP) (specificity)\n",
        "#TPR = TP/(TP + FN) (sensitivity)/(recall)\n",
        "#precision = TP/(TP + TN)"
      ]
    },
    {
      "cell_type": "code",
      "execution_count": null,
      "id": "47ede105",
      "metadata": {
        "id": "47ede105"
      },
      "outputs": [],
      "source": [
        "from sklearn.metrics import roc_curve\n",
        "fpr, tpr, thresholds = roc_curve(y_train_5, y_scores)"
      ]
    },
    {
      "cell_type": "code",
      "execution_count": null,
      "id": "f1c9d61d",
      "metadata": {
        "colab": {
          "base_uri": "https://localhost:8080/",
          "height": 295
        },
        "id": "f1c9d61d",
        "outputId": "71e1e57d-a73d-4d00-f367-6cdfb02fce2f"
      },
      "outputs": [
        {
          "data": {
            "image/png": "[encoded data removed]",
            "text/plain": [
              "<Figure size 432x288 with 1 Axes>"
            ]
          },
          "metadata": {},
          "output_type": "display_data"
        }
      ],
      "source": [
        "def roc_plot(fpr, tpr, label=None):\n",
        "    plt.plot(fpr, tpr, linewidth=2, label=label)\n",
        "    plt.plot([0,1],[0,1],'k--')  #Dashed diagonal\n",
        "    plt.xlabel('False Positive Rate')\n",
        "    plt.ylabel(\"Recall/ True Positive Rate\")\n",
        "    plt.title(\"ROC Curve Plot\")\n",
        "    plt.grid(linestyle='--')\n",
        "\n",
        "\n",
        "roc_plot(fpr, tpr)\n",
        "plt.show()"
      ]
    },
    {
      "cell_type": "code",
      "execution_count": null,
      "id": "5fb8a516",
      "metadata": {
        "id": "5fb8a516"
      },
      "outputs": [],
      "source": [
        "#The dotted line shows Roc curve of a purely random classifier\n",
        "#A good classifier stays away from that line"
      ]
    },
    {
      "cell_type": "code",
      "execution_count": null,
      "id": "f279598e",
      "metadata": {
        "colab": {
          "base_uri": "https://localhost:8080/"
        },
        "id": "f279598e",
        "outputId": "85331f6c-7b88-4589-aca2-82d6a39ed669"
      },
      "outputs": [
        {
          "data": {
            "text/plain": [
              "0.9604938554008616"
            ]
          },
          "execution_count": 58,
          "metadata": {},
          "output_type": "execute_result"
        }
      ],
      "source": [
        "#One way to compare classifiers is to measure the area under the curve (AUC) a perfect one will have AUC of 1 whereas a purely random one will have 0.5. sklearn provides a function to compute the roc auc\n",
        "\n",
        "from sklearn.metrics import roc_auc_score\n",
        "\n",
        "roc_auc_score(y_train_5, y_scores)"
      ]
    },
    {
      "cell_type": "code",
      "execution_count": null,
      "id": "19d18a76",
      "metadata": {
        "id": "19d18a76"
      },
      "outputs": [],
      "source": [
        "#Choose ROC when you care about the true positives\n",
        "#precision/recall curve when you care about the false positives more"
      ]
    },
    {
      "cell_type": "markdown",
      "id": "1959375f",
      "metadata": {
        "id": "1959375f"
      },
      "source": [
        "#### Train a RandomForestClassifier"
      ]
    },
    {
      "cell_type": "markdown",
      "id": "a0d85747",
      "metadata": {
        "id": "a0d85747"
      },
      "source": [
        "###### Train a RandomForestClassifier to and compare its ROC cure and ROC AUC"
      ]
    },
    {
      "cell_type": "code",
      "execution_count": null,
      "id": "4bffe6fc",
      "metadata": {
        "id": "4bffe6fc"
      },
      "outputs": [],
      "source": [
        "##Also the random forest classifier doesnt have decision_function() instead it has a predict_proba() method\n",
        "\n",
        "from sklearn.ensemble import RandomForestClassifier\n",
        "from sklearn.model_selection import cross_val_predict\n",
        "\n",
        "forest_clf = RandomForestClassifier(random_state=42)\n",
        "\n",
        "y_probas_forest = cross_val_predict(forest_clf, X_train, y_train_5, cv=3,method='predict_proba')"
      ]
    },
    {
      "cell_type": "code",
      "execution_count": null,
      "id": "241d97be",
      "metadata": {
        "id": "241d97be"
      },
      "outputs": [],
      "source": [
        "#The roc_curve() function expects labels and scores, but instead one can also provide class's probability\n",
        "\n",
        "y_scores_forest = y_probas_forest[:,1]\n",
        "\n",
        "fpr_forest, tpr_forest, thresholds_forest = roc_curve(y_train_5, y_scores_forest)"
      ]
    },
    {
      "cell_type": "code",
      "execution_count": null,
      "id": "a64ae80e",
      "metadata": {
        "colab": {
          "base_uri": "https://localhost:8080/",
          "height": 295
        },
        "id": "a64ae80e",
        "outputId": "ef005974-aa49-4958-fc34-3f01673fb8a0"
      },
      "outputs": [
        {
          "data": {
            "image/png": "[encoded data removed]",
            "text/plain": [
              "<Figure size 432x288 with 1 Axes>"
            ]
          },
          "metadata": {},
          "output_type": "display_data"
        }
      ],
      "source": [
        "plt.grid()\n",
        "plt.plot(fpr_forest, tpr_forest, label='Random Forest')\n",
        "plt.plot(fpr,tpr,label='SGD',linestyle='--')\n",
        "plt.legend(loc='lower right')\n",
        "plt.xlabel('False Positive Rate')\n",
        "plt.ylabel('True Positive Rate')\n",
        "plt.title(\"Random Forest and SGD plot\")\n",
        "plt.plot([0,1],[0,1],color='k',alpha=0.1)\n",
        "plt.show()"
      ]
    },
    {
      "cell_type": "code",
      "execution_count": null,
      "id": "2d076858",
      "metadata": {
        "id": "2d076858"
      },
      "outputs": [],
      "source": [
        "y_scores_forest_bool = y_scores_forest > 0.5"
      ]
    },
    {
      "cell_type": "code",
      "execution_count": null,
      "id": "c585a25f",
      "metadata": {
        "colab": {
          "base_uri": "https://localhost:8080/"
        },
        "id": "c585a25f",
        "outputId": "f1ee79d6-d20d-4669-e258-d17771919f40"
      },
      "outputs": [
        {
          "data": {
            "text/plain": [
              "array([ True, False, False, ...,  True, False, False])"
            ]
          },
          "execution_count": 64,
          "metadata": {},
          "output_type": "execute_result"
        }
      ],
      "source": [
        "y_scores_forest_bool"
      ]
    },
    {
      "cell_type": "code",
      "execution_count": null,
      "id": "6960e2ce",
      "metadata": {
        "colab": {
          "base_uri": "https://localhost:8080/"
        },
        "id": "6960e2ce",
        "outputId": "42112958-8aac-415f-9dd8-7eb41f002a9f"
      },
      "outputs": [
        {
          "data": {
            "text/plain": [
              "0.9983436731328145"
            ]
          },
          "execution_count": 65,
          "metadata": {},
          "output_type": "execute_result"
        }
      ],
      "source": [
        "from sklearn.metrics import roc_auc_score, precision_score, recall_score,confusion_matrix\n",
        "roc_auc_score(y_train_5, y_scores_forest)"
      ]
    },
    {
      "cell_type": "code",
      "execution_count": null,
      "id": "9005fb52",
      "metadata": {
        "colab": {
          "base_uri": "https://localhost:8080/"
        },
        "id": "9005fb52",
        "outputId": "6436d92a-dc1d-42d2-a4ef-1be6335225b2"
      },
      "outputs": [
        {
          "data": {
            "text/plain": [
              "array([ True, False, False, ...,  True, False, False])"
            ]
          },
          "execution_count": 66,
          "metadata": {},
          "output_type": "execute_result"
        }
      ],
      "source": [
        "y_scores_forest_bool"
      ]
    },
    {
      "cell_type": "code",
      "execution_count": null,
      "id": "075e99f6",
      "metadata": {
        "colab": {
          "base_uri": "https://localhost:8080/"
        },
        "id": "075e99f6",
        "outputId": "f29e8897-e2b5-4123-e022-4450415513c2"
      },
      "outputs": [
        {
          "data": {
            "text/plain": [
              "array([[54534,    45],\n",
              "       [  725,  4696]])"
            ]
          },
          "execution_count": 67,
          "metadata": {},
          "output_type": "execute_result"
        }
      ],
      "source": [
        "confusion_matrix(y_train_5,y_scores_forest_bool)"
      ]
    },
    {
      "cell_type": "code",
      "execution_count": null,
      "id": "b6a3c1c9",
      "metadata": {
        "colab": {
          "base_uri": "https://localhost:8080/"
        },
        "id": "b6a3c1c9",
        "outputId": "15567c7e-31eb-453a-e45d-6e83fa30e221"
      },
      "outputs": [
        {
          "name": "stdout",
          "output_type": "stream",
          "text": [
            "0.9905083315756169\n",
            "0.8662608374838591\n"
          ]
        }
      ],
      "source": [
        "print(precision_score(y_train_5, y_scores_forest_bool))\n",
        "print(recall_score(y_train_5, y_scores_forest_bool))"
      ]
    },
    {
      "cell_type": "markdown",
      "id": "649fd897",
      "metadata": {
        "id": "649fd897"
      },
      "source": [
        "#### Multiclass Classification"
      ]
    },
    {
      "cell_type": "code",
      "execution_count": null,
      "id": "0c736911",
      "metadata": {
        "id": "0c736911"
      },
      "outputs": [],
      "source": [
        "#Some algorithms (such as Support Vector classifiers) scale poorly with the size of the training set. For these algorithms OvO is preferred because it is faster to train many classifiers on small training sets than to train few  classifiers on large training sets. For most binary classification algorithms, however, OvR is preferred.\n",
        "\n",
        "#SVC performs poorly on large datasets"
      ]
    },
    {
      "cell_type": "markdown",
      "id": "b601017e",
      "metadata": {
        "id": "b601017e"
      },
      "source": [
        "#### Trying with SVC"
      ]
    },
    {
      "cell_type": "code",
      "execution_count": null,
      "id": "f8ab49a3",
      "metadata": {
        "colab": {
          "base_uri": "https://localhost:8080/"
        },
        "id": "f8ab49a3",
        "outputId": "f30a9eae-bf76-4f42-daca-ac6a3bdc7676"
      },
      "outputs": [
        {
          "data": {
            "text/plain": [
              "array([5], dtype=uint8)"
            ]
          },
          "execution_count": 70,
          "metadata": {},
          "output_type": "execute_result"
        }
      ],
      "source": [
        "from sklearn.svm import SVC\n",
        "\n",
        "svm_clf = SVC()\n",
        "svm_clf.fit(X_train, y_train)  #y_train, not y_train_5\n",
        "svm_clf.predict([some_digit])\n"
      ]
    },
    {
      "cell_type": "code",
      "execution_count": null,
      "id": "186542af",
      "metadata": {
        "id": "186542af"
      },
      "outputs": [],
      "source": [
        "some_digit_score = svm_clf.decision_function([some_digit])   #shows 10 scores for 0 to 9\n",
        "#And the score with the highest value ie 9.313 is for the number five hence it predicts five"
      ]
    },
    {
      "cell_type": "code",
      "execution_count": null,
      "id": "0bb0bc95",
      "metadata": {
        "colab": {
          "base_uri": "https://localhost:8080/"
        },
        "id": "0bb0bc95",
        "outputId": "9156a8c2-7aa4-40e4-93c5-6ff493c79d74"
      },
      "outputs": [
        {
          "name": "stdout",
          "output_type": "stream",
          "text": [
            "5\n"
          ]
        },
        {
          "data": {
            "text/plain": [
              "array([0, 1, 2, 3, 4, 5, 6, 7, 8, 9], dtype=uint8)"
            ]
          },
          "execution_count": 72,
          "metadata": {},
          "output_type": "execute_result"
        }
      ],
      "source": [
        "#To check which number it is\n",
        "\n",
        "print(np.argmax(some_digit_score))\n",
        "svm_clf.classes_"
      ]
    },
    {
      "cell_type": "markdown",
      "id": "7804cd12",
      "metadata": {
        "id": "7804cd12"
      },
      "source": [
        "#### If you want to force OneVsRestClassifier to SVC"
      ]
    },
    {
      "cell_type": "code",
      "execution_count": null,
      "id": "37822d0e",
      "metadata": {
        "colab": {
          "base_uri": "https://localhost:8080/"
        },
        "id": "37822d0e",
        "outputId": "68e30e91-6aec-49f0-eb53-7f85796b406e"
      },
      "outputs": [
        {
          "data": {
            "text/plain": [
              "array([5], dtype=uint8)"
            ]
          },
          "execution_count": 73,
          "metadata": {},
          "output_type": "execute_result"
        }
      ],
      "source": [
        "from sklearn.multiclass import OneVsRestClassifier\n",
        "ovr_clf = OneVsRestClassifier(SVC())\n",
        "ovr_clf.fit(X_train, y_train)\n",
        "ovr_clf.predict([some_digit])"
      ]
    },
    {
      "cell_type": "code",
      "execution_count": null,
      "id": "1d0833d9",
      "metadata": {
        "colab": {
          "base_uri": "https://localhost:8080/"
        },
        "id": "1d0833d9",
        "outputId": "e1d5686e-ec2d-406f-a10a-953cdb07de9f"
      },
      "outputs": [
        {
          "data": {
            "text/plain": [
              "10"
            ]
          },
          "execution_count": 75,
          "metadata": {},
          "output_type": "execute_result"
        }
      ],
      "source": [
        "len(ovr_clf.estimators_)   #There are 10 estimators"
      ]
    },
    {
      "cell_type": "markdown",
      "id": "l0cQu-9RWEpx",
      "metadata": {
        "id": "l0cQu-9RWEpx"
      },
      "source": [
        "#### Now using SGD classifier"
      ]
    },
    {
      "cell_type": "markdown",
      "id": "ZHgiOUC-tRiR",
      "metadata": {
        "id": "ZHgiOUC-tRiR"
      },
      "source": [
        "# New Section"
      ]
    },
    {
      "cell_type": "code",
      "execution_count": 15,
      "id": "Y2f3vm3VV1Fr",
      "metadata": {
        "colab": {
          "base_uri": "https://localhost:8080/",
          "height": 171
        },
        "id": "Y2f3vm3VV1Fr",
        "outputId": "21e71aa1-de1a-4391-9c1e-97927a07ddba"
      },
      "outputs": [
        {
          "ename": "NameError",
          "evalue": "ignored",
          "output_type": "error",
          "traceback": [
            "\u001b[0;31m---------------------------------------------------------------------------\u001b[0m",
            "\u001b[0;31mNameError\u001b[0m                                 Traceback (most recent call last)",
            "\u001b[0;32m<ipython-input-15-618cbbb8cdf1>\u001b[0m in \u001b[0;36m<module>\u001b[0;34m\u001b[0m\n\u001b[0;32m----> 1\u001b[0;31m \u001b[0msgd_clf\u001b[0m\u001b[0;34m.\u001b[0m\u001b[0mfit\u001b[0m\u001b[0;34m(\u001b[0m\u001b[0mX_train\u001b[0m\u001b[0;34m,\u001b[0m \u001b[0my_train\u001b[0m\u001b[0;34m)\u001b[0m\u001b[0;34m\u001b[0m\u001b[0;34m\u001b[0m\u001b[0m\n\u001b[0m",
            "\u001b[0;31mNameError\u001b[0m: name 'sgd_clf' is not defined"
          ]
        }
      ],
      "source": [
        "sgd_clf.fit(X_train, y_train)"
      ]
    },
    {
      "cell_type": "code",
      "execution_count": null,
      "id": "l5XFqHXEWXnr",
      "metadata": {
        "colab": {
          "base_uri": "https://localhost:8080/"
        },
        "id": "l5XFqHXEWXnr",
        "outputId": "f0e54541-0f15-4787-b481-31cc7d61734d"
      },
      "outputs": [
        {
          "data": {
            "text/plain": [
              "array([3], dtype=uint8)"
            ]
          },
          "execution_count": 78,
          "metadata": {},
          "output_type": "execute_result"
        }
      ],
      "source": [
        "sgd_clf.predict([some_digit])"
      ]
    },
    {
      "cell_type": "code",
      "execution_count": null,
      "id": "MaliRrIyXvjM",
      "metadata": {
        "colab": {
          "base_uri": "https://localhost:8080/"
        },
        "id": "MaliRrIyXvjM",
        "outputId": "0c296ff8-4bf4-4a58-aa3a-af408e813274"
      },
      "outputs": [
        {
          "data": {
            "text/plain": [
              "array([[-31893.03095419, -34419.69069632,  -9530.63950739,\n",
              "          1823.73154031, -22320.14822878,  -1385.80478895,\n",
              "        -26188.91070951, -16147.51323997,  -4604.35491274,\n",
              "        -12050.767298  ]])"
            ]
          },
          "execution_count": 80,
          "metadata": {},
          "output_type": "execute_result"
        }
      ],
      "source": [
        "sgd_clf.decision_function([some_digit])"
      ]
    },
    {
      "cell_type": "code",
      "execution_count": null,
      "id": "6_TyFfM_YF7i",
      "metadata": {
        "colab": {
          "base_uri": "https://localhost:8080/",
          "height": 266
        },
        "id": "6_TyFfM_YF7i",
        "outputId": "d4b6a901-a035-46e9-e305-ecec7076c528"
      },
      "outputs": [
        {
          "data": {
            "text/plain": [
              "(-0.5, 27.5, 27.5, -0.5)"
            ]
          },
          "execution_count": 88,
          "metadata": {},
          "output_type": "execute_result"
        },
        {
          "data": {
            "image/png": "[encoded data removed]",
            "text/plain": [
              "<Figure size 432x288 with 1 Axes>"
            ]
          },
          "metadata": {},
          "output_type": "display_data"
        }
      ],
      "source": [
        "image = some_digit.reshape(28,28)\n",
        "plt.imshow(image, cmap='BuGn')\n",
        "plt.axis('off')"
      ]
    },
    {
      "cell_type": "code",
      "execution_count": 16,
      "id": "N4h-V2-EgcGq",
      "metadata": {
        "id": "N4h-V2-EgcGq"
      },
      "outputs": [],
      "source": [
        "from sklearn.linear_model import SGDClassifier\n",
        "from sklearn.model_selection import cross_val_score, cross_val_predict\n",
        "sgd_clf = SGDClassifier()"
      ]
    },
    {
      "cell_type": "code",
      "execution_count": 17,
      "id": "CynctUUhYWNR",
      "metadata": {
        "colab": {
          "base_uri": "https://localhost:8080/"
        },
        "id": "CynctUUhYWNR",
        "outputId": "6d309075-660e-4209-c45c-0e9ddaea44ff"
      },
      "outputs": [
        {
          "data": {
            "text/plain": [
              "array([0.83358321, 0.81409295, 0.85285285])"
            ]
          },
          "execution_count": 17,
          "metadata": {},
          "output_type": "execute_result"
        }
      ],
      "source": [
        "#Now testing its accuracy\n",
        "\n",
        "cross_val_score(sgd_clf, X_train[:2000], y_train[:2000], cv=3, scoring='accuracy')"
      ]
    },
    {
      "cell_type": "code",
      "execution_count": 18,
      "id": "wqbWWcbQZUL6",
      "metadata": {
        "id": "wqbWWcbQZUL6"
      },
      "outputs": [],
      "source": [
        "#Also by scaling the training data the accuracy can be improved\n",
        "\n",
        "from sklearn.preprocessing import StandardScaler\n",
        "\n",
        "scaler  = StandardScaler()\n",
        "X_train_scaled = scaler.fit_transform(X_train.astype(np.float64))\n"
      ]
    },
    {
      "cell_type": "code",
      "execution_count": 19,
      "id": "Q2OP7-Ekc_Jm",
      "metadata": {
        "id": "Q2OP7-Ekc_Jm"
      },
      "outputs": [],
      "source": [
        "y_train_pred = cross_val_score(sgd_clf, X_train_scaled[:2000], y_train[:2000], cv = 3, scoring='accuracy')"
      ]
    },
    {
      "cell_type": "code",
      "execution_count": 20,
      "id": "aoSmlo45eF4Z",
      "metadata": {
        "colab": {
          "base_uri": "https://localhost:8080/"
        },
        "id": "aoSmlo45eF4Z",
        "outputId": "7452d2ad-d997-4e0b-94ca-81aed608c57f"
      },
      "outputs": [
        {
          "data": {
            "text/plain": [
              "array([0.85457271, 0.8185907 , 0.86636637])"
            ]
          },
          "execution_count": 20,
          "metadata": {},
          "output_type": "execute_result"
        }
      ],
      "source": [
        "y_train_pred  #89% accuracy achieved"
      ]
    },
    {
      "cell_type": "code",
      "execution_count": 21,
      "id": "waFY2huZhpVE",
      "metadata": {
        "id": "waFY2huZhpVE"
      },
      "outputs": [],
      "source": [
        "\n",
        "y_train_pred = cross_val_predict(sgd_clf, X_train_scaled[:2000], y_train[:2000], cv = 3)"
      ]
    },
    {
      "cell_type": "code",
      "execution_count": 22,
      "id": "YbFMloWZiBap",
      "metadata": {
        "id": "YbFMloWZiBap"
      },
      "outputs": [],
      "source": [
        "import numpy as np\n",
        "np.savez_compressed('/content/y_train_pred_fille.npz', y_train_pred)"
      ]
    },
    {
      "cell_type": "code",
      "execution_count": 23,
      "id": "xOqJ6Heyo57s",
      "metadata": {
        "id": "xOqJ6Heyo57s"
      },
      "outputs": [],
      "source": [
        "f = np.load('/content/y_train_pred_fille.npz',allow_pickle=True)"
      ]
    },
    {
      "cell_type": "code",
      "execution_count": 24,
      "id": "Yu7kCub-vVmj",
      "metadata": {
        "id": "Yu7kCub-vVmj"
      },
      "outputs": [],
      "source": [
        "lst = f.files"
      ]
    },
    {
      "cell_type": "code",
      "execution_count": 25,
      "id": "j4qIYzAkvWEA",
      "metadata": {
        "colab": {
          "base_uri": "https://localhost:8080/"
        },
        "id": "j4qIYzAkvWEA",
        "outputId": "f477bc50-277e-4fa3-96a7-a3afec864ff1"
      },
      "outputs": [
        {
          "name": "stdout",
          "output_type": "stream",
          "text": [
            "arr_0\n"
          ]
        }
      ],
      "source": [
        "for item in lst:\n",
        "  print(item)\n",
        "  f[item]"
      ]
    },
    {
      "cell_type": "code",
      "execution_count": 26,
      "id": "MxWP6W6iwrKs",
      "metadata": {
        "id": "MxWP6W6iwrKs"
      },
      "outputs": [],
      "source": [
        "A = f[item]"
      ]
    },
    {
      "cell_type": "code",
      "execution_count": 27,
      "id": "rDS89emOii6F",
      "metadata": {
        "id": "rDS89emOii6F"
      },
      "outputs": [],
      "source": [
        "from sklearn.metrics import ConfusionMatrixDisplay, confusion_matrix"
      ]
    },
    {
      "cell_type": "code",
      "execution_count": 28,
      "id": "J2P_2bIYxf7g",
      "metadata": {
        "id": "J2P_2bIYxf7g"
      },
      "outputs": [],
      "source": [
        "conf_mx = confusion_matrix(y_train[:2000], y_train_pred)"
      ]
    },
    {
      "cell_type": "code",
      "execution_count": 29,
      "id": "xMys-U61xhjw",
      "metadata": {
        "colab": {
          "base_uri": "https://localhost:8080/"
        },
        "id": "xMys-U61xhjw",
        "outputId": "108fcbe2-09eb-4029-9b60-73a349d481e5"
      },
      "outputs": [
        {
          "data": {
            "text/plain": [
              "array([[174,   0,   2,   1,   0,  12,   1,   0,   1,   0],\n",
              "       [  0, 197,   3,   1,   1,   4,   1,   0,  12,   1],\n",
              "       [  3,   2, 171,   1,   7,   0,   1,   5,   6,   2],\n",
              "       [  1,   1,  12, 155,   0,  11,   0,   5,   3,   3],\n",
              "       [  1,   1,   5,   1, 182,   0,   3,   1,   4,  16],\n",
              "       [  1,   1,   4,   9,   7, 132,   3,   3,  14,   6],\n",
              "       [  1,   3,   3,   0,   6,   5, 180,   0,   2,   0],\n",
              "       [  2,   2,   3,   3,   6,   0,   0, 192,   2,  14],\n",
              "       [  1,   7,   5,   3,   0,   8,   0,   2, 138,   8],\n",
              "       [  4,   0,   3,   4,  10,   2,   0,  14,   0, 173]])"
            ]
          },
          "execution_count": 29,
          "metadata": {},
          "output_type": "execute_result"
        }
      ],
      "source": [
        "conf_mx"
      ]
    },
    {
      "cell_type": "code",
      "execution_count": 30,
      "id": "3SzhTFNQ2zRy",
      "metadata": {
        "colab": {
          "base_uri": "https://localhost:8080/",
          "height": 293
        },
        "id": "3SzhTFNQ2zRy",
        "outputId": "99ed17c5-a3a8-4d8a-b660-36c3b338700e"
      },
      "outputs": [
        {
          "data": {
            "text/plain": [
              "<Figure size 1224x1224 with 0 Axes>"
            ]
          },
          "metadata": {},
          "output_type": "display_data"
        },
        {
          "data": {
            "image/png": "[encoded data removed]",
            "text/plain": [
              "<Figure size 288x288 with 1 Axes>"
            ]
          },
          "metadata": {
            "needs_background": "light"
          },
          "output_type": "display_data"
        }
      ],
      "source": [
        "#To make it more meaningful we will use the matplotlibs matshow function\n",
        "plt.figure(figsize=(17,17))\n",
        "plt.matshow(conf_mx, cmap=plt.cm.gray)\n",
        "plt.show()"
      ]
    },
    {
      "cell_type": "code",
      "execution_count": 31,
      "id": "imfxLqQS2_XX",
      "metadata": {
        "id": "imfxLqQS2_XX"
      },
      "outputs": [],
      "source": [
        "row_sums = conf_mx.sum(axis=1, keepdims=True)"
      ]
    },
    {
      "cell_type": "code",
      "execution_count": 32,
      "id": "N2RKFqaL3tjE",
      "metadata": {
        "colab": {
          "base_uri": "https://localhost:8080/"
        },
        "id": "N2RKFqaL3tjE",
        "outputId": "53759586-b684-4eee-915b-b54e333a430a"
      },
      "outputs": [
        {
          "data": {
            "text/plain": [
              "array([[0.91099476, 0.        , 0.0104712 , 0.0052356 , 0.        ,\n",
              "        0.06282723, 0.0052356 , 0.        , 0.0052356 , 0.        ],\n",
              "       [0.        , 0.89545455, 0.01363636, 0.00454545, 0.00454545,\n",
              "        0.01818182, 0.00454545, 0.        , 0.05454545, 0.00454545],\n",
              "       [0.01515152, 0.01010101, 0.86363636, 0.00505051, 0.03535354,\n",
              "        0.        , 0.00505051, 0.02525253, 0.03030303, 0.01010101],\n",
              "       [0.0052356 , 0.0052356 , 0.06282723, 0.81151832, 0.        ,\n",
              "        0.05759162, 0.        , 0.02617801, 0.01570681, 0.01570681],\n",
              "       [0.0046729 , 0.0046729 , 0.02336449, 0.0046729 , 0.85046729,\n",
              "        0.        , 0.01401869, 0.0046729 , 0.01869159, 0.07476636],\n",
              "       [0.00555556, 0.00555556, 0.02222222, 0.05      , 0.03888889,\n",
              "        0.73333333, 0.01666667, 0.01666667, 0.07777778, 0.03333333],\n",
              "       [0.005     , 0.015     , 0.015     , 0.        , 0.03      ,\n",
              "        0.025     , 0.9       , 0.        , 0.01      , 0.        ],\n",
              "       [0.00892857, 0.00892857, 0.01339286, 0.01339286, 0.02678571,\n",
              "        0.        , 0.        , 0.85714286, 0.00892857, 0.0625    ],\n",
              "       [0.00581395, 0.04069767, 0.02906977, 0.01744186, 0.        ,\n",
              "        0.04651163, 0.        , 0.01162791, 0.80232558, 0.04651163],\n",
              "       [0.01904762, 0.        , 0.01428571, 0.01904762, 0.04761905,\n",
              "        0.00952381, 0.        , 0.06666667, 0.        , 0.82380952]])"
            ]
          },
          "execution_count": 32,
          "metadata": {},
          "output_type": "execute_result"
        }
      ],
      "source": [
        "norm_conf_mx = conf_mx / row_sums\n",
        "norm_conf_mx"
      ]
    },
    {
      "cell_type": "markdown",
      "id": "n774fuTCOIqX",
      "metadata": {
        "id": "n774fuTCOIqX"
      },
      "source": [
        "#### Now fill the diagonal with zeroes to keep only the errors"
      ]
    },
    {
      "cell_type": "code",
      "execution_count": 33,
      "id": "fNL4RVOC3u9u",
      "metadata": {
        "id": "fNL4RVOC3u9u"
      },
      "outputs": [],
      "source": [
        "np.fill_diagonal(norm_conf_mx, 0)"
      ]
    },
    {
      "cell_type": "code",
      "execution_count": 34,
      "id": "QfCOELXZORvZ",
      "metadata": {
        "colab": {
          "base_uri": "https://localhost:8080/",
          "height": 293
        },
        "id": "QfCOELXZORvZ",
        "outputId": "7b9eaa7e-8eec-4ef8-cb64-48ee774c2f80"
      },
      "outputs": [
        {
          "data": {
            "text/plain": [
              "<matplotlib.image.AxesImage at 0x7f82b6102110>"
            ]
          },
          "execution_count": 34,
          "metadata": {},
          "output_type": "execute_result"
        },
        {
          "data": {
            "image/png": "[encoded data removed]",
            "text/plain": [
              "<Figure size 288x288 with 1 Axes>"
            ]
          },
          "metadata": {
            "needs_background": "light"
          },
          "output_type": "display_data"
        }
      ],
      "source": [
        "plt.matshow(norm_conf_mx, cmap=plt.cm.gray)"
      ]
    },
    {
      "cell_type": "code",
      "execution_count": 35,
      "id": "sTqHUzpwPF8s",
      "metadata": {
        "id": "sTqHUzpwPF8s"
      },
      "outputs": [],
      "source": [
        "#The column 8 has many brighter rows which means that the many of the 8s have been misclassified "
      ]
    },
    {
      "cell_type": "code",
      "execution_count": 36,
      "id": "vGyX47MOQLUI",
      "metadata": {
        "colab": {
          "base_uri": "https://localhost:8080/",
          "height": 279
        },
        "id": "vGyX47MOQLUI",
        "outputId": "dac02ade-57c4-4b4b-e04c-15b2f599de7e"
      },
      "outputs": [
        {
          "data": {
            "image/png": "[encoded data removed]",
            "text/plain": [
              "<Figure size 432x288 with 2 Axes>"
            ]
          },
          "metadata": {
            "needs_background": "light"
          },
          "output_type": "display_data"
        }
      ],
      "source": [
        "from sklearn.metrics import ConfusionMatrixDisplay\n",
        "conf_matrix_disp = ConfusionMatrixDisplay.from_predictions(y_train_pred, y_train[:2000])"
      ]
    },
    {
      "cell_type": "code",
      "execution_count": 37,
      "id": "yj1TPOHcVgtZ",
      "metadata": {
        "id": "yj1TPOHcVgtZ"
      },
      "outputs": [],
      "source": [
        "#As in the above image we can clearly see that the number of 8 s that have been missclassified is pretty large"
      ]
    },
    {
      "cell_type": "code",
      "execution_count": 38,
      "id": "PJX8Oy5MV1MI",
      "metadata": {
        "colab": {
          "base_uri": "https://localhost:8080/",
          "height": 279
        },
        "id": "PJX8Oy5MV1MI",
        "outputId": "0ab834b2-caec-433c-bd4b-d62d262813f6"
      },
      "outputs": [
        {
          "data": {
            "image/png": "[encoded data removed]",
            "text/plain": [
              "<Figure size 432x288 with 2 Axes>"
            ]
          },
          "metadata": {
            "needs_background": "light"
          },
          "output_type": "display_data"
        }
      ],
      "source": [
        "#Now we will show it in percentage\n",
        "\n",
        "plt.rc('font', size=10)  #sets the fontsize for all\n",
        "ConfusionMatrixDisplay.from_predictions(y_train[:2000],  y_train_pred, normalize='true', values_format=\".0%\")\n",
        "plt.show()"
      ]
    },
    {
      "cell_type": "code",
      "execution_count": 39,
      "id": "PD-lWR5EWFBZ",
      "metadata": {
        "colab": {
          "base_uri": "https://localhost:8080/",
          "height": 282
        },
        "id": "PD-lWR5EWFBZ",
        "outputId": "3ed06c16-5850-4cf5-a67d-9486caddae83"
      },
      "outputs": [
        {
          "data": {
            "image/png": "[encoded data removed]",
            "text/plain": [
              "<Figure size 432x288 with 2 Axes>"
            ]
          },
          "metadata": {
            "needs_background": "light"
          },
          "output_type": "display_data"
        }
      ],
      "source": [
        "#Now lets plot for which the predictions were erroneous\n",
        "\n",
        "sample_weight = (y_train_pred != y_train[:2000])\n",
        "\n",
        "ConfusionMatrixDisplay.from_predictions(y_train[:2000], y_train_pred, sample_weight=sample_weight,normalize='true',values_format=\".0%\")\n",
        "plt.show()\n",
        "\n",
        "\n",
        "#This makes clear many numbers were misclassified as 8s"
      ]
    },
    {
      "cell_type": "code",
      "execution_count": 40,
      "id": "PTjdqMgXZRiZ",
      "metadata": {
        "colab": {
          "base_uri": "https://localhost:8080/",
          "height": 325
        },
        "id": "PTjdqMgXZRiZ",
        "outputId": "4509687d-ce3d-408b-bc11-4b487c120ab0"
      },
      "outputs": [
        {
          "data": {
            "image/png": "[encoded data removed]",
            "text/plain": [
              "<Figure size 1368x432 with 4 Axes>"
            ]
          },
          "metadata": {
            "needs_background": "light"
          },
          "output_type": "display_data"
        }
      ],
      "source": [
        "#Lets put all the plots in a couple of figures for the book:\n",
        "\n",
        "fig, axs = plt.subplots(nrows=1, ncols=2, figsize=(19,6))\n",
        "plt.rc('font',size= 9)\n",
        "ConfusionMatrixDisplay.from_predictions(y_train[:2000],y_train_pred[:2000], ax=axs[0])\n",
        "axs[0].set_title(\"Confusion Matrix\")\n",
        "plt.rc('font', size=10)\n",
        "ConfusionMatrixDisplay.from_predictions(y_train[:2000], y_train_pred[:2000], ax=axs[1], normalize='true', values_format='.0%')\n",
        "axs[1].set_title('CM Normalized by row')\n",
        "plt.show()"
      ]
    },
    {
      "cell_type": "code",
      "execution_count": 41,
      "id": "CUPlZ5RHq3QA",
      "metadata": {
        "colab": {
          "base_uri": "https://localhost:8080/",
          "height": 325
        },
        "id": "CUPlZ5RHq3QA",
        "outputId": "d54e34b0-8902-40f2-e68e-835b7f7ef00e"
      },
      "outputs": [
        {
          "data": {
            "image/png": "[encoded data removed]",
            "text/plain": [
              "<Figure size 1368x432 with 4 Axes>"
            ]
          },
          "metadata": {
            "needs_background": "light"
          },
          "output_type": "display_data"
        }
      ],
      "source": [
        "#Plot of errors by row\n",
        "\n",
        "fig, axs = plt.subplots(nrows=1, ncols=2, figsize=(19,6))\n",
        "plt.rc('font',size=9)\n",
        "ConfusionMatrixDisplay.from_predictions(y_train[:2000], y_train_pred,ax = axs[0], sample_weight=sample_weight,normalize='true', values_format='.0%')\n",
        "axs[0].set_title(\"errors normalized by row\")\n",
        "\n",
        "plt.rc('font', size=10)\n",
        "ConfusionMatrixDisplay.from_predictions(y_train[:2000], y_train_pred, ax=axs[1], normalize='pred', sample_weight=sample_weight,values_format='.0%')\n",
        "axs[1].set_title(\"Errors normalized by columns\")\n",
        "\n",
        "plt.show()\n",
        "plt.rc('font', size=12)"
      ]
    },
    {
      "cell_type": "code",
      "execution_count": 46,
      "id": "nfz8jAgHsEhr",
      "metadata": {
        "colab": {
          "base_uri": "https://localhost:8080/"
        },
        "id": "nfz8jAgHsEhr",
        "outputId": "a096494b-7c59-4d63-daa8-23aacdca6f93"
      },
      "outputs": [
        {
          "data": {
            "text/plain": [
              "array([[0., 0., 0., ..., 0., 0., 0.],\n",
              "       [0., 0., 0., ..., 0., 0., 0.],\n",
              "       [0., 0., 0., ..., 0., 0., 0.],\n",
              "       ...,\n",
              "       [0., 0., 0., ..., 0., 0., 0.],\n",
              "       [0., 0., 0., ..., 0., 0., 0.],\n",
              "       [0., 0., 0., ..., 0., 0., 0.]])"
            ]
          },
          "execution_count": 46,
          "metadata": {},
          "output_type": "execute_result"
        }
      ],
      "source": [
        "X_train[y_train == 5]"
      ]
    },
    {
      "cell_type": "code",
      "execution_count": 69,
      "id": "hT_mjv9ax6X1",
      "metadata": {
        "colab": {
          "base_uri": "https://localhost:8080/",
          "height": 272
        },
        "id": "hT_mjv9ax6X1",
        "outputId": "e8201e7f-9d60-4bee-a41c-df1441c7c2fb"
      },
      "outputs": [
        {
          "data": {
            "text/plain": [
              "(-0.5, 27.5, 27.5, -0.5)"
            ]
          },
          "execution_count": 69,
          "metadata": {},
          "output_type": "execute_result"
        },
        {
          "data": {
            "image/png": "[encoded data removed]",
            "text/plain": [
              "<Figure size 288x288 with 1 Axes>"
            ]
          },
          "metadata": {
            "needs_background": "light"
          },
          "output_type": "display_data"
        }
      ],
      "source": [
        "cl_a, cl_b  = 3, 5\n",
        "X_aa = X_train[:2000][(y_train[:2000] == cl_a) & (y_train_pred == cl_a)]\n",
        "X_ab = X_train[:2000][(y_train[:2000] == cl_a) & (y_train_pred == cl_b)]\n",
        "X_ba = X_train[:2000][(y_train[:2000] == cl_b) & (y_train_pred == cl_a)]\n",
        "X_bb = X_train[:2000][(y_train[:2000] == cl_b) & (y_train_pred == cl_b)]\n",
        "plt.matshow(X_bb[1].reshape(28,28), cmap='binary')\n",
        "plt.axis('off')"
      ]
    },
    {
      "cell_type": "code",
      "execution_count": 70,
      "id": "1u5mb1lKyvJy",
      "metadata": {
        "colab": {
          "base_uri": "https://localhost:8080/"
        },
        "id": "1u5mb1lKyvJy",
        "outputId": "248c17eb-5159-48e8-fe47-841f2ea6cc45"
      },
      "outputs": [
        {
          "data": {
            "text/plain": [
              "array([[0., 0., 0., ..., 0., 0., 0.],\n",
              "       [0., 0., 0., ..., 0., 0., 0.],\n",
              "       [0., 0., 0., ..., 0., 0., 0.],\n",
              "       ...,\n",
              "       [0., 0., 0., ..., 0., 0., 0.],\n",
              "       [0., 0., 0., ..., 0., 0., 0.],\n",
              "       [0., 0., 0., ..., 0., 0., 0.]])"
            ]
          },
          "execution_count": 70,
          "metadata": {},
          "output_type": "execute_result"
        }
      ],
      "source": [
        "#creating a figure\n",
        "\n",
        "X_ba"
      ]
    },
    {
      "cell_type": "code",
      "execution_count": 74,
      "id": "_PMS03bx1rsh",
      "metadata": {
        "colab": {
          "base_uri": "https://localhost:8080/",
          "height": 80
        },
        "id": "_PMS03bx1rsh",
        "outputId": "60a58b06-0d23-4134-c40e-831445ab5730"
      },
      "outputs": [
        {
          "data": {
            "text/plain": [
              "<matplotlib.image.AxesImage at 0x7f830eb6a810>"
            ]
          },
          "execution_count": 74,
          "metadata": {},
          "output_type": "execute_result"
        },
        {
          "data": {
            "image/png": "[encoded data removed]",
            "text/plain": [
              "<Figure size 1152x144 with 1 Axes>"
            ]
          },
          "metadata": {
            "needs_background": "light"
          },
          "output_type": "display_data"
        }
      ],
      "source": [
        "plt.matshow(X_ba[:5*5])"
      ]
    },
    {
      "cell_type": "code",
      "execution_count": 71,
      "id": "On8wO5j0000z",
      "metadata": {
        "colab": {
          "base_uri": "https://localhost:8080/"
        },
        "id": "On8wO5j0000z",
        "outputId": "5a037d9b-9512-4c52-f21d-af28987335a3"
      },
      "outputs": [
        {
          "name": "stdout",
          "output_type": "stream",
          "text": [
            "0\n",
            "1\n",
            "0\n",
            "1\n"
          ]
        }
      ],
      "source": [
        "for images, (label_col, label_row) in [(X_ba, (0, 0)), (X_bb, (1, 0)),(X_aa, (0, 1)), (X_ab, (1, 1))]\n",
        "\n",
        "#refer the handson_ml3 repo for more "
      ]
    },
    {
      "cell_type": "markdown",
      "id": "0Ah5_5kP4XFa",
      "metadata": {
        "id": "0Ah5_5kP4XFa"
      },
      "source": [
        "## Multilabel Classification"
      ]
    },
    {
      "cell_type": "code",
      "execution_count": 75,
      "id": "cS4YaRq71fxf",
      "metadata": {
        "id": "cS4YaRq71fxf"
      },
      "outputs": [],
      "source": [
        "#classification system that outputs multiple binary tags are called multilabel classiification system"
      ]
    },
    {
      "cell_type": "code",
      "execution_count": 6,
      "id": "6QQIlA9u4wwM",
      "metadata": {
        "id": "6QQIlA9u4wwM"
      },
      "outputs": [
        {
          "name": "stdout",
          "output_type": "stream",
          "text": [
            "\u001b[0;31mType:\u001b[0m        CClass\n",
            "\u001b[0;31mString form:\u001b[0m <numpy.lib.index_tricks.CClass object at 0x7fa6d5849f50>\n",
            "\u001b[0;31mLength:\u001b[0m      0\n",
            "\u001b[0;31mFile:\u001b[0m        ~/miniconda3/envs/pylatest/lib/python3.11/site-packages/numpy/lib/index_tricks.py\n",
            "\u001b[0;31mDocstring:\u001b[0m  \n",
            "Translates slice objects to concatenation along the second axis.\n",
            "\n",
            "This is short-hand for ``np.r_['-1,2,0', index expression]``, which is\n",
            "useful because of its common occurrence. In particular, arrays will be\n",
            "stacked along their last axis after being upgraded to at least 2-D with\n",
            "1's post-pended to the shape (column vectors made out of 1-D arrays).\n",
            "\n",
            "See Also\n",
            "--------\n",
            "column_stack : Stack 1-D arrays as columns into a 2-D array.\n",
            "r_ : For more detailed documentation.\n",
            "\n",
            "Examples\n",
            "--------\n",
            ">>> np.c_[np.array([1,2,3]), np.array([4,5,6])]\n",
            "array([[1, 4],\n",
            "       [2, 5],\n",
            "       [3, 6]])\n",
            ">>> np.c_[np.array([[1,2,3]]), 0, 0, np.array([[4,5,6]])]\n",
            "array([[1, 2, 3, ..., 4, 5, 6]])\n"
          ]
        }
      ],
      "source": [
        "np.c_?"
      ]
    },
    {
      "cell_type": "code",
      "execution_count": 15,
      "id": "sD3WVFvE5LiV",
      "metadata": {
        "colab": {
          "base_uri": "https://localhost:8080/"
        },
        "id": "sD3WVFvE5LiV",
        "outputId": "cb8103e1-e47f-4b17-b6b9-d0629230e48a"
      },
      "outputs": [
        {
          "data": {
            "text/html": [
              "<style>#sk-container-id-1 {color: black;background-color: white;}#sk-container-id-1 pre{padding: 0;}#sk-container-id-1 div.sk-toggleable {background-color: white;}#sk-container-id-1 label.sk-toggleable__label {cursor: pointer;display: block;width: 100%;margin-bottom: 0;padding: 0.3em;box-sizing: border-box;text-align: center;}#sk-container-id-1 label.sk-toggleable__label-arrow:before {content: \"▸\";float: left;margin-right: 0.25em;color: #696969;}#sk-container-id-1 label.sk-toggleable__label-arrow:hover:before {color: black;}#sk-container-id-1 div.sk-estimator:hover label.sk-toggleable__label-arrow:before {color: black;}#sk-container-id-1 div.sk-toggleable__content {max-height: 0;max-width: 0;overflow: hidden;text-align: left;background-color: #f0f8ff;}#sk-container-id-1 div.sk-toggleable__content pre {margin: 0.2em;color: black;border-radius: 0.25em;background-color: #f0f8ff;}#sk-container-id-1 input.sk-toggleable__control:checked~div.sk-toggleable__content {max-height: 200px;max-width: 100%;overflow: auto;}#sk-container-id-1 input.sk-toggleable__control:checked~label.sk-toggleable__label-arrow:before {content: \"▾\";}#sk-container-id-1 div.sk-estimator input.sk-toggleable__control:checked~label.sk-toggleable__label {background-color: #d4ebff;}#sk-container-id-1 div.sk-label input.sk-toggleable__control:checked~label.sk-toggleable__label {background-color: #d4ebff;}#sk-container-id-1 input.sk-hidden--visually {border: 0;clip: rect(1px 1px 1px 1px);clip: rect(1px, 1px, 1px, 1px);height: 1px;margin: -1px;overflow: hidden;padding: 0;position: absolute;width: 1px;}#sk-container-id-1 div.sk-estimator {font-family: monospace;background-color: #f0f8ff;border: 1px dotted black;border-radius: 0.25em;box-sizing: border-box;margin-bottom: 0.5em;}#sk-container-id-1 div.sk-estimator:hover {background-color: #d4ebff;}#sk-container-id-1 div.sk-parallel-item::after {content: \"\";width: 100%;border-bottom: 1px solid gray;flex-grow: 1;}#sk-container-id-1 div.sk-label:hover label.sk-toggleable__label {background-color: #d4ebff;}#sk-container-id-1 div.sk-serial::before {content: \"\";position: absolute;border-left: 1px solid gray;box-sizing: border-box;top: 0;bottom: 0;left: 50%;z-index: 0;}#sk-container-id-1 div.sk-serial {display: flex;flex-direction: column;align-items: center;background-color: white;padding-right: 0.2em;padding-left: 0.2em;position: relative;}#sk-container-id-1 div.sk-item {position: relative;z-index: 1;}#sk-container-id-1 div.sk-parallel {display: flex;align-items: stretch;justify-content: center;background-color: white;position: relative;}#sk-container-id-1 div.sk-item::before, #sk-container-id-1 div.sk-parallel-item::before {content: \"\";position: absolute;border-left: 1px solid gray;box-sizing: border-box;top: 0;bottom: 0;left: 50%;z-index: -1;}#sk-container-id-1 div.sk-parallel-item {display: flex;flex-direction: column;z-index: 1;position: relative;background-color: white;}#sk-container-id-1 div.sk-parallel-item:first-child::after {align-self: flex-end;width: 50%;}#sk-container-id-1 div.sk-parallel-item:last-child::after {align-self: flex-start;width: 50%;}#sk-container-id-1 div.sk-parallel-item:only-child::after {width: 0;}#sk-container-id-1 div.sk-dashed-wrapped {border: 1px dashed gray;margin: 0 0.4em 0.5em 0.4em;box-sizing: border-box;padding-bottom: 0.4em;background-color: white;}#sk-container-id-1 div.sk-label label {font-family: monospace;font-weight: bold;display: inline-block;line-height: 1.2em;}#sk-container-id-1 div.sk-label-container {text-align: center;}#sk-container-id-1 div.sk-container {/* jupyter's `normalize.less` sets `[hidden] { display: none; }` but bootstrap.min.css set `[hidden] { display: none !important; }` so we also need the `!important` here to be able to override the default hidden behavior on the sphinx rendered scikit-learn.org. See: https://github.com/scikit-learn/scikit-learn/issues/21755 */display: inline-block !important;position: relative;}#sk-container-id-1 div.sk-text-repr-fallback {display: none;}</style><div id=\"sk-container-id-1\" class=\"sk-top-container\"><div class=\"sk-text-repr-fallback\"><pre>KNeighborsClassifier()</pre><b>In a Jupyter environment, please rerun this cell to show the HTML representation or trust the notebook. <br />On GitHub, the HTML representation is unable to render, please try loading this page with nbviewer.org.</b></div><div class=\"sk-container\" hidden><div class=\"sk-item\"><div class=\"sk-estimator sk-toggleable\"><input class=\"sk-toggleable__control sk-hidden--visually\" id=\"sk-estimator-id-1\" type=\"checkbox\" checked><label for=\"sk-estimator-id-1\" class=\"sk-toggleable__label sk-toggleable__label-arrow\">KNeighborsClassifier</label><div class=\"sk-toggleable__content\"><pre>KNeighborsClassifier()</pre></div></div></div></div></div>"
            ],
            "text/plain": [
              "KNeighborsClassifier()"
            ]
          },
          "execution_count": 15,
          "metadata": {},
          "output_type": "execute_result"
        }
      ],
      "source": [
        "from sklearn.neighbors import KNeighborsClassifier\n",
        "#a particular number can be odd or even\n",
        "#this selects the even and the odds and concats by the last axis\n",
        "#hence when a number at an index is even it shows[True, False]\n",
        "#hence a binary classifier\n",
        "y_train_large = (y_train >= 7)\n",
        "y_train_odd = (y_train % 2 == 1)\n",
        "y_multilabel = np.c_[y_train_large, y_train_odd]\n",
        "\n",
        "knn_clf  = KNeighborsClassifier()\n",
        "knn_clf.fit(X_train, y_multilabel)\n"
      ]
    },
    {
      "cell_type": "code",
      "execution_count": 16,
      "id": "Q4dq5V_P6D8s",
      "metadata": {
        "colab": {
          "base_uri": "https://localhost:8080/"
        },
        "id": "Q4dq5V_P6D8s",
        "outputId": "b5589f75-93af-4abd-a247-b7b31e55e2c6"
      },
      "outputs": [
        {
          "data": {
            "text/plain": [
              "array([[False,  True]])"
            ]
          },
          "execution_count": 16,
          "metadata": {},
          "output_type": "execute_result"
        }
      ],
      "source": [
        "knn_clf.predict([some_digit])"
      ]
    },
    {
      "cell_type": "code",
      "execution_count": 17,
      "id": "7IKwSHLc7Rwl",
      "metadata": {
        "colab": {
          "base_uri": "https://localhost:8080/",
          "height": 272
        },
        "id": "7IKwSHLc7Rwl",
        "outputId": "9c799d9a-f950-47b9-e67c-83ba4f776ace"
      },
      "outputs": [
        {
          "data": {
            "text/plain": [
              "(-0.5, 27.5, 27.5, -0.5)"
            ]
          },
          "execution_count": 17,
          "metadata": {},
          "output_type": "execute_result"
        },
        {
          "data": {
            "image/png": "[encoded data removed]",
            "text/plain": [
              "<Figure size 480x480 with 1 Axes>"
            ]
          },
          "metadata": {},
          "output_type": "display_data"
        }
      ],
      "source": [
        "plt.matshow(some_digit.reshape(28,28))\n",
        "plt.axis('off')\n",
        "\n",
        "#since the some_digit is 5 the prediction is true\n"
      ]
    },
    {
      "cell_type": "code",
      "execution_count": 18,
      "id": "p-1wH4XC7egT",
      "metadata": {
        "id": "p-1wH4XC7egT"
      },
      "outputs": [],
      "source": [
        "#Evaluating the model\n",
        "\n",
        "from sklearn.model_selection import cross_val_predict\n",
        "from sklearn.metrics import f1_score\n",
        "\n",
        "y_train_knn_pred = cross_val_predict(knn_clf, X_train, y_multilabel, cv=3)"
      ]
    },
    {
      "cell_type": "code",
      "execution_count": 19,
      "id": "9ef64973",
      "metadata": {},
      "outputs": [
        {
          "data": {
            "text/plain": [
              "array([[False,  True],\n",
              "       [False, False],\n",
              "       [False, False],\n",
              "       ...,\n",
              "       [False,  True],\n",
              "       [False, False],\n",
              "       [ True, False]])"
            ]
          },
          "execution_count": 19,
          "metadata": {},
          "output_type": "execute_result"
        }
      ],
      "source": [
        "y_train_knn_pred"
      ]
    },
    {
      "cell_type": "code",
      "execution_count": 20,
      "id": "1f22e77d",
      "metadata": {},
      "outputs": [
        {
          "data": {
            "text/plain": [
              "0.976410265560605"
            ]
          },
          "execution_count": 20,
          "metadata": {},
          "output_type": "execute_result"
        }
      ],
      "source": [
        "from sklearn.metrics import f1_score\n",
        "f1_score(y_multilabel, y_train_knn_pred, average='macro')"
      ]
    },
    {
      "cell_type": "markdown",
      "id": "c8250c1b",
      "metadata": {},
      "source": [
        "### Multioutput Classification"
      ]
    },
    {
      "cell_type": "code",
      "execution_count": 25,
      "id": "e2274ad9",
      "metadata": {},
      "outputs": [
        {
          "data": {
            "text/plain": [
              "(70000, 784)"
            ]
          },
          "execution_count": 25,
          "metadata": {},
          "output_type": "execute_result"
        }
      ],
      "source": [
        "mnist.data.shape"
      ]
    },
    {
      "cell_type": "code",
      "execution_count": 27,
      "id": "29c0e46d",
      "metadata": {},
      "outputs": [
        {
          "data": {
            "text/plain": [
              "(60000, 784)"
            ]
          },
          "execution_count": 27,
          "metadata": {},
          "output_type": "execute_result"
        }
      ],
      "source": [
        "X_train.shape"
      ]
    },
    {
      "cell_type": "code",
      "execution_count": 28,
      "id": "39f0ccdd",
      "metadata": {},
      "outputs": [],
      "source": [
        "#Multioutput-Multiclass classification is simply a generalization of multilabel classification where each label can be multiclass(i.e., it can have more than two possible values).\n",
        "\n",
        "\n",
        "#For example in X_train for a digit each pixel has a value and can range from 0-255(because the image is b/w otherwise there would have been 0-255*3 for RGB)"
      ]
    },
    {
      "cell_type": "code",
      "execution_count": 52,
      "id": "afe663b5",
      "metadata": {},
      "outputs": [
        {
          "data": {
            "text/plain": [
              "(-0.5, 27.5, 27.5, -0.5)"
            ]
          },
          "execution_count": 52,
          "metadata": {},
          "output_type": "execute_result"
        },
        {
          "data": {
            "image/png": "[encoded data removed]",
            "text/plain": [
              "<Figure size 1200x900 with 2 Axes>"
            ]
          },
          "metadata": {},
          "output_type": "display_data"
        }
      ],
      "source": [
        "#Now we will add some noise to the images to make it slightly blur and train it to display clear images\n",
        "\n",
        "\n",
        "#So in this case the target will be X_train cos we want to clarify the image to the state of X_train\n",
        "\n",
        "import matplotlib.pyplot as plt\n",
        "%matplotlib inline\n",
        "import numpy as np\n",
        "\n",
        "noise = np.random.randint(0,255,(len(X_train), 784))\n",
        "#plot of the noise\n",
        "fig, axs = plt.subplots(nrows=1, ncols=2,figsize=(12,9))\n",
        "axs[0].matshow(noise[0].reshape(28,28),cmap='binary')\n",
        "plt.axis('off')\n",
        "#this noise will be addes to this image\n",
        "\n",
        "axs[1].matshow(X_train[0].reshape(28,28),cmap='binary')\n",
        "plt.axis('off')\n"
      ]
    },
    {
      "cell_type": "code",
      "execution_count": 58,
      "id": "abac78d2",
      "metadata": {},
      "outputs": [
        {
          "data": {
            "text/plain": [
              "<matplotlib.image.AxesImage at 0x7f152d2932d0>"
            ]
          },
          "execution_count": 58,
          "metadata": {},
          "output_type": "execute_result"
        },
        {
          "data": {
            "image/png": "[encoded data removed]",
            "text/plain": [
              "<Figure size 480x480 with 1 Axes>"
            ]
          },
          "metadata": {},
          "output_type": "display_data"
        }
      ],
      "source": [
        "X_train_mod = X_train + noise\n",
        "plt.matshow(X_train_mod[0].reshape(28,28), cmap='binary')\n",
        "#shows the noised image"
      ]
    },
    {
      "cell_type": "code",
      "execution_count": 60,
      "id": "fd065756",
      "metadata": {},
      "outputs": [],
      "source": [
        "#now we will modify the test data\n",
        "noise = np.random.randint(0,100, (len(X_test), 784)) #modifying according to the shape\n",
        "X_test_mod = X_test + noise"
      ]
    },
    {
      "cell_type": "code",
      "execution_count": null,
      "id": "0070ee6c",
      "metadata": {},
      "outputs": [],
      "source": [
        "#also modify the target varibles\n",
        "\n",
        "y_train_mod = X_train\n",
        "y_test_mod = X_test"
      ]
    },
    {
      "cell_type": "markdown",
      "id": "87346e64",
      "metadata": {},
      "source": [
        "### Fitting the model with a KNN classifier\n"
      ]
    },
    {
      "cell_type": "code",
      "execution_count": 61,
      "id": "b19c788f",
      "metadata": {},
      "outputs": [
        {
          "data": {
            "text/html": [
              "<style>#sk-container-id-2 {color: black;background-color: white;}#sk-container-id-2 pre{padding: 0;}#sk-container-id-2 div.sk-toggleable {background-color: white;}#sk-container-id-2 label.sk-toggleable__label {cursor: pointer;display: block;width: 100%;margin-bottom: 0;padding: 0.3em;box-sizing: border-box;text-align: center;}#sk-container-id-2 label.sk-toggleable__label-arrow:before {content: \"▸\";float: left;margin-right: 0.25em;color: #696969;}#sk-container-id-2 label.sk-toggleable__label-arrow:hover:before {color: black;}#sk-container-id-2 div.sk-estimator:hover label.sk-toggleable__label-arrow:before {color: black;}#sk-container-id-2 div.sk-toggleable__content {max-height: 0;max-width: 0;overflow: hidden;text-align: left;background-color: #f0f8ff;}#sk-container-id-2 div.sk-toggleable__content pre {margin: 0.2em;color: black;border-radius: 0.25em;background-color: #f0f8ff;}#sk-container-id-2 input.sk-toggleable__control:checked~div.sk-toggleable__content {max-height: 200px;max-width: 100%;overflow: auto;}#sk-container-id-2 input.sk-toggleable__control:checked~label.sk-toggleable__label-arrow:before {content: \"▾\";}#sk-container-id-2 div.sk-estimator input.sk-toggleable__control:checked~label.sk-toggleable__label {background-color: #d4ebff;}#sk-container-id-2 div.sk-label input.sk-toggleable__control:checked~label.sk-toggleable__label {background-color: #d4ebff;}#sk-container-id-2 input.sk-hidden--visually {border: 0;clip: rect(1px 1px 1px 1px);clip: rect(1px, 1px, 1px, 1px);height: 1px;margin: -1px;overflow: hidden;padding: 0;position: absolute;width: 1px;}#sk-container-id-2 div.sk-estimator {font-family: monospace;background-color: #f0f8ff;border: 1px dotted black;border-radius: 0.25em;box-sizing: border-box;margin-bottom: 0.5em;}#sk-container-id-2 div.sk-estimator:hover {background-color: #d4ebff;}#sk-container-id-2 div.sk-parallel-item::after {content: \"\";width: 100%;border-bottom: 1px solid gray;flex-grow: 1;}#sk-container-id-2 div.sk-label:hover label.sk-toggleable__label {background-color: #d4ebff;}#sk-container-id-2 div.sk-serial::before {content: \"\";position: absolute;border-left: 1px solid gray;box-sizing: border-box;top: 0;bottom: 0;left: 50%;z-index: 0;}#sk-container-id-2 div.sk-serial {display: flex;flex-direction: column;align-items: center;background-color: white;padding-right: 0.2em;padding-left: 0.2em;position: relative;}#sk-container-id-2 div.sk-item {position: relative;z-index: 1;}#sk-container-id-2 div.sk-parallel {display: flex;align-items: stretch;justify-content: center;background-color: white;position: relative;}#sk-container-id-2 div.sk-item::before, #sk-container-id-2 div.sk-parallel-item::before {content: \"\";position: absolute;border-left: 1px solid gray;box-sizing: border-box;top: 0;bottom: 0;left: 50%;z-index: -1;}#sk-container-id-2 div.sk-parallel-item {display: flex;flex-direction: column;z-index: 1;position: relative;background-color: white;}#sk-container-id-2 div.sk-parallel-item:first-child::after {align-self: flex-end;width: 50%;}#sk-container-id-2 div.sk-parallel-item:last-child::after {align-self: flex-start;width: 50%;}#sk-container-id-2 div.sk-parallel-item:only-child::after {width: 0;}#sk-container-id-2 div.sk-dashed-wrapped {border: 1px dashed gray;margin: 0 0.4em 0.5em 0.4em;box-sizing: border-box;padding-bottom: 0.4em;background-color: white;}#sk-container-id-2 div.sk-label label {font-family: monospace;font-weight: bold;display: inline-block;line-height: 1.2em;}#sk-container-id-2 div.sk-label-container {text-align: center;}#sk-container-id-2 div.sk-container {/* jupyter's `normalize.less` sets `[hidden] { display: none; }` but bootstrap.min.css set `[hidden] { display: none !important; }` so we also need the `!important` here to be able to override the default hidden behavior on the sphinx rendered scikit-learn.org. See: https://github.com/scikit-learn/scikit-learn/issues/21755 */display: inline-block !important;position: relative;}#sk-container-id-2 div.sk-text-repr-fallback {display: none;}</style><div id=\"sk-container-id-2\" class=\"sk-top-container\"><div class=\"sk-text-repr-fallback\"><pre>KNeighborsClassifier()</pre><b>In a Jupyter environment, please rerun this cell to show the HTML representation or trust the notebook. <br />On GitHub, the HTML representation is unable to render, please try loading this page with nbviewer.org.</b></div><div class=\"sk-container\" hidden><div class=\"sk-item\"><div class=\"sk-estimator sk-toggleable\"><input class=\"sk-toggleable__control sk-hidden--visually\" id=\"sk-estimator-id-2\" type=\"checkbox\" checked><label for=\"sk-estimator-id-2\" class=\"sk-toggleable__label sk-toggleable__label-arrow\">KNeighborsClassifier</label><div class=\"sk-toggleable__content\"><pre>KNeighborsClassifier()</pre></div></div></div></div></div>"
            ],
            "text/plain": [
              "KNeighborsClassifier()"
            ]
          },
          "execution_count": 61,
          "metadata": {},
          "output_type": "execute_result"
        }
      ],
      "source": [
        "knn_clf.fit(X_train_mod, X_train)"
      ]
    },
    {
      "cell_type": "code",
      "execution_count": 66,
      "id": "f9676c67",
      "metadata": {},
      "outputs": [],
      "source": [
        "pred = knn_clf.predict([X_test_mod[1]])"
      ]
    },
    {
      "cell_type": "code",
      "execution_count": 74,
      "id": "64ca8b21",
      "metadata": {},
      "outputs": [],
      "source": [
        "def plot_digit(data, index=0):\n",
        "    data = data[index].reshape(28,28)\n",
        "    plt.matshow(data, cmap='binary')\n",
        "    plt.axis('off')\n",
        "    plt.show()"
      ]
    },
    {
      "cell_type": "code",
      "execution_count": 82,
      "id": "d7b2368d",
      "metadata": {},
      "outputs": [
        {
          "data": {
            "image/png": "[encoded data removed]",
            "text/plain": [
              "<Figure size 480x480 with 1 Axes>"
            ]
          },
          "metadata": {},
          "output_type": "display_data"
        },
        {
          "data": {
            "image/png": "[encoded data removed]",
            "text/plain": [
              "<Figure size 480x480 with 1 Axes>"
            ]
          },
          "metadata": {},
          "output_type": "display_data"
        },
        {
          "data": {
            "text/plain": [
              "(None, None)"
            ]
          },
          "execution_count": 82,
          "metadata": {},
          "output_type": "execute_result"
        }
      ],
      "source": [
        "\n",
        "plot_digit(X_test_mod, 1),plot_digit(pred)"
      ]
    },
    {
      "cell_type": "code",
      "execution_count": 83,
      "id": "787c7375",
      "metadata": {},
      "outputs": [],
      "source": [
        "#almost correctly predicted"
      ]
    }
  ],
  "metadata": {
    "colab": {
      "include_colab_link": true,
      "provenance": []
    },
    "kernelspec": {
      "display_name": "pylatest",
      "language": "python",
      "name": "python3"
    },
    "language_info": {
      "codemirror_mode": {
        "name": "ipython",
        "version": 3
      },
      "file_extension": ".py",
      "mimetype": "text/x-python",
      "name": "python",
      "nbconvert_exporter": "python",
      "pygments_lexer": "ipython3",
      "version": "3.11.0"
    },
    "vscode": {
      "interpreter": {
        "hash": "5ee8ddc627afdb3e464b957ff205c0c7ba35df3a73d146152ad7c4b158eb19da"
      }
    }
  },
  "nbformat": 4,
  "nbformat_minor": 5
}
